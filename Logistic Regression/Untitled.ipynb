{
 "cells": [
  {
   "cell_type": "code",
   "execution_count": null,
   "id": "09b15e98",
   "metadata": {},
   "outputs": [],
   "source": [
    "import pandas pd"
   ]
  },
  {
   "cell_type": "code",
   "execution_count": null,
   "id": "64fbf02d",
   "metadata": {},
   "outputs": [],
   "source": []
  }
 ],
 "metadata": {
  "kernelspec": {
   "display_name": "Python 3",
   "language": "python",
   "name": "python3"
  }
 },
 "nbformat": 4,
 "nbformat_minor": 5
}
