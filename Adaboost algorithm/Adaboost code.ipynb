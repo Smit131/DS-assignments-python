{
 "cells": [
  {
   "cell_type": "markdown",
   "id": "c4039ab0",
   "metadata": {},
   "source": [
    "## using Adaboost classifier we will prepare a model on fraud data treating those who have taxable_income <= 30000 as \"Risky\" and others are \"Good\""
   ]
  },
  {
   "cell_type": "code",
   "execution_count": null,
   "id": "69b2c4b9",
   "metadata": {},
   "outputs": [],
   "source": [
    "#libraries\n",
    "import pandas as pd\n",
    "import numpy as np\n",
    "from sklearn.model_selection import train_test_split \n",
    "from sklearn import metrics\n",
    "\n",
    "#Parameter tuning\n",
    "from sklearn.model_selection import StratifiedKFold\n",
    "from sklearn.model_selection import GridSearchCV\n",
    "from sklearn.model_selection import cross_val_score\n",
    "\n",
    "#adaboost library\n",
    "from sklearn.ensemble import AdaBoostClassifier"
   ]
  },
  {
   "cell_type": "code",
   "execution_count": null,
   "id": "b59c4366",
   "metadata": {},
   "outputs": [],
   "source": [
    "df = pd.read_csv(\"G:\\Github\\DS-assignments-python\\Adaboost algorithm\\Fraud_check.csv\")"
   ]
  },
  {
   "cell_type": "code",
   "execution_count": null,
   "id": "3df7c6da",
   "metadata": {},
   "outputs": [],
   "source": [
    "df.head(10)"
   ]
  },
  {
   "cell_type": "code",
   "execution_count": null,
   "id": "05572cb5",
   "metadata": {},
   "outputs": [],
   "source": [
    "df.info()"
   ]
  },
  {
   "cell_type": "code",
   "execution_count": null,
   "id": "2610b8a9",
   "metadata": {},
   "outputs": [],
   "source": [
    "df.nunique()"
   ]
  },
  {
   "cell_type": "code",
   "execution_count": null,
   "id": "414bae86",
   "metadata": {},
   "outputs": [],
   "source": [
    "df1 = df.copy()"
   ]
  },
  {
   "cell_type": "code",
   "execution_count": null,
   "id": "8809fc87",
   "metadata": {},
   "outputs": [],
   "source": [
    "df1[\"Taxable.Income\"] = pd.Series(np.where(df[\"Taxable.Income\"]<= 30000 ,1,0))"
   ]
  },
  {
   "cell_type": "code",
   "execution_count": null,
   "id": "4d1e0069",
   "metadata": {},
   "outputs": [],
   "source": [
    "df1.rename(columns = {\"Taxable.Income\":\"Tax_Inc_Risky\"}, inplace = True)"
   ]
  },
  {
   "cell_type": "markdown",
   "id": "4a29d602",
   "metadata": {},
   "source": [
    "Treating 1 as Risky and 0 as Good"
   ]
  },
  {
   "cell_type": "code",
   "execution_count": null,
   "id": "709705e3",
   "metadata": {
    "scrolled": true
   },
   "outputs": [],
   "source": [
    "df1.head(10)"
   ]
  },
  {
   "cell_type": "code",
   "execution_count": null,
   "id": "76b9c9ce",
   "metadata": {},
   "outputs": [],
   "source": [
    "df1[\"Tax_Inc_Risky\"].value_counts()"
   ]
  },
  {
   "cell_type": "code",
   "execution_count": null,
   "id": "117ba33a",
   "metadata": {},
   "outputs": [],
   "source": [
    "124/600"
   ]
  },
  {
   "cell_type": "code",
   "execution_count": null,
   "id": "0b46b953",
   "metadata": {},
   "outputs": [],
   "source": [
    "#Creating dataframes with all numerical and dummies\n",
    "dfd = pd.get_dummies(data = df1 , columns = ['Undergrad','Marital.Status','Urban'], drop_first = True)"
   ]
  },
  {
   "cell_type": "code",
   "execution_count": null,
   "id": "ad266038",
   "metadata": {
    "scrolled": true
   },
   "outputs": [],
   "source": [
    "dfd.head()"
   ]
  },
  {
   "cell_type": "markdown",
   "id": "4f4db2a3",
   "metadata": {},
   "source": [
    "#### so the data is nicely unbalance..\n",
    "now adaboost is a algorithm which counters the imbalanced data  by giving more weight to datapoints which are not classified correctly... in this case minority class datapoints\n",
    "Lets see how it performs"
   ]
  },
  {
   "cell_type": "code",
   "execution_count": null,
   "id": "69e848a0",
   "metadata": {},
   "outputs": [],
   "source": [
    "dfd_x = dfd.iloc[:,1:]\n",
    "dfd_y = dfd.iloc[:,0]"
   ]
  },
  {
   "cell_type": "code",
   "execution_count": null,
   "id": "bc44b55f",
   "metadata": {},
   "outputs": [],
   "source": [
    "dfd_tr_x,dfd_ts_x,dfd_tr_y,dfd_ts_y = train_test_split(dfd_x,dfd_y, test_size = 0.25,shuffle = True , random_state = 13)"
   ]
  },
  {
   "cell_type": "markdown",
   "id": "6ffc6d49",
   "metadata": {},
   "source": [
    "AdaBoostClassifier(base_estimator=None, *, n_estimators=50, learning_rate=1.0, algorithm='SAMME.R', random_state=None)\n",
    "\n",
    "- base_estimator - model that u wnat to have as classifier , default is decision tree\n",
    "- n_estimator - number of stumps/tress / classifiaction learners you want to build\n",
    "- learning rate - Weight applied to each classifier at each boosting iteration. A higher learning rate increases the contribution of each classifier. There is a trade-off between the learning_rate and n_estimators parameters.\n"
   ]
  },
  {
   "cell_type": "code",
   "execution_count": null,
   "id": "aa0da03e",
   "metadata": {},
   "outputs": [],
   "source": [
    "#Creating a adaboost model\n",
    "mark1 = AdaBoostClassifier(n_estimators = 100)"
   ]
  },
  {
   "cell_type": "code",
   "execution_count": null,
   "id": "b96f24c8",
   "metadata": {},
   "outputs": [],
   "source": [
    "mark1.fit(dfd_tr_x,dfd_tr_y)"
   ]
  },
  {
   "cell_type": "code",
   "execution_count": null,
   "id": "8605db99",
   "metadata": {},
   "outputs": [],
   "source": [
    "pred_tr = mark1.predict(dfd_tr_x)\n",
    "pred_ts = mark1.predict(dfd_ts_x)"
   ]
  },
  {
   "cell_type": "code",
   "execution_count": null,
   "id": "1966dd97",
   "metadata": {},
   "outputs": [],
   "source": [
    "np.mean(pred_tr == dfd_tr_y)"
   ]
  },
  {
   "cell_type": "code",
   "execution_count": null,
   "id": "5a6c92fa",
   "metadata": {},
   "outputs": [],
   "source": [
    "np.mean(pred_ts == dfd_ts_y)"
   ]
  },
  {
   "cell_type": "code",
   "execution_count": null,
   "id": "6cd72e1c",
   "metadata": {},
   "outputs": [],
   "source": [
    "pd.crosstab(dfd_tr_y,pred_tr )"
   ]
  },
  {
   "cell_type": "code",
   "execution_count": null,
   "id": "b129d283",
   "metadata": {},
   "outputs": [],
   "source": [
    "pd.crosstab(dfd_ts_y,pred_ts)"
   ]
  },
  {
   "cell_type": "markdown",
   "id": "49acaee7",
   "metadata": {},
   "source": [
    "The minority accuracy sucks even for adaboost.....why...lets try final with staified kfold sampling"
   ]
  },
  {
   "cell_type": "code",
   "execution_count": null,
   "id": "dfc24cd1",
   "metadata": {},
   "outputs": [],
   "source": [
    "markx = AdaBoostClassifier()"
   ]
  },
  {
   "cell_type": "code",
   "execution_count": null,
   "id": "479ded3b",
   "metadata": {},
   "outputs": [],
   "source": [
    "cv = StratifiedKFold(n_splits = 10,shuffle=True, random_state = 13)"
   ]
  },
  {
   "cell_type": "code",
   "execution_count": null,
   "id": "25c9f0cf",
   "metadata": {},
   "outputs": [],
   "source": [
    "scores = cross_val_score(markx,dfd_x,dfd_y, scoring = \"accuracy\" , cv = cv)"
   ]
  },
  {
   "cell_type": "code",
   "execution_count": null,
   "id": "f8b0a576",
   "metadata": {},
   "outputs": [],
   "source": [
    "print(\"\\n Accuracy is \", np.mean(scores),np.std(scores))"
   ]
  },
  {
   "cell_type": "code",
   "execution_count": null,
   "id": "afd49ce7",
   "metadata": {},
   "outputs": [],
   "source": [
    "scores"
   ]
  },
  {
   "cell_type": "markdown",
   "id": "7c4e6f08",
   "metadata": {},
   "source": [
    "even after mainitaining the propartion of minority - majority the accuracy has not increased\n"
   ]
  },
  {
   "cell_type": "markdown",
   "id": "03fdecda",
   "metadata": {},
   "source": [
    "Lets try oversampling the minority class\n",
    "here the ammout is data is less ..so undersampling the data will result in loss of info and also considerably harm prediction models\n"
   ]
  },
  {
   "cell_type": "markdown",
   "id": "3919900c",
   "metadata": {},
   "source": [
    "### oversampling minority class\n"
   ]
  },
  {
   "cell_type": "code",
   "execution_count": null,
   "id": "ddd4edfd",
   "metadata": {},
   "outputs": [],
   "source": [
    "from imblearn.over_sampling import SMOTE"
   ]
  },
  {
   "cell_type": "code",
   "execution_count": null,
   "id": "d65832a6",
   "metadata": {},
   "outputs": [],
   "source": [
    "os = SMOTE(sampling_strategy = 0.75)"
   ]
  },
  {
   "cell_type": "code",
   "execution_count": null,
   "id": "30f03872",
   "metadata": {},
   "outputs": [],
   "source": [
    "dfd_x1,dfd_y1 = os.fit_resample(dfd_x,dfd_y)"
   ]
  },
  {
   "cell_type": "code",
   "execution_count": null,
   "id": "8a38aff8",
   "metadata": {
    "scrolled": true
   },
   "outputs": [],
   "source": [
    "print(dfd_x.shape,dfd_x1.shape)"
   ]
  },
  {
   "cell_type": "code",
   "execution_count": null,
   "id": "c055b6c4",
   "metadata": {},
   "outputs": [],
   "source": [
    "dfd_tr_x1,dfd_ts_x1,dfd_tr_y1,dfd_ts_y1 = train_test_split(dfd_x1,dfd_y1, test_size = 0.25,shuffle = True , random_state = 13)"
   ]
  },
  {
   "cell_type": "code",
   "execution_count": null,
   "id": "4a283f8d",
   "metadata": {
    "scrolled": true
   },
   "outputs": [],
   "source": [
    "print(dfd_y.value_counts(),\"\\n\",dfd_y1.value_counts())"
   ]
  },
  {
   "cell_type": "code",
   "execution_count": null,
   "id": "90193aa3",
   "metadata": {},
   "outputs": [],
   "source": [
    "#Creating a adaboost model\n",
    "mark4 = AdaBoostClassifier(n_estimators = 100)"
   ]
  },
  {
   "cell_type": "code",
   "execution_count": null,
   "id": "403630aa",
   "metadata": {},
   "outputs": [],
   "source": [
    "mark4.fit(dfd_tr_x1,dfd_tr_y1)"
   ]
  },
  {
   "cell_type": "code",
   "execution_count": null,
   "id": "d5a16608",
   "metadata": {},
   "outputs": [],
   "source": [
    "pred_tr1 = mark4.predict(dfd_tr_x1)\n",
    "pred_ts1 = mark4.predict(dfd_ts_x1)"
   ]
  },
  {
   "cell_type": "code",
   "execution_count": null,
   "id": "6631bda6",
   "metadata": {},
   "outputs": [],
   "source": [
    "np.mean(pred_tr1 == dfd_tr_y1)"
   ]
  },
  {
   "cell_type": "code",
   "execution_count": null,
   "id": "1a637f4f",
   "metadata": {},
   "outputs": [],
   "source": [
    "np.mean(pred_ts1 == dfd_ts_y1)"
   ]
  },
  {
   "cell_type": "code",
   "execution_count": null,
   "id": "a9664383",
   "metadata": {},
   "outputs": [],
   "source": [
    "pd.crosstab(dfd_tr_y1,pred_tr1 )"
   ]
  },
  {
   "cell_type": "code",
   "execution_count": null,
   "id": "be8347d3",
   "metadata": {},
   "outputs": [],
   "source": [
    "precision,recall,fscore,supp = precision_recall_fscore_support(dfd_tr_y1,pred_tr1, average = \"binary\")\n",
    "\n",
    "print(\"Precision is -> %.2f\" % precision)\n",
    "print(\"recall is -> %.2f\" % recall)\n",
    "print(\"fscore is -> %.2f\" % fscore)\n",
    "print(\"support is -> \", supp)"
   ]
  },
  {
   "cell_type": "code",
   "execution_count": null,
   "id": "f64cd3de",
   "metadata": {
    "scrolled": true
   },
   "outputs": [],
   "source": [
    "pd.crosstab(dfd_ts_y1,pred_ts1)"
   ]
  },
  {
   "cell_type": "code",
   "execution_count": null,
   "id": "1922d7b7",
   "metadata": {},
   "outputs": [],
   "source": [
    "#metrics.fbeta_score(dfd_ts_y1,pred_ts1,average = \"binary\",pos_label = )"
   ]
  },
  {
   "cell_type": "code",
   "execution_count": null,
   "id": "f18ab8f4",
   "metadata": {
    "scrolled": false
   },
   "outputs": [],
   "source": [
    "precision,recall,fscore,supp = precision_recall_fscore_support(dfd_ts_y1,pred_ts1, average = \"binary\")"
   ]
  },
  {
   "cell_type": "code",
   "execution_count": null,
   "id": "ac507f2c",
   "metadata": {},
   "outputs": [],
   "source": [
    "print(\"Precision is -> %.2f\" % precision)\n",
    "print(\"recall is -> %.2f\" % recall)\n",
    "print(\"fscore is -> %.2f\" % fscore)\n",
    "print(\"support is -> \", supp)"
   ]
  },
  {
   "cell_type": "markdown",
   "id": "9ad8dc1f",
   "metadata": {},
   "source": [
    "Startified sampling doesn't help and oversampling minority with smote doesn't help....the data is too bad..\n",
    "600 bservation with 200 one type too less....i think need to try on larger dataset..to see if things changes"
   ]
  }
 ],
 "metadata": {
  "kernelspec": {
   "display_name": "Python 3",
   "language": "python",
   "name": "python3"
  },
  "language_info": {
   "codemirror_mode": {
    "name": "ipython",
    "version": 3
   },
   "file_extension": ".py",
   "mimetype": "text/x-python",
   "name": "python",
   "nbconvert_exporter": "python",
   "pygments_lexer": "ipython3",
   "version": "3.8.8"
  }
 },
 "nbformat": 4,
 "nbformat_minor": 5
}
