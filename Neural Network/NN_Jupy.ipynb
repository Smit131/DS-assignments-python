{
 "cells": [
  {
   "cell_type": "markdown",
   "id": "6004e3a5",
   "metadata": {},
   "source": [
    "### Build a Neural Network model for 50_startups data to predict profit "
   ]
  },
  {
   "cell_type": "code",
   "execution_count": 269,
   "id": "a522a7f5",
   "metadata": {},
   "outputs": [],
   "source": [
    "import pandas as pd\n",
    "import numpy as np\n",
    "from sklearn.neural_network import MLPRegressor\n",
    "from sklearn.preprocessing import StandardScaler \n",
    "from sklearn.model_selection import train_test_split\n",
    "from sklearn.metrics import mean_squared_error as mse\n",
    "from sklearn.metrics import r2_score"
   ]
  },
  {
   "cell_type": "code",
   "execution_count": 247,
   "id": "c95275fd",
   "metadata": {
    "scrolled": true
   },
   "outputs": [
    {
     "name": "stdout",
     "output_type": "stream",
     "text": [
      "<class 'pandas.core.frame.DataFrame'>\n",
      "RangeIndex: 50 entries, 0 to 49\n",
      "Data columns (total 5 columns):\n",
      " #   Column           Non-Null Count  Dtype  \n",
      "---  ------           --------------  -----  \n",
      " 0   R&D Spend        50 non-null     float64\n",
      " 1   Administration   50 non-null     float64\n",
      " 2   Marketing Spend  50 non-null     float64\n",
      " 3   State            50 non-null     object \n",
      " 4   Profit           50 non-null     float64\n",
      "dtypes: float64(4), object(1)\n",
      "memory usage: 2.1+ KB\n"
     ]
    },
    {
     "data": {
      "text/plain": [
       "R&D Spend          0\n",
       "Administration     0\n",
       "Marketing Spend    0\n",
       "State              0\n",
       "Profit             0\n",
       "dtype: int64"
      ]
     },
     "execution_count": 247,
     "metadata": {},
     "output_type": "execute_result"
    }
   ],
   "source": [
    "df =pd.read_csv(\"G:\\\\Github\\\\DS-assignments-python\\\\Neural Network\\\\50_Startups.csv\")\n",
    "\n",
    "df.info()\n",
    "df.isnull().sum()"
   ]
  },
  {
   "cell_type": "code",
   "execution_count": 248,
   "id": "33e75037",
   "metadata": {},
   "outputs": [
    {
     "data": {
      "text/plain": [
       "(50, 5)"
      ]
     },
     "execution_count": 248,
     "metadata": {},
     "output_type": "execute_result"
    }
   ],
   "source": [
    "df.shape"
   ]
  },
  {
   "cell_type": "code",
   "execution_count": 249,
   "id": "29ed1625",
   "metadata": {},
   "outputs": [
    {
     "data": {
      "text/html": [
       "<div>\n",
       "<style scoped>\n",
       "    .dataframe tbody tr th:only-of-type {\n",
       "        vertical-align: middle;\n",
       "    }\n",
       "\n",
       "    .dataframe tbody tr th {\n",
       "        vertical-align: top;\n",
       "    }\n",
       "\n",
       "    .dataframe thead th {\n",
       "        text-align: right;\n",
       "    }\n",
       "</style>\n",
       "<table border=\"1\" class=\"dataframe\">\n",
       "  <thead>\n",
       "    <tr style=\"text-align: right;\">\n",
       "      <th></th>\n",
       "      <th>R&amp;D Spend</th>\n",
       "      <th>Administration</th>\n",
       "      <th>Marketing Spend</th>\n",
       "      <th>State</th>\n",
       "      <th>Profit</th>\n",
       "    </tr>\n",
       "  </thead>\n",
       "  <tbody>\n",
       "    <tr>\n",
       "      <th>0</th>\n",
       "      <td>165349.20</td>\n",
       "      <td>136897.80</td>\n",
       "      <td>471784.10</td>\n",
       "      <td>New York</td>\n",
       "      <td>192261.83</td>\n",
       "    </tr>\n",
       "    <tr>\n",
       "      <th>1</th>\n",
       "      <td>162597.70</td>\n",
       "      <td>151377.59</td>\n",
       "      <td>443898.53</td>\n",
       "      <td>California</td>\n",
       "      <td>191792.06</td>\n",
       "    </tr>\n",
       "    <tr>\n",
       "      <th>2</th>\n",
       "      <td>153441.51</td>\n",
       "      <td>101145.55</td>\n",
       "      <td>407934.54</td>\n",
       "      <td>Florida</td>\n",
       "      <td>191050.39</td>\n",
       "    </tr>\n",
       "    <tr>\n",
       "      <th>3</th>\n",
       "      <td>144372.41</td>\n",
       "      <td>118671.85</td>\n",
       "      <td>383199.62</td>\n",
       "      <td>New York</td>\n",
       "      <td>182901.99</td>\n",
       "    </tr>\n",
       "    <tr>\n",
       "      <th>4</th>\n",
       "      <td>142107.34</td>\n",
       "      <td>91391.77</td>\n",
       "      <td>366168.42</td>\n",
       "      <td>Florida</td>\n",
       "      <td>166187.94</td>\n",
       "    </tr>\n",
       "  </tbody>\n",
       "</table>\n",
       "</div>"
      ],
      "text/plain": [
       "   R&D Spend  Administration  Marketing Spend       State     Profit\n",
       "0  165349.20       136897.80        471784.10    New York  192261.83\n",
       "1  162597.70       151377.59        443898.53  California  191792.06\n",
       "2  153441.51       101145.55        407934.54     Florida  191050.39\n",
       "3  144372.41       118671.85        383199.62    New York  182901.99\n",
       "4  142107.34        91391.77        366168.42     Florida  166187.94"
      ]
     },
     "execution_count": 249,
     "metadata": {},
     "output_type": "execute_result"
    }
   ],
   "source": [
    "df.head(5)\n"
   ]
  },
  {
   "cell_type": "code",
   "execution_count": 250,
   "id": "70750dfc",
   "metadata": {},
   "outputs": [
    {
     "data": {
      "text/html": [
       "<div>\n",
       "<style scoped>\n",
       "    .dataframe tbody tr th:only-of-type {\n",
       "        vertical-align: middle;\n",
       "    }\n",
       "\n",
       "    .dataframe tbody tr th {\n",
       "        vertical-align: top;\n",
       "    }\n",
       "\n",
       "    .dataframe thead th {\n",
       "        text-align: right;\n",
       "    }\n",
       "</style>\n",
       "<table border=\"1\" class=\"dataframe\">\n",
       "  <thead>\n",
       "    <tr style=\"text-align: right;\">\n",
       "      <th></th>\n",
       "      <th>State_California</th>\n",
       "      <th>State_Florida</th>\n",
       "      <th>State_New York</th>\n",
       "    </tr>\n",
       "  </thead>\n",
       "  <tbody>\n",
       "    <tr>\n",
       "      <th>0</th>\n",
       "      <td>0</td>\n",
       "      <td>0</td>\n",
       "      <td>1</td>\n",
       "    </tr>\n",
       "    <tr>\n",
       "      <th>1</th>\n",
       "      <td>1</td>\n",
       "      <td>0</td>\n",
       "      <td>0</td>\n",
       "    </tr>\n",
       "    <tr>\n",
       "      <th>2</th>\n",
       "      <td>0</td>\n",
       "      <td>1</td>\n",
       "      <td>0</td>\n",
       "    </tr>\n",
       "    <tr>\n",
       "      <th>3</th>\n",
       "      <td>0</td>\n",
       "      <td>0</td>\n",
       "      <td>1</td>\n",
       "    </tr>\n",
       "    <tr>\n",
       "      <th>4</th>\n",
       "      <td>0</td>\n",
       "      <td>1</td>\n",
       "      <td>0</td>\n",
       "    </tr>\n",
       "  </tbody>\n",
       "</table>\n",
       "</div>"
      ],
      "text/plain": [
       "   State_California  State_Florida  State_New York\n",
       "0                 0              0               1\n",
       "1                 1              0               0\n",
       "2                 0              1               0\n",
       "3                 0              0               1\n",
       "4                 0              1               0"
      ]
     },
     "execution_count": 250,
     "metadata": {},
     "output_type": "execute_result"
    }
   ],
   "source": [
    "# as state in categorical we need to make it numerical using dumdums\n",
    "\n",
    "dum = pd.get_dummies(df[\"State\"]).rename(columns = lambda x : \"State_\" + str(x))\n",
    "dum.head(5)"
   ]
  },
  {
   "cell_type": "code",
   "execution_count": 251,
   "id": "bcf400af",
   "metadata": {},
   "outputs": [],
   "source": [
    "#joining the dummy and dropping the redundant\n",
    "df1 = pd.concat([dum,df],axis = 1)\n",
    "df1.drop([\"State\"],axis=1,inplace=True)"
   ]
  },
  {
   "cell_type": "code",
   "execution_count": 252,
   "id": "4ba78e28",
   "metadata": {},
   "outputs": [
    {
     "data": {
      "text/html": [
       "<div>\n",
       "<style scoped>\n",
       "    .dataframe tbody tr th:only-of-type {\n",
       "        vertical-align: middle;\n",
       "    }\n",
       "\n",
       "    .dataframe tbody tr th {\n",
       "        vertical-align: top;\n",
       "    }\n",
       "\n",
       "    .dataframe thead th {\n",
       "        text-align: right;\n",
       "    }\n",
       "</style>\n",
       "<table border=\"1\" class=\"dataframe\">\n",
       "  <thead>\n",
       "    <tr style=\"text-align: right;\">\n",
       "      <th></th>\n",
       "      <th>State_California</th>\n",
       "      <th>State_Florida</th>\n",
       "      <th>State_New York</th>\n",
       "      <th>R&amp;D Spend</th>\n",
       "      <th>Administration</th>\n",
       "      <th>Marketing Spend</th>\n",
       "      <th>Profit</th>\n",
       "    </tr>\n",
       "  </thead>\n",
       "  <tbody>\n",
       "    <tr>\n",
       "      <th>0</th>\n",
       "      <td>0</td>\n",
       "      <td>0</td>\n",
       "      <td>1</td>\n",
       "      <td>165349.20</td>\n",
       "      <td>136897.80</td>\n",
       "      <td>471784.10</td>\n",
       "      <td>192261.83</td>\n",
       "    </tr>\n",
       "    <tr>\n",
       "      <th>1</th>\n",
       "      <td>1</td>\n",
       "      <td>0</td>\n",
       "      <td>0</td>\n",
       "      <td>162597.70</td>\n",
       "      <td>151377.59</td>\n",
       "      <td>443898.53</td>\n",
       "      <td>191792.06</td>\n",
       "    </tr>\n",
       "    <tr>\n",
       "      <th>2</th>\n",
       "      <td>0</td>\n",
       "      <td>1</td>\n",
       "      <td>0</td>\n",
       "      <td>153441.51</td>\n",
       "      <td>101145.55</td>\n",
       "      <td>407934.54</td>\n",
       "      <td>191050.39</td>\n",
       "    </tr>\n",
       "    <tr>\n",
       "      <th>3</th>\n",
       "      <td>0</td>\n",
       "      <td>0</td>\n",
       "      <td>1</td>\n",
       "      <td>144372.41</td>\n",
       "      <td>118671.85</td>\n",
       "      <td>383199.62</td>\n",
       "      <td>182901.99</td>\n",
       "    </tr>\n",
       "    <tr>\n",
       "      <th>4</th>\n",
       "      <td>0</td>\n",
       "      <td>1</td>\n",
       "      <td>0</td>\n",
       "      <td>142107.34</td>\n",
       "      <td>91391.77</td>\n",
       "      <td>366168.42</td>\n",
       "      <td>166187.94</td>\n",
       "    </tr>\n",
       "  </tbody>\n",
       "</table>\n",
       "</div>"
      ],
      "text/plain": [
       "   State_California  State_Florida  State_New York  R&D Spend  Administration  \\\n",
       "0                 0              0               1  165349.20       136897.80   \n",
       "1                 1              0               0  162597.70       151377.59   \n",
       "2                 0              1               0  153441.51       101145.55   \n",
       "3                 0              0               1  144372.41       118671.85   \n",
       "4                 0              1               0  142107.34        91391.77   \n",
       "\n",
       "   Marketing Spend     Profit  \n",
       "0        471784.10  192261.83  \n",
       "1        443898.53  191792.06  \n",
       "2        407934.54  191050.39  \n",
       "3        383199.62  182901.99  \n",
       "4        366168.42  166187.94  "
      ]
     },
     "execution_count": 252,
     "metadata": {},
     "output_type": "execute_result"
    }
   ],
   "source": [
    "df1.head(5)"
   ]
  },
  {
   "cell_type": "code",
   "execution_count": 253,
   "id": "4d8c081d",
   "metadata": {},
   "outputs": [],
   "source": [
    "#df1.iloc[:,:6].columns.tolist()"
   ]
  },
  {
   "cell_type": "code",
   "execution_count": 254,
   "id": "ff24f136",
   "metadata": {},
   "outputs": [],
   "source": [
    "#xy.fit_transform(df1.iloc[:,:6])"
   ]
  },
  {
   "cell_type": "code",
   "execution_count": 255,
   "id": "f95a62b2",
   "metadata": {},
   "outputs": [
    {
     "data": {
      "text/html": [
       "<div>\n",
       "<style scoped>\n",
       "    .dataframe tbody tr th:only-of-type {\n",
       "        vertical-align: middle;\n",
       "    }\n",
       "\n",
       "    .dataframe tbody tr th {\n",
       "        vertical-align: top;\n",
       "    }\n",
       "\n",
       "    .dataframe thead th {\n",
       "        text-align: right;\n",
       "    }\n",
       "</style>\n",
       "<table border=\"1\" class=\"dataframe\">\n",
       "  <thead>\n",
       "    <tr style=\"text-align: right;\">\n",
       "      <th></th>\n",
       "      <th>State_California</th>\n",
       "      <th>State_Florida</th>\n",
       "      <th>State_New York</th>\n",
       "      <th>R&amp;D Spend</th>\n",
       "      <th>Administration</th>\n",
       "      <th>Marketing Spend</th>\n",
       "      <th>Profit</th>\n",
       "    </tr>\n",
       "  </thead>\n",
       "  <tbody>\n",
       "    <tr>\n",
       "      <th>0</th>\n",
       "      <td>-0.717741</td>\n",
       "      <td>-0.685994</td>\n",
       "      <td>1.393261</td>\n",
       "      <td>2.016411</td>\n",
       "      <td>0.560753</td>\n",
       "      <td>2.153943</td>\n",
       "      <td>192261.83</td>\n",
       "    </tr>\n",
       "    <tr>\n",
       "      <th>1</th>\n",
       "      <td>1.393261</td>\n",
       "      <td>-0.685994</td>\n",
       "      <td>-0.717741</td>\n",
       "      <td>1.955860</td>\n",
       "      <td>1.082807</td>\n",
       "      <td>1.923600</td>\n",
       "      <td>191792.06</td>\n",
       "    </tr>\n",
       "    <tr>\n",
       "      <th>2</th>\n",
       "      <td>-0.717741</td>\n",
       "      <td>1.457738</td>\n",
       "      <td>-0.717741</td>\n",
       "      <td>1.754364</td>\n",
       "      <td>-0.728257</td>\n",
       "      <td>1.626528</td>\n",
       "      <td>191050.39</td>\n",
       "    </tr>\n",
       "    <tr>\n",
       "      <th>3</th>\n",
       "      <td>-0.717741</td>\n",
       "      <td>-0.685994</td>\n",
       "      <td>1.393261</td>\n",
       "      <td>1.554784</td>\n",
       "      <td>-0.096365</td>\n",
       "      <td>1.422210</td>\n",
       "      <td>182901.99</td>\n",
       "    </tr>\n",
       "    <tr>\n",
       "      <th>4</th>\n",
       "      <td>-0.717741</td>\n",
       "      <td>1.457738</td>\n",
       "      <td>-0.717741</td>\n",
       "      <td>1.504937</td>\n",
       "      <td>-1.079919</td>\n",
       "      <td>1.281528</td>\n",
       "      <td>166187.94</td>\n",
       "    </tr>\n",
       "  </tbody>\n",
       "</table>\n",
       "</div>"
      ],
      "text/plain": [
       "   State_California  State_Florida  State_New York  R&D Spend  Administration  \\\n",
       "0         -0.717741      -0.685994        1.393261   2.016411        0.560753   \n",
       "1          1.393261      -0.685994       -0.717741   1.955860        1.082807   \n",
       "2         -0.717741       1.457738       -0.717741   1.754364       -0.728257   \n",
       "3         -0.717741      -0.685994        1.393261   1.554784       -0.096365   \n",
       "4         -0.717741       1.457738       -0.717741   1.504937       -1.079919   \n",
       "\n",
       "   Marketing Spend     Profit  \n",
       "0         2.153943  192261.83  \n",
       "1         1.923600  191792.06  \n",
       "2         1.626528  191050.39  \n",
       "3         1.422210  182901.99  \n",
       "4         1.281528  166187.94  "
      ]
     },
     "execution_count": 255,
     "metadata": {},
     "output_type": "execute_result"
    }
   ],
   "source": [
    "# we have stardize the values before putting it in the model\n",
    "\n",
    "xy = StandardScaler()\n",
    "\n",
    "#performing a deep copy\n",
    "dfx = df1.copy()\n",
    "dfx[df1.iloc[:,:6].columns.tolist()] = xy.fit_transform(df1.iloc[:,:6])\n",
    "dfx.head(5)"
   ]
  },
  {
   "cell_type": "code",
   "execution_count": 256,
   "id": "5f78e2bf",
   "metadata": {},
   "outputs": [],
   "source": [
    "# we need to fit the model according to Xtrain....idk exactly why... i think it can done using ytest also or data of X also\n",
    "X = dfx.iloc[:,:6]\n",
    "Y = dfx.iloc[:,6]\n",
    "tr_x,ts_x,tr_y,ts_y = train_test_split(X,Y, test_size = 0.2, random_state = 13)"
   ]
  },
  {
   "cell_type": "code",
   "execution_count": 257,
   "id": "2cbc32a9",
   "metadata": {},
   "outputs": [],
   "source": [
    "#tr_x = tr_x.values\n",
    "#ts_x = ts_x.values"
   ]
  },
  {
   "cell_type": "code",
   "execution_count": 258,
   "id": "2375b3c8",
   "metadata": {},
   "outputs": [
    {
     "data": {
      "text/html": [
       "<div>\n",
       "<style scoped>\n",
       "    .dataframe tbody tr th:only-of-type {\n",
       "        vertical-align: middle;\n",
       "    }\n",
       "\n",
       "    .dataframe tbody tr th {\n",
       "        vertical-align: top;\n",
       "    }\n",
       "\n",
       "    .dataframe thead th {\n",
       "        text-align: right;\n",
       "    }\n",
       "</style>\n",
       "<table border=\"1\" class=\"dataframe\">\n",
       "  <thead>\n",
       "    <tr style=\"text-align: right;\">\n",
       "      <th></th>\n",
       "      <th>State_California</th>\n",
       "      <th>State_Florida</th>\n",
       "      <th>State_New York</th>\n",
       "      <th>R&amp;D Spend</th>\n",
       "      <th>Administration</th>\n",
       "      <th>Marketing Spend</th>\n",
       "    </tr>\n",
       "  </thead>\n",
       "  <tbody>\n",
       "    <tr>\n",
       "      <th>27</th>\n",
       "      <td>-0.717741</td>\n",
       "      <td>-0.685994</td>\n",
       "      <td>1.393261</td>\n",
       "      <td>-0.035519</td>\n",
       "      <td>0.235069</td>\n",
       "      <td>1.174271</td>\n",
       "    </tr>\n",
       "    <tr>\n",
       "      <th>23</th>\n",
       "      <td>-0.717741</td>\n",
       "      <td>1.457738</td>\n",
       "      <td>-0.717741</td>\n",
       "      <td>-0.136201</td>\n",
       "      <td>-0.562211</td>\n",
       "      <td>0.774349</td>\n",
       "    </tr>\n",
       "    <tr>\n",
       "      <th>39</th>\n",
       "      <td>1.393261</td>\n",
       "      <td>-0.685994</td>\n",
       "      <td>-0.717741</td>\n",
       "      <td>-0.773820</td>\n",
       "      <td>-1.383122</td>\n",
       "      <td>-0.297583</td>\n",
       "    </tr>\n",
       "    <tr>\n",
       "      <th>17</th>\n",
       "      <td>-0.717741</td>\n",
       "      <td>-0.685994</td>\n",
       "      <td>1.393261</td>\n",
       "      <td>0.460720</td>\n",
       "      <td>0.855666</td>\n",
       "      <td>0.591017</td>\n",
       "    </tr>\n",
       "    <tr>\n",
       "      <th>15</th>\n",
       "      <td>-0.717741</td>\n",
       "      <td>-0.685994</td>\n",
       "      <td>1.393261</td>\n",
       "      <td>0.897913</td>\n",
       "      <td>0.045868</td>\n",
       "      <td>0.419219</td>\n",
       "    </tr>\n",
       "  </tbody>\n",
       "</table>\n",
       "</div>"
      ],
      "text/plain": [
       "    State_California  State_Florida  State_New York  R&D Spend  \\\n",
       "27         -0.717741      -0.685994        1.393261  -0.035519   \n",
       "23         -0.717741       1.457738       -0.717741  -0.136201   \n",
       "39          1.393261      -0.685994       -0.717741  -0.773820   \n",
       "17         -0.717741      -0.685994        1.393261   0.460720   \n",
       "15         -0.717741      -0.685994        1.393261   0.897913   \n",
       "\n",
       "    Administration  Marketing Spend  \n",
       "27        0.235069         1.174271  \n",
       "23       -0.562211         0.774349  \n",
       "39       -1.383122        -0.297583  \n",
       "17        0.855666         0.591017  \n",
       "15        0.045868         0.419219  "
      ]
     },
     "execution_count": 258,
     "metadata": {},
     "output_type": "execute_result"
    }
   ],
   "source": [
    "tr_x[:5]"
   ]
  },
  {
   "cell_type": "code",
   "execution_count": 259,
   "id": "51f1ae61",
   "metadata": {},
   "outputs": [],
   "source": [
    "########          applying NN\n",
    "NN = MLPRegressor(hidden_layer_sizes=(15,15))"
   ]
  },
  {
   "cell_type": "code",
   "execution_count": 260,
   "id": "e7763a80",
   "metadata": {},
   "outputs": [
    {
     "name": "stderr",
     "output_type": "stream",
     "text": [
      "C:\\Users\\Sumit\\anaconda3\\lib\\site-packages\\sklearn\\neural_network\\_multilayer_perceptron.py:614: ConvergenceWarning: Stochastic Optimizer: Maximum iterations (200) reached and the optimization hasn't converged yet.\n",
      "  warnings.warn(\n"
     ]
    }
   ],
   "source": [
    "M1 = NN.fit(tr_x,tr_y)\n",
    "pred_tr = M1.predict(tr_x)\n",
    "pred_ts = M1.predict(ts_x)"
   ]
  },
  {
   "cell_type": "code",
   "execution_count": 261,
   "id": "533c5df1",
   "metadata": {},
   "outputs": [],
   "source": [
    "#from sklearn.metrics import mean_squared_error\n",
    "#rms = mean_squared_error(y_actual, y_predicted, squared=False)\n",
    "#sklearn.metrics has a mean_squared_error function with a squared kwarg (defaults to True).\n",
    "#Setting squared to False will return the RMSE."
   ]
  },
  {
   "cell_type": "code",
   "execution_count": 262,
   "id": "daff80d1",
   "metadata": {},
   "outputs": [
    {
     "name": "stdout",
     "output_type": "stream",
     "text": [
      "Corr Coeffecient is  0.5329017652775743\n",
      "RMSE value is  117067.13699184047\n"
     ]
    }
   ],
   "source": [
    "##### train accuracy\n",
    "print(\"Corr Coeffecient is \",np.corrcoef(tr_y,pred_tr)[0][1])\n",
    "print(\"RMSE value is \",mse(tr_y,pred_tr,squared=False))\n"
   ]
  },
  {
   "cell_type": "code",
   "execution_count": 263,
   "id": "c98ccfa3",
   "metadata": {},
   "outputs": [
    {
     "name": "stdout",
     "output_type": "stream",
     "text": [
      "Corr Coeffecient is  0.5197119907341585\n",
      "RMSE value is  125902.23041907547\n"
     ]
    }
   ],
   "source": [
    "###### test accuracy\n",
    "print(\"Corr Coeffecient is \",np.corrcoef(ts_y,pred_ts)[0][1])\n",
    "print(\"RMSE value is \",mse(ts_y,pred_ts,squared = False))"
   ]
  },
  {
   "cell_type": "markdown",
   "id": "67a41555",
   "metadata": {},
   "source": [
    "-------------------------------------------------"
   ]
  },
  {
   "cell_type": "markdown",
   "id": "e302a649",
   "metadata": {},
   "source": [
    "#### Lil bit of paramter tuning"
   ]
  },
  {
   "cell_type": "code",
   "execution_count": 271,
   "id": "41298f8c",
   "metadata": {},
   "outputs": [],
   "source": [
    "NN2 = MLPRegressor(hidden_layer_sizes=(150,100,50), max_iter=300,solver='adam',random_state=1)"
   ]
  },
  {
   "cell_type": "code",
   "execution_count": 275,
   "id": "770fcfe6",
   "metadata": {},
   "outputs": [
    {
     "name": "stderr",
     "output_type": "stream",
     "text": [
      "C:\\Users\\Sumit\\anaconda3\\lib\\site-packages\\sklearn\\neural_network\\_multilayer_perceptron.py:614: ConvergenceWarning: Stochastic Optimizer: Maximum iterations (300) reached and the optimization hasn't converged yet.\n",
      "  warnings.warn(\n"
     ]
    }
   ],
   "source": [
    "M2 = NN2.fit(tr_x,tr_y)\n",
    "pred_tr2 = NN2.predict(tr_x)\n",
    "pred_ts2 = NN2.predict(ts_x)"
   ]
  },
  {
   "cell_type": "code",
   "execution_count": 276,
   "id": "38f05b4e",
   "metadata": {},
   "outputs": [
    {
     "name": "stdout",
     "output_type": "stream",
     "text": [
      "Corr Coeffecient is  0.865613443884024\n",
      "RMSE value is  40495.44555405077\n"
     ]
    }
   ],
   "source": [
    "##### train accuracy\n",
    "print(\"Corr Coeffecient is \",np.corrcoef(tr_y,pred_tr2)[0][1])\n",
    "print(\"RMSE value is \",mse(tr_y,pred_tr2,squared=False))\n"
   ]
  },
  {
   "cell_type": "code",
   "execution_count": 279,
   "id": "7887796d",
   "metadata": {},
   "outputs": [
    {
     "name": "stdout",
     "output_type": "stream",
     "text": [
      "Corr Coeffecient is  0.8169908134150529\n",
      "RMSE value is  44351.10539135543\n",
      "-0.11166926450337322\n"
     ]
    }
   ],
   "source": [
    "###### test accuracy\n",
    "print(\"Corr Coeffecient is \",np.corrcoef(ts_y,pred_ts2)[0][1])\n",
    "print(\"RMSE value is \",mse(ts_y,pred_ts2,squared = False))\n",
    "print(r2_score(pred_ts2,ts_y))"
   ]
  }
 ],
 "metadata": {
  "kernelspec": {
   "display_name": "Python 3",
   "language": "python",
   "name": "python3"
  },
  "language_info": {
   "codemirror_mode": {
    "name": "ipython",
    "version": 3
   },
   "file_extension": ".py",
   "mimetype": "text/x-python",
   "name": "python",
   "nbconvert_exporter": "python",
   "pygments_lexer": "ipython3",
   "version": "3.8.8"
  }
 },
 "nbformat": 4,
 "nbformat_minor": 5
}
