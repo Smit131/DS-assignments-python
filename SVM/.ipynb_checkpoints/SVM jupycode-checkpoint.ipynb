{
 "cells": [
  {
   "cell_type": "code",
   "execution_count": 8,
   "id": "d72f3199",
   "metadata": {},
   "outputs": [],
   "source": [
    "import pandas as pd\n",
    "import numpy as np\n",
    "from sklearn.svm import SVC\n",
    "from sklearn.model_selection import train_test_split"
   ]
  },
  {
   "cell_type": "code",
   "execution_count": 9,
   "id": "66f257f0",
   "metadata": {},
   "outputs": [],
   "source": [
    "df = pd.read_csv(\"G:\\\\Github\\\\DS-assignments-python\\\\SVM\\\\forestfires.csv\")\n"
   ]
  },
  {
   "cell_type": "code",
   "execution_count": 10,
   "id": "86ca86be",
   "metadata": {},
   "outputs": [],
   "source": [
    "# in the data for month and day already the dummy variables as present ...so we just neeed to drop the categry type ones\n",
    "df.drop([\"month\",\"day\"],axis = 1, inplace=True)"
   ]
  },
  {
   "cell_type": "code",
   "execution_count": 11,
   "id": "28b9f32c",
   "metadata": {},
   "outputs": [],
   "source": [
    "# we need convert the output category o.e size to numerical 1 and 0\n",
    "df.size_category = pd.Series(np.where(df.size_category == \"large\",1,0),df.index) \n"
   ]
  },
  {
   "cell_type": "code",
   "execution_count": 12,
   "id": "13516293",
   "metadata": {},
   "outputs": [
    {
     "name": "stdout",
     "output_type": "stream",
     "text": [
      "<class 'pandas.core.frame.DataFrame'>\n",
      "RangeIndex: 517 entries, 0 to 516\n",
      "Data columns (total 29 columns):\n",
      " #   Column         Non-Null Count  Dtype  \n",
      "---  ------         --------------  -----  \n",
      " 0   FFMC           517 non-null    float64\n",
      " 1   DMC            517 non-null    float64\n",
      " 2   DC             517 non-null    float64\n",
      " 3   ISI            517 non-null    float64\n",
      " 4   temp           517 non-null    float64\n",
      " 5   RH             517 non-null    int64  \n",
      " 6   wind           517 non-null    float64\n",
      " 7   rain           517 non-null    float64\n",
      " 8   area           517 non-null    float64\n",
      " 9   dayfri         517 non-null    int64  \n",
      " 10  daymon         517 non-null    int64  \n",
      " 11  daysat         517 non-null    int64  \n",
      " 12  daysun         517 non-null    int64  \n",
      " 13  daythu         517 non-null    int64  \n",
      " 14  daytue         517 non-null    int64  \n",
      " 15  daywed         517 non-null    int64  \n",
      " 16  monthapr       517 non-null    int64  \n",
      " 17  monthaug       517 non-null    int64  \n",
      " 18  monthdec       517 non-null    int64  \n",
      " 19  monthfeb       517 non-null    int64  \n",
      " 20  monthjan       517 non-null    int64  \n",
      " 21  monthjul       517 non-null    int64  \n",
      " 22  monthjun       517 non-null    int64  \n",
      " 23  monthmar       517 non-null    int64  \n",
      " 24  monthmay       517 non-null    int64  \n",
      " 25  monthnov       517 non-null    int64  \n",
      " 26  monthoct       517 non-null    int64  \n",
      " 27  monthsep       517 non-null    int64  \n",
      " 28  size_category  517 non-null    int32  \n",
      "dtypes: float64(8), int32(1), int64(20)\n",
      "memory usage: 115.2 KB\n"
     ]
    }
   ],
   "source": [
    "df.info()"
   ]
  },
  {
   "cell_type": "code",
   "execution_count": 13,
   "id": "e5e3b94c",
   "metadata": {},
   "outputs": [],
   "source": [
    "## building the svm model..\n",
    "\n",
    "tr_x,ts_x,tr_y,ts_y = train_test_split( df.iloc[:,:28], df.iloc[:,28], test_size = 0.25, random_state = 13)\n"
   ]
  },
  {
   "cell_type": "code",
   "execution_count": 14,
   "id": "87b8c70e",
   "metadata": {},
   "outputs": [],
   "source": [
    "# linear\n",
    "m1 = SVC(kernel=\"linear\")\n",
    "m1.fit(tr_x,tr_y)\n",
    "\n",
    "pred_tr = m1.predict(tr_x)\n",
    "pred_ts = m1.predict(ts_x)\n"
   ]
  },
  {
   "cell_type": "code",
   "execution_count": 15,
   "id": "21caea22",
   "metadata": {},
   "outputs": [
    {
     "data": {
      "text/plain": [
       "1.0"
      ]
     },
     "execution_count": 15,
     "metadata": {},
     "output_type": "execute_result"
    }
   ],
   "source": [
    "# Train accuracy\n",
    "np.mean(tr_y == pred_tr)\n",
    "# 100%"
   ]
  },
  {
   "cell_type": "code",
   "execution_count": 16,
   "id": "e97e2526",
   "metadata": {},
   "outputs": [
    {
     "data": {
      "text/plain": [
       "0.9846153846153847"
      ]
     },
     "execution_count": 16,
     "metadata": {},
     "output_type": "execute_result"
    }
   ],
   "source": [
    "# Test accuracy\n",
    "np.mean(ts_y == pred_ts)\n",
    "# 98.46%"
   ]
  },
  {
   "cell_type": "code",
   "execution_count": 17,
   "id": "b80bb6ce",
   "metadata": {},
   "outputs": [],
   "source": [
    "# poly\n",
    "m1 = SVC(kernel=\"poly\")\n",
    "m1.fit(tr_x,tr_y)\n",
    "\n",
    "pred_tr = m1.predict(tr_x)\n",
    "pred_ts = m1.predict(ts_x)"
   ]
  },
  {
   "cell_type": "code",
   "execution_count": 18,
   "id": "19d8becf",
   "metadata": {},
   "outputs": [
    {
     "data": {
      "text/plain": [
       "0.7700258397932817"
      ]
     },
     "execution_count": 18,
     "metadata": {},
     "output_type": "execute_result"
    }
   ],
   "source": [
    "# Train accuracy\n",
    "np.mean(tr_y == pred_tr)\n",
    "# 77%"
   ]
  },
  {
   "cell_type": "code",
   "execution_count": 19,
   "id": "b90b9b61",
   "metadata": {},
   "outputs": [
    {
     "data": {
      "text/plain": [
       "0.7692307692307693"
      ]
     },
     "execution_count": 19,
     "metadata": {},
     "output_type": "execute_result"
    }
   ],
   "source": [
    "# Test accuracy\n",
    "np.mean(ts_y == pred_ts)\n",
    "#76.92%"
   ]
  },
  {
   "cell_type": "code",
   "execution_count": 20,
   "id": "0fb72aa5",
   "metadata": {},
   "outputs": [],
   "source": [
    "#RBF\n",
    "m1 = SVC(kernel=\"rbf\")\n",
    "m1.fit(tr_x,tr_y)\n",
    "\n",
    "pred_tr = m1.predict(tr_x)\n",
    "pred_ts = m1.predict(ts_x)"
   ]
  },
  {
   "cell_type": "code",
   "execution_count": 21,
   "id": "c356a611",
   "metadata": {},
   "outputs": [
    {
     "data": {
      "text/plain": [
       "0.7622739018087855"
      ]
     },
     "execution_count": 21,
     "metadata": {},
     "output_type": "execute_result"
    }
   ],
   "source": [
    "# Train accuracy\n",
    "np.mean(tr_y == pred_tr)\n",
    "# 76.22%"
   ]
  },
  {
   "cell_type": "code",
   "execution_count": 22,
   "id": "ef9a1c2d",
   "metadata": {},
   "outputs": [
    {
     "data": {
      "text/plain": [
       "0.7384615384615385"
      ]
     },
     "execution_count": 22,
     "metadata": {},
     "output_type": "execute_result"
    }
   ],
   "source": [
    "# Test accuracy\n",
    "np.mean(ts_y == pred_ts)\n",
    "# 73.84%"
   ]
  }
 ],
 "metadata": {
  "kernelspec": {
   "display_name": "Python 3",
   "language": "python",
   "name": "python3"
  },
  "language_info": {
   "codemirror_mode": {
    "name": "ipython",
    "version": 3
   },
   "file_extension": ".py",
   "mimetype": "text/x-python",
   "name": "python",
   "nbconvert_exporter": "python",
   "pygments_lexer": "ipython3",
   "version": "3.8.8"
  }
 },
 "nbformat": 4,
 "nbformat_minor": 5
}
