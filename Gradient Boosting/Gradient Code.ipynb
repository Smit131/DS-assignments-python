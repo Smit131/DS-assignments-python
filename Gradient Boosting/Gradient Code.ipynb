{
 "cells": [
  {
   "cell_type": "markdown",
   "id": "96c1bdf5",
   "metadata": {},
   "source": [
    "### Gradient bosting algorithm"
   ]
  },
  {
   "cell_type": "code",
   "execution_count": 1,
   "id": "7943599a",
   "metadata": {},
   "outputs": [],
   "source": [
    "#libraries\n",
    "import pandas as pd\n",
    "import numpy as np\n",
    "\n",
    "#gradient boosting Library\n",
    "from sklearn.ensemble import GradientBoostingRegressor"
   ]
  },
  {
   "cell_type": "code",
   "execution_count": null,
   "id": "89c03e7a",
   "metadata": {},
   "outputs": [],
   "source": []
  }
 ],
 "metadata": {
  "kernelspec": {
   "display_name": "Python 3",
   "language": "python",
   "name": "python3"
  },
  "language_info": {
   "codemirror_mode": {
    "name": "ipython",
    "version": 3
   },
   "file_extension": ".py",
   "mimetype": "text/x-python",
   "name": "python",
   "nbconvert_exporter": "python",
   "pygments_lexer": "ipython3",
   "version": "3.8.8"
  }
 },
 "nbformat": 4,
 "nbformat_minor": 5
}
