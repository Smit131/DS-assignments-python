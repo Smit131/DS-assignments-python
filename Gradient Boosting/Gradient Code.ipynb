{
 "cells": [
  {
   "cell_type": "markdown",
   "id": "96c1bdf5",
   "metadata": {},
   "source": [
    "### Gradient bosting algorithm"
   ]
  },
  {
   "cell_type": "markdown",
   "id": "4fc3a2a7",
   "metadata": {},
   "source": [
    "Use GradientBoosting Classifier to build a model to predict the Salary standarad"
   ]
  },
  {
   "cell_type": "code",
   "execution_count": null,
   "id": "7943599a",
   "metadata": {},
   "outputs": [],
   "source": [
    "#libraries\n",
    "import pandas as pd\n",
    "import numpy as np\n",
    "import matplotlib.pyplot as plt\n",
    "\n",
    "#gradient boosting Library\n",
    "from sklearn.ensemble import GradientBoostingRegressor"
   ]
  },
  {
   "cell_type": "code",
   "execution_count": null,
   "id": "89c03e7a",
   "metadata": {},
   "outputs": [],
   "source": [
    "df = pd.read_csv(\"G:\\Github\\DS-assignments-python\\Gradient Boosting\\SalaryData_Train.csv\")"
   ]
  },
  {
   "cell_type": "code",
   "execution_count": null,
   "id": "ac7b659e",
   "metadata": {},
   "outputs": [],
   "source": [
    "df.head()"
   ]
  },
  {
   "cell_type": "code",
   "execution_count": null,
   "id": "30735fdd",
   "metadata": {},
   "outputs": [],
   "source": [
    "df.nunique()"
   ]
  },
  {
   "cell_type": "code",
   "execution_count": null,
   "id": "26f74a7f",
   "metadata": {},
   "outputs": [],
   "source": [
    "df.info()"
   ]
  },
  {
   "cell_type": "code",
   "execution_count": null,
   "id": "cd779860",
   "metadata": {},
   "outputs": [],
   "source": [
    "num_col = [i for i in df.columns if df[i].dtype != \"O\"]\n",
    "char_col = [i for i in df.columns if df[i].dtype ==\"O\"]"
   ]
  },
  {
   "cell_type": "code",
   "execution_count": null,
   "id": "41e0eee6",
   "metadata": {},
   "outputs": [],
   "source": [
    "print(\"Numrical cols ->\",num_col,\"\\nCategory columns -> \",char_col)"
   ]
  },
  {
   "cell_type": "markdown",
   "id": "c529fb26",
   "metadata": {},
   "source": [
    "Lets do some data exploration"
   ]
  },
  {
   "cell_type": "code",
   "execution_count": null,
   "id": "64e0c9cd",
   "metadata": {},
   "outputs": [],
   "source": [
    "df.isnull().sum()\n",
    "#no missing values"
   ]
  },
  {
   "cell_type": "code",
   "execution_count": null,
   "id": "2ff9543d",
   "metadata": {},
   "outputs": [],
   "source": [
    "for i in df.columns:\n",
    "    plt.hist(df[i])\n",
    "    plt.ylabel(\"counts\")\n",
    "    plt.xlabel(i)\n",
    "    plt.title(i + \" Histagram\")\n",
    "    plt.show()\n",
    "    "
   ]
  },
  {
   "cell_type": "code",
   "execution_count": null,
   "id": "6582d6f4",
   "metadata": {},
   "outputs": [],
   "source": []
  }
 ],
 "metadata": {
  "kernelspec": {
   "display_name": "Python 3",
   "language": "python",
   "name": "python3"
  },
  "language_info": {
   "codemirror_mode": {
    "name": "ipython",
    "version": 3
   },
   "file_extension": ".py",
   "mimetype": "text/x-python",
   "name": "python",
   "nbconvert_exporter": "python",
   "pygments_lexer": "ipython3",
   "version": "3.8.8"
  }
 },
 "nbformat": 4,
 "nbformat_minor": 5
}
