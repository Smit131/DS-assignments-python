{
 "cells": [
  {
   "cell_type": "markdown",
   "id": "125212cf",
   "metadata": {},
   "source": [
    "## Objective\n",
    "### Performing basic operations of python and coding\n",
    "### Data Structure - \n",
    "1. All basic data types, their properties, pros and cons, when and why to use and prebuilt-functions available performed"
   ]
  },
  {
   "cell_type": "markdown",
   "id": "32f0755a",
   "metadata": {},
   "source": [
    "#### Four types of data structures\n",
    "1. List - []\n",
    "2. Dictionary - {key : item}\n",
    "3. Tuples - ()\n",
    "4. Set - {}"
   ]
  },
  {
   "cell_type": "markdown",
   "id": "f384ab64",
   "metadata": {},
   "source": [
    "#### lets go through one by one\n",
    "## List - []\n",
    " ordered/indexed and changeable. Allows duplicate members."
   ]
  },
  {
   "cell_type": "code",
   "execution_count": 70,
   "id": "efb11d4b",
   "metadata": {},
   "outputs": [],
   "source": [
    "l1 = [1,2,6,2,3,8]"
   ]
  },
  {
   "cell_type": "code",
   "execution_count": 71,
   "id": "d747907f",
   "metadata": {},
   "outputs": [
    {
     "data": {
      "text/plain": [
       "[1, 2, 6, 2, 3, 8]"
      ]
     },
     "execution_count": 71,
     "metadata": {},
     "output_type": "execute_result"
    }
   ],
   "source": [
    "l1[:]"
   ]
  },
  {
   "cell_type": "code",
   "execution_count": 72,
   "id": "5275f696",
   "metadata": {},
   "outputs": [
    {
     "data": {
      "text/plain": [
       "[6, 2]"
      ]
     },
     "execution_count": 72,
     "metadata": {},
     "output_type": "execute_result"
    }
   ],
   "source": [
    "l1[2:4]\n",
    "# as you can see in range area first number is considered and last limit is not"
   ]
  },
  {
   "cell_type": "code",
   "execution_count": 73,
   "id": "f88dbbef",
   "metadata": {},
   "outputs": [
    {
     "data": {
      "text/plain": [
       "6"
      ]
     },
     "execution_count": 73,
     "metadata": {},
     "output_type": "execute_result"
    }
   ],
   "source": [
    "l1[2]"
   ]
  },
  {
   "cell_type": "code",
   "execution_count": 74,
   "id": "27f14cbd",
   "metadata": {},
   "outputs": [
    {
     "name": "stdout",
     "output_type": "stream",
     "text": [
      "[1, 2, 6, 2, 3, 8, 66]\n"
     ]
    }
   ],
   "source": [
    "l1.append(66)\n",
    "print(l1)"
   ]
  },
  {
   "cell_type": "code",
   "execution_count": 75,
   "id": "c65e1b76",
   "metadata": {},
   "outputs": [
    {
     "name": "stdout",
     "output_type": "stream",
     "text": [
      "66 [1, 2, 6, 2, 3, 8]\n"
     ]
    }
   ],
   "source": [
    "print(l1.pop(),l1)\n",
    "#last element is poped"
   ]
  },
  {
   "cell_type": "code",
   "execution_count": 76,
   "id": "6f6b7bd8",
   "metadata": {},
   "outputs": [
    {
     "data": {
      "text/plain": [
       "6"
      ]
     },
     "execution_count": 76,
     "metadata": {},
     "output_type": "execute_result"
    }
   ],
   "source": [
    "len(l1)"
   ]
  },
  {
   "cell_type": "code",
   "execution_count": 77,
   "id": "6ef37202",
   "metadata": {},
   "outputs": [],
   "source": [
    "l2 = [1,4,9,2,5,[1,2,4],[3,55,1]]"
   ]
  },
  {
   "cell_type": "code",
   "execution_count": 78,
   "id": "c2624369",
   "metadata": {},
   "outputs": [
    {
     "data": {
      "text/plain": [
       "2"
      ]
     },
     "execution_count": 78,
     "metadata": {},
     "output_type": "execute_result"
    }
   ],
   "source": [
    "l2[5][1]\n",
    "#nested indexing"
   ]
  },
  {
   "cell_type": "code",
   "execution_count": 79,
   "id": "ef6ff62e",
   "metadata": {},
   "outputs": [],
   "source": [
    "l1.sort()"
   ]
  },
  {
   "cell_type": "code",
   "execution_count": 80,
   "id": "67ef03a6",
   "metadata": {},
   "outputs": [
    {
     "data": {
      "text/plain": [
       "[1, 2, 2, 3, 6, 8]"
      ]
     },
     "execution_count": 80,
     "metadata": {},
     "output_type": "execute_result"
    }
   ],
   "source": [
    "l1"
   ]
  },
  {
   "cell_type": "code",
   "execution_count": 81,
   "id": "ee8f2b95",
   "metadata": {},
   "outputs": [],
   "source": [
    "l1.reverse()"
   ]
  },
  {
   "cell_type": "code",
   "execution_count": 82,
   "id": "ff246ff0",
   "metadata": {},
   "outputs": [
    {
     "data": {
      "text/plain": [
       "[8, 6, 3, 2, 2, 1]"
      ]
     },
     "execution_count": 82,
     "metadata": {},
     "output_type": "execute_result"
    }
   ],
   "source": [
    "l1"
   ]
  },
  {
   "cell_type": "code",
   "execution_count": 83,
   "id": "0e9c345d",
   "metadata": {},
   "outputs": [],
   "source": [
    "l1.remove(2)\n",
    "# removes all matching instances"
   ]
  },
  {
   "cell_type": "code",
   "execution_count": 84,
   "id": "26aaff75",
   "metadata": {},
   "outputs": [
    {
     "data": {
      "text/plain": [
       "[8, 6, 3, 2, 1]"
      ]
     },
     "execution_count": 84,
     "metadata": {},
     "output_type": "execute_result"
    }
   ],
   "source": [
    "l1"
   ]
  },
  {
   "cell_type": "code",
   "execution_count": 85,
   "id": "d280e5c8",
   "metadata": {},
   "outputs": [],
   "source": [
    "d1 = {\"r1\": 2,\"r3\": 3}"
   ]
  },
  {
   "cell_type": "code",
   "execution_count": 86,
   "id": "841e978f",
   "metadata": {},
   "outputs": [],
   "source": [
    "l3 = [1,2,3,\"yup i am str\",d1]"
   ]
  },
  {
   "cell_type": "code",
   "execution_count": 87,
   "id": "13760399",
   "metadata": {},
   "outputs": [
    {
     "data": {
      "text/plain": [
       "[1, 2, 3, 'yup i am str', {'r1': 2, 'r3': 3}]"
      ]
     },
     "execution_count": 87,
     "metadata": {},
     "output_type": "execute_result"
    }
   ],
   "source": [
    "l3\n",
    "#can store other data structures too"
   ]
  },
  {
   "cell_type": "code",
   "execution_count": 88,
   "id": "756e8cdd",
   "metadata": {},
   "outputs": [
    {
     "data": {
      "text/plain": [
       "2"
      ]
     },
     "execution_count": 88,
     "metadata": {},
     "output_type": "execute_result"
    }
   ],
   "source": [
    "l3[4]['r1']"
   ]
  },
  {
   "cell_type": "code",
   "execution_count": 89,
   "id": "54c12085",
   "metadata": {},
   "outputs": [],
   "source": [
    "l3[4]['r1'] = 33"
   ]
  },
  {
   "cell_type": "code",
   "execution_count": 90,
   "id": "f917bc1f",
   "metadata": {},
   "outputs": [
    {
     "data": {
      "text/plain": [
       "[1, 2, 3, 'yup i am str', {'r1': 33, 'r3': 3}]"
      ]
     },
     "execution_count": 90,
     "metadata": {},
     "output_type": "execute_result"
    }
   ],
   "source": [
    "l3 "
   ]
  },
  {
   "cell_type": "code",
   "execution_count": 195,
   "id": "acd0aead",
   "metadata": {},
   "outputs": [
    {
     "name": "stdout",
     "output_type": "stream",
     "text": [
      "3\n"
     ]
    }
   ],
   "source": [
    "weekdays = ['sun','mon','tue','wed','thu','fri','sun','mon','mon']\n",
    "print(weekdays.count('mon'))"
   ]
  },
  {
   "cell_type": "code",
   "execution_count": 197,
   "id": "5ec255f2",
   "metadata": {},
   "outputs": [
    {
     "data": {
      "text/plain": [
       "'sun mon tue wed thu fri sun mon mon'"
      ]
     },
     "execution_count": 197,
     "metadata": {},
     "output_type": "execute_result"
    }
   ],
   "source": [
    "days = \" \".join(weekdays)\n",
    "days"
   ]
  },
  {
   "cell_type": "code",
   "execution_count": 198,
   "id": "bba828eb",
   "metadata": {},
   "outputs": [
    {
     "data": {
      "text/plain": [
       "['sun', 'mon', 'tue', 'wed', 'thu', 'fri', 'sun', 'mon', 'mon']"
      ]
     },
     "execution_count": 198,
     "metadata": {},
     "output_type": "execute_result"
    }
   ],
   "source": [
    "weekd = days.split(\" \")\n",
    "weekd"
   ]
  },
  {
   "cell_type": "code",
   "execution_count": 204,
   "id": "5bd80d56",
   "metadata": {},
   "outputs": [
    {
     "name": "stdout",
     "output_type": "stream",
     "text": [
      "[['sun', 2], ['tue', 1], ['thu', 1], ['fri', 1], ['wed', 1], ['mon', 3]]\n",
      "{'sun': 2, 'tue': 1, 'thu': 1, 'fri': 1, 'wed': 1, 'mon': 3}\n"
     ]
    }
   ],
   "source": [
    "counts_d = dict()\n",
    "counts_dl = [[x,weekdays.count(x)] for x in set(weekdays)]\n",
    "print(counts_dl)\n",
    "count_dic = dict(counts_dl)\n",
    "print(count_dic)"
   ]
  },
  {
   "cell_type": "markdown",
   "id": "abd3a898",
   "metadata": {},
   "source": [
    "### MVP things.... - > enumerate"
   ]
  },
  {
   "cell_type": "code",
   "execution_count": 205,
   "id": "f7f3173e",
   "metadata": {},
   "outputs": [
    {
     "name": "stdout",
     "output_type": "stream",
     "text": [
      "0 Python\n",
      "1 Interview\n",
      "2 Questions\n"
     ]
    }
   ],
   "source": [
    "subjects = ('Python', 'Interview', 'Questions')\n",
    "for i, subject in enumerate(subjects):\n",
    "    print(i, subject)"
   ]
  },
  {
   "cell_type": "markdown",
   "id": "0a2ce854",
   "metadata": {},
   "source": [
    "### Notes  -\n",
    "- As the sets are indexed and allow duplicates great for storing data\n",
    "    part of item of set can reached by value or by index.\n",
    "- can store multiple types of data types in itself.including other **DATA-STRUCTRES** as Dict ,etc\n",
    "\n",
    "**this makes list a best option as a data structure to store things when there are no other conditions**\n"
   ]
  },
  {
   "cell_type": "markdown",
   "id": "a34c208b",
   "metadata": {},
   "source": [
    "## tuples\n",
    "indexed , unchangeble/unmutable(execpt can be overwritten) , allows duplicate"
   ]
  },
  {
   "cell_type": "code",
   "execution_count": 91,
   "id": "6f3b357e",
   "metadata": {},
   "outputs": [],
   "source": [
    "t1 = (1,2,3)\n",
    "t2 = (\"a\",\"b\",\"c\")"
   ]
  },
  {
   "cell_type": "code",
   "execution_count": 92,
   "id": "317ed69d",
   "metadata": {},
   "outputs": [],
   "source": [
    "t3 = t1+t2"
   ]
  },
  {
   "cell_type": "code",
   "execution_count": 93,
   "id": "3d488b60",
   "metadata": {},
   "outputs": [
    {
     "data": {
      "text/plain": [
       "(1, 2, 3, 'a', 'b', 'c')"
      ]
     },
     "execution_count": 93,
     "metadata": {},
     "output_type": "execute_result"
    }
   ],
   "source": [
    "t3"
   ]
  },
  {
   "cell_type": "code",
   "execution_count": 94,
   "id": "4099775a",
   "metadata": {},
   "outputs": [
    {
     "data": {
      "text/plain": [
       "(1, 2, 3, 'a')"
      ]
     },
     "execution_count": 94,
     "metadata": {},
     "output_type": "execute_result"
    }
   ],
   "source": [
    "t3[0:4]"
   ]
  },
  {
   "cell_type": "markdown",
   "id": "fe22a2f2",
   "metadata": {},
   "source": [
    "t3[2] = 5\n",
    "<br>gives TypeError: 'tuple' object does not support item assignment"
   ]
  },
  {
   "cell_type": "markdown",
   "id": "14a2b46a",
   "metadata": {},
   "source": [
    "t3.append(6)\n",
    "<br>gives - AttributeError: 'tuple' object has no attribute 'append'"
   ]
  },
  {
   "cell_type": "markdown",
   "id": "742eaa37",
   "metadata": {},
   "source": [
    "so u cant append using function <br>\n",
    "but u can add elements by overwritting a tuple with new added tuple with \"+\" operator"
   ]
  },
  {
   "cell_type": "code",
   "execution_count": 95,
   "id": "32b85afd",
   "metadata": {},
   "outputs": [],
   "source": [
    "t3 = t3 + (\"add\",\"it\")"
   ]
  },
  {
   "cell_type": "code",
   "execution_count": 96,
   "id": "2334c2dd",
   "metadata": {},
   "outputs": [
    {
     "data": {
      "text/plain": [
       "(1, 2, 3, 'a', 'b', 'c', 'add', 'it')"
      ]
     },
     "execution_count": 96,
     "metadata": {},
     "output_type": "execute_result"
    }
   ],
   "source": [
    "t3"
   ]
  },
  {
   "cell_type": "code",
   "execution_count": 97,
   "id": "d1bc9a7d",
   "metadata": {},
   "outputs": [
    {
     "data": {
      "text/plain": [
       "'add'"
      ]
     },
     "execution_count": 97,
     "metadata": {},
     "output_type": "execute_result"
    }
   ],
   "source": [
    "t3[6]"
   ]
  },
  {
   "cell_type": "code",
   "execution_count": 98,
   "id": "bf36cc60",
   "metadata": {},
   "outputs": [],
   "source": [
    "t4 = (1,1,1,1,2,2,2,3)"
   ]
  },
  {
   "cell_type": "code",
   "execution_count": 99,
   "id": "3be08b02",
   "metadata": {},
   "outputs": [
    {
     "data": {
      "text/plain": [
       "(1, 1, 1, 1, 2, 2, 2, 3)"
      ]
     },
     "execution_count": 99,
     "metadata": {},
     "output_type": "execute_result"
    }
   ],
   "source": [
    "t4"
   ]
  },
  {
   "cell_type": "markdown",
   "id": "cc81845a",
   "metadata": {},
   "source": [
    "#### Notes - \n",
    "So tuple is like list structure... with exception that once created u can't change anything ... except **overwriting** it to change te tuple \n",
    "where can these be used - \n",
    "1. Tuples are more memory efficient than the lists. - \n",
    "    tuples are immutable and fixed size, Python allocates just the minimum memory block required for the data.\n",
    "2. Tuples are used whenever you want to return multiple results from a function.\n",
    "3. Since they're immutable, they can be used as keys for a dictionary (lists can't)."
   ]
  },
  {
   "cell_type": "code",
   "execution_count": 100,
   "id": "e939b06d",
   "metadata": {},
   "outputs": [
    {
     "name": "stdout",
     "output_type": "stream",
     "text": [
      "19 47\n"
     ]
    }
   ],
   "source": [
    "#2 point example\n",
    "def tuptup():\n",
    "    a =19\n",
    "    b =47\n",
    "    return (a,b)\n",
    "\n",
    "x,y = tuptup()\n",
    "\n",
    "print(x,y)"
   ]
  },
  {
   "cell_type": "code",
   "execution_count": 101,
   "id": "f25206ec",
   "metadata": {},
   "outputs": [],
   "source": [
    "#3 point example\n",
    "coordinates = { (0,0) : 100, (1,1) : 200}\n",
    "#coordinates1 = { [0,0] : 100, [1,1] : 200}\n",
    "#coordinate1 gives error -> TypeError: unhashable type: 'list'"
   ]
  },
  {
   "cell_type": "code",
   "execution_count": 102,
   "id": "ad3bef1e",
   "metadata": {},
   "outputs": [
    {
     "data": {
      "text/plain": [
       "100"
      ]
     },
     "execution_count": 102,
     "metadata": {},
     "output_type": "execute_result"
    }
   ],
   "source": [
    "coordinates[(0,0)]"
   ]
  },
  {
   "cell_type": "markdown",
   "id": "cfd1c840",
   "metadata": {},
   "source": [
    "### Dictionaries\n",
    "Dictionary is indexed by key (so indexing of 0 ,1 ,2 is not present like list but the keys in itself are indexing the vlues\n",
    "                                so its called indexed data structures)\n",
    " changeble\\mutable , but no **repeated elements** allowed\n",
    "- by no repeated values..it means - key defined for a dictionary needs to be unique"
   ]
  },
  {
   "cell_type": "code",
   "execution_count": 103,
   "id": "3a2dd88d",
   "metadata": {},
   "outputs": [],
   "source": [
    "dub ={\"car\":\"Baleno\",\"model\":\"GT500\",\"year\":2020}"
   ]
  },
  {
   "cell_type": "code",
   "execution_count": 104,
   "id": "b1ff6a81",
   "metadata": {},
   "outputs": [
    {
     "data": {
      "text/plain": [
       "'Baleno'"
      ]
     },
     "execution_count": 104,
     "metadata": {},
     "output_type": "execute_result"
    }
   ],
   "source": [
    "dub[\"car\"]"
   ]
  },
  {
   "cell_type": "markdown",
   "id": "218aaa30",
   "metadata": {},
   "source": [
    "there are many in-built functions for dictionaries that can be used as ->"
   ]
  },
  {
   "cell_type": "code",
   "execution_count": 105,
   "id": "9573ee78",
   "metadata": {},
   "outputs": [
    {
     "data": {
      "text/plain": [
       "dict_items([('car', 'Baleno'), ('model', 'GT500'), ('year', 2020)])"
      ]
     },
     "execution_count": 105,
     "metadata": {},
     "output_type": "execute_result"
    }
   ],
   "source": [
    "dub.items()"
   ]
  },
  {
   "cell_type": "code",
   "execution_count": 106,
   "id": "aa725f90",
   "metadata": {},
   "outputs": [
    {
     "data": {
      "text/plain": [
       "dict_keys(['car', 'model', 'year'])"
      ]
     },
     "execution_count": 106,
     "metadata": {},
     "output_type": "execute_result"
    }
   ],
   "source": [
    "dub.keys()"
   ]
  },
  {
   "cell_type": "code",
   "execution_count": 107,
   "id": "1d253d34",
   "metadata": {},
   "outputs": [
    {
     "data": {
      "text/plain": [
       "dict_values(['Baleno', 'GT500', 2020])"
      ]
     },
     "execution_count": 107,
     "metadata": {},
     "output_type": "execute_result"
    }
   ],
   "source": [
    "dub.values()"
   ]
  },
  {
   "cell_type": "code",
   "execution_count": 108,
   "id": "4aa40886",
   "metadata": {},
   "outputs": [],
   "source": [
    "dub1 = dub.copy()\n",
    "# copy command common all other dataframe as well"
   ]
  },
  {
   "cell_type": "code",
   "execution_count": 109,
   "id": "bbf860d0",
   "metadata": {},
   "outputs": [
    {
     "data": {
      "text/plain": [
       "('year', 2020)"
      ]
     },
     "execution_count": 109,
     "metadata": {},
     "output_type": "execute_result"
    }
   ],
   "source": [
    "dub1.popitem()"
   ]
  },
  {
   "cell_type": "code",
   "execution_count": 110,
   "id": "9cf52d01",
   "metadata": {},
   "outputs": [
    {
     "data": {
      "text/plain": [
       "{'car': 'Baleno', 'model': 'GT500'}"
      ]
     },
     "execution_count": 110,
     "metadata": {},
     "output_type": "execute_result"
    }
   ],
   "source": [
    "dub1"
   ]
  },
  {
   "cell_type": "code",
   "execution_count": 111,
   "id": "4167401d",
   "metadata": {},
   "outputs": [],
   "source": [
    "dub1.clear()"
   ]
  },
  {
   "cell_type": "code",
   "execution_count": 112,
   "id": "6b07712c",
   "metadata": {},
   "outputs": [
    {
     "data": {
      "text/plain": [
       "{}"
      ]
     },
     "execution_count": 112,
     "metadata": {},
     "output_type": "execute_result"
    }
   ],
   "source": [
    "dub1\n",
    "# why.... but why would you do any of that"
   ]
  },
  {
   "cell_type": "code",
   "execution_count": 113,
   "id": "a9b1c206",
   "metadata": {},
   "outputs": [
    {
     "name": "stdout",
     "output_type": "stream",
     "text": [
      "('car', 'Baleno') <class 'tuple'>\n",
      "('model', 'GT500') <class 'tuple'>\n",
      "('year', 2020) <class 'tuple'>\n"
     ]
    }
   ],
   "source": [
    "for i in dub.items():\n",
    "    print(i,type(i))"
   ]
  },
  {
   "cell_type": "markdown",
   "id": "3c99899c",
   "metadata": {},
   "source": [
    "notes - \n",
    "Great data structure to store base relation ship between two groups of dataset"
   ]
  },
  {
   "cell_type": "markdown",
   "id": "65227bcf",
   "metadata": {},
   "source": [
    "## sets"
   ]
  },
  {
   "cell_type": "markdown",
   "id": "c79e21a1",
   "metadata": {},
   "source": [
    "**unindexed,mutable,doesn't allow duplicates**<br>**even though unidexed they are iterable**"
   ]
  },
  {
   "cell_type": "code",
   "execution_count": 212,
   "id": "8145d51c",
   "metadata": {},
   "outputs": [
    {
     "data": {
      "text/plain": [
       "[10, 8, 6, 4, 2]"
      ]
     },
     "execution_count": 212,
     "metadata": {},
     "output_type": "execute_result"
    }
   ],
   "source": [
    "[i for i in range(10,1,-2)]"
   ]
  },
  {
   "cell_type": "code",
   "execution_count": 114,
   "id": "7ce859cd",
   "metadata": {},
   "outputs": [],
   "source": [
    "a = {1,2,35,63,1,2}"
   ]
  },
  {
   "cell_type": "code",
   "execution_count": 115,
   "id": "51e6dd87",
   "metadata": {},
   "outputs": [
    {
     "data": {
      "text/plain": [
       "{1, 2, 35, 63}"
      ]
     },
     "execution_count": 115,
     "metadata": {},
     "output_type": "execute_result"
    }
   ],
   "source": [
    "a\n",
    "#only first instances of repeated value is considered"
   ]
  },
  {
   "cell_type": "code",
   "execution_count": 116,
   "id": "cc933424",
   "metadata": {},
   "outputs": [
    {
     "data": {
      "text/plain": [
       "4"
      ]
     },
     "execution_count": 116,
     "metadata": {},
     "output_type": "execute_result"
    }
   ],
   "source": [
    "len(a)"
   ]
  },
  {
   "cell_type": "markdown",
   "id": "9432190c",
   "metadata": {},
   "source": [
    "a[0] <br> \n",
    "gives error->TypeError: 'set' object is not subscriptable"
   ]
  },
  {
   "cell_type": "code",
   "execution_count": 117,
   "id": "5de85bfe",
   "metadata": {},
   "outputs": [
    {
     "name": "stdout",
     "output_type": "stream",
     "text": [
      "1\n",
      "2\n",
      "35\n",
      "63\n"
     ]
    }
   ],
   "source": [
    "# iterable though\n",
    "for i in a:\n",
    "    print(i)"
   ]
  },
  {
   "cell_type": "code",
   "execution_count": 118,
   "id": "326551d7",
   "metadata": {},
   "outputs": [
    {
     "name": "stdout",
     "output_type": "stream",
     "text": [
      "{1, 2, 35, 5, 63}\n"
     ]
    }
   ],
   "source": [
    "a.add(5)\n",
    "print(a)"
   ]
  },
  {
   "cell_type": "code",
   "execution_count": 119,
   "id": "1fd55db0",
   "metadata": {},
   "outputs": [
    {
     "name": "stdout",
     "output_type": "stream",
     "text": [
      "{1, 2, 35, 63}\n"
     ]
    }
   ],
   "source": [
    "a.remove(5)\n",
    "print(a)"
   ]
  },
  {
   "cell_type": "code",
   "execution_count": 120,
   "id": "485c8699",
   "metadata": {},
   "outputs": [
    {
     "data": {
      "text/plain": [
       "1"
      ]
     },
     "execution_count": 120,
     "metadata": {},
     "output_type": "execute_result"
    }
   ],
   "source": [
    "a.pop()\n",
    "#first element is poped\n",
    "#where as last element is poped in list ..... interesting"
   ]
  },
  {
   "cell_type": "code",
   "execution_count": 121,
   "id": "6806bfb0",
   "metadata": {},
   "outputs": [
    {
     "name": "stdout",
     "output_type": "stream",
     "text": [
      "set()\n"
     ]
    }
   ],
   "source": [
    "a.clear()\n",
    "print(a)\n",
    "# why.. why would you any of that"
   ]
  },
  {
   "cell_type": "markdown",
   "id": "3b4c6bcd",
   "metadata": {},
   "source": [
    "### .clear() Goals:\n",
    "- Release Memory: If you have a large list that fills your memory—such as a huge data set or a large file read via readlines()—and you don’t need it anymore, you can immediately release the memory with list.clear(). Especially in interactive mode, Python doesn’t know which variable you still need – so it must keep all variables till session end. But if you call list.clear(), it can release the memory for other processing tasks.\n",
    "- Clear Multiple List Variables: Multiple variables may refer to the same list object. If you want to reflect that the list is now empty, you can either call list.clear() on one variable and all other variables will see it, or you must call var1 = [], var2 = [], ..., varn = [] for all variables. This can be a pain if you have many variables."
   ]
  },
  {
   "cell_type": "markdown",
   "id": "08668b00",
   "metadata": {},
   "source": [
    "#### Notes - \n",
    "sets are like lists but no duplicates and no indexing but iterable<br>\n",
    "sooo... like human putting things in a bag unoredered and no same things allowed\n",
    "maybe u can use to dyanamically store primary key values"
   ]
  },
  {
   "cell_type": "markdown",
   "id": "a291a9db",
   "metadata": {},
   "source": [
    "### Why sets -\n",
    "it makes sets highly useful to efficiently **remove duplicate values from a list or tuple** \n",
    "<br>to perform common math operations like **unions and intersections.**\n",
    "\n",
    "<br>Thus when asked to give common elements of to group of values , sets are the best"
   ]
  },
  {
   "cell_type": "code",
   "execution_count": 122,
   "id": "b8f21cf2",
   "metadata": {},
   "outputs": [],
   "source": [
    "a = [1,1,1,1,1,2,2,2,2,2,33,33,3,3,3]"
   ]
  },
  {
   "cell_type": "code",
   "execution_count": 123,
   "id": "f88a50c5",
   "metadata": {},
   "outputs": [
    {
     "name": "stdout",
     "output_type": "stream",
     "text": [
      "[1, 2, 3, 33]\n"
     ]
    }
   ],
   "source": [
    "a = list(set(a))\n",
    "print(a)"
   ]
  },
  {
   "cell_type": "code",
   "execution_count": 124,
   "id": "1cb022fc",
   "metadata": {},
   "outputs": [],
   "source": [
    "x = {1,2,3,4,5}\n",
    "y = {3,4,5,6,7}"
   ]
  },
  {
   "cell_type": "code",
   "execution_count": 125,
   "id": "0905ee0e",
   "metadata": {},
   "outputs": [
    {
     "data": {
      "text/plain": [
       "{1, 2, 3, 4, 5, 6, 7}"
      ]
     },
     "execution_count": 125,
     "metadata": {},
     "output_type": "execute_result"
    }
   ],
   "source": [
    "x.union(y)"
   ]
  },
  {
   "cell_type": "code",
   "execution_count": 126,
   "id": "0a07ab83",
   "metadata": {},
   "outputs": [
    {
     "data": {
      "text/plain": [
       "{3, 4, 5}"
      ]
     },
     "execution_count": 126,
     "metadata": {},
     "output_type": "execute_result"
    }
   ],
   "source": [
    "x.intersection(y)"
   ]
  },
  {
   "cell_type": "code",
   "execution_count": 127,
   "id": "542862a5",
   "metadata": {},
   "outputs": [
    {
     "data": {
      "text/plain": [
       "{1, 2}"
      ]
     },
     "execution_count": 127,
     "metadata": {},
     "output_type": "execute_result"
    }
   ],
   "source": [
    "x.difference(y)"
   ]
  },
  {
   "cell_type": "code",
   "execution_count": 128,
   "id": "cea8c901",
   "metadata": {},
   "outputs": [
    {
     "data": {
      "text/plain": [
       "{1, 2, 6, 7}"
      ]
     },
     "execution_count": 128,
     "metadata": {},
     "output_type": "execute_result"
    }
   ],
   "source": [
    "x.symmetric_difference(y)"
   ]
  },
  {
   "cell_type": "markdown",
   "id": "5234d631",
   "metadata": {},
   "source": [
    "## Bonus extra dataset - Frozensets\n",
    "Set but is unmutable\\immutable.... imune to mutablility"
   ]
  },
  {
   "cell_type": "code",
   "execution_count": 129,
   "id": "f229822a",
   "metadata": {},
   "outputs": [],
   "source": [
    "# Initialize a frozenset\n",
    "immutableSet = frozenset([1,2,3,4])"
   ]
  },
  {
   "cell_type": "code",
   "execution_count": 130,
   "id": "063a97aa",
   "metadata": {},
   "outputs": [
    {
     "data": {
      "text/plain": [
       "frozenset({1, 2, 3, 4})"
      ]
     },
     "execution_count": 130,
     "metadata": {},
     "output_type": "execute_result"
    }
   ],
   "source": [
    "immutableSet"
   ]
  },
  {
   "cell_type": "markdown",
   "id": "860263e6",
   "metadata": {},
   "source": [
    " now above set is unmutable and you can use it to intersection and other things with other sets"
   ]
  },
  {
   "cell_type": "markdown",
   "id": "e3c5900d",
   "metadata": {},
   "source": [
    "then there are user definrd data structures like Stack(first in last out),ques(first in first out),linked list(value and poitners), trees(pointer to left leaf ,value, pointerto right leaf),hash map (key value) ,etc"
   ]
  },
  {
   "cell_type": "markdown",
   "id": "be12a7bb",
   "metadata": {},
   "source": [
    "-----------------------\n"
   ]
  },
  {
   "cell_type": "markdown",
   "id": "77d882f0",
   "metadata": {},
   "source": [
    "# Some Python Interview coding"
   ]
  },
  {
   "cell_type": "code",
   "execution_count": 131,
   "id": "ef926102",
   "metadata": {},
   "outputs": [
    {
     "data": {
      "text/plain": [
       "[1, 4, 5]"
      ]
     },
     "execution_count": 131,
     "metadata": {},
     "output_type": "execute_result"
    }
   ],
   "source": [
    "#Fast duplicate removing\n",
    "a = [1,4,4,5]\n",
    "a = list(set(a))\n",
    "a"
   ]
  },
  {
   "cell_type": "code",
   "execution_count": 132,
   "id": "725b72dc",
   "metadata": {},
   "outputs": [
    {
     "name": "stdout",
     "output_type": "stream",
     "text": [
      "           *\n",
      "          ***\n",
      "         *****\n",
      "        *******\n",
      "       *********\n",
      "      ***********\n",
      "     *************\n",
      "    ***************\n",
      "   *****************\n",
      "  *******************\n"
     ]
    }
   ],
   "source": [
    "#star tower printage\n",
    "for i in range(10):\n",
    "    print(\" \"*(10-i),\"*\"+i*2*\"*\")"
   ]
  },
  {
   "cell_type": "code",
   "execution_count": 133,
   "id": "fa3db070",
   "metadata": {},
   "outputs": [
    {
     "name": "stdout",
     "output_type": "stream",
     "text": [
      "**\n"
     ]
    }
   ],
   "source": [
    "print(\"*\"*2)"
   ]
  },
  {
   "cell_type": "code",
   "execution_count": 134,
   "id": "ba7a357d",
   "metadata": {},
   "outputs": [
    {
     "data": {
      "text/plain": [
       "[5, 4, 1]"
      ]
     },
     "execution_count": 134,
     "metadata": {},
     "output_type": "execute_result"
    }
   ],
   "source": [
    "#reverse shortcut??\n",
    "a[::-1]\n",
    "#were defining step here as -1 so python does its intelligent thing and gives us this"
   ]
  },
  {
   "cell_type": "code",
   "execution_count": 135,
   "id": "5f8897fb",
   "metadata": {},
   "outputs": [
    {
     "data": {
      "text/plain": [
       "[4, 1]"
      ]
     },
     "execution_count": 135,
     "metadata": {},
     "output_type": "execute_result"
    }
   ],
   "source": [
    "a[-2::-1]"
   ]
  },
  {
   "cell_type": "code",
   "execution_count": 136,
   "id": "e1f70885",
   "metadata": {},
   "outputs": [
    {
     "name": "stdout",
     "output_type": "stream",
     "text": [
      "12\n",
      "[2, 4, 6, 8, 10]\n"
     ]
    }
   ],
   "source": [
    "# how lamda also known as anonymous function works\n",
    "\n",
    "a = lambda x, y: x * y\n",
    "print(a(4, 3))\n",
    "\n",
    "## used in mapping like- \n",
    "b = list(map(lambda n: n * 2, [1, 2, 3, 4, 5]))\n",
    "# map takes first argue as function to be applied on all elemnts of the second argument\n",
    "print(b)"
   ]
  },
  {
   "cell_type": "code",
   "execution_count": 149,
   "id": "b299ac91",
   "metadata": {},
   "outputs": [
    {
     "name": "stdout",
     "output_type": "stream",
     "text": [
      "5\n"
     ]
    }
   ],
   "source": [
    "# Global and Local Scope\n",
    "p=2\n",
    "def add():\n",
    "    qr=3\n",
    "    r=p+qr\n",
    "    print(r)\n",
    "add()"
   ]
  },
  {
   "cell_type": "code",
   "execution_count": 150,
   "id": "9487212b",
   "metadata": {},
   "outputs": [
    {
     "ename": "NameError",
     "evalue": "name 'qr' is not defined",
     "output_type": "error",
     "traceback": [
      "\u001b[1;31m---------------------------------------------------------------------------\u001b[0m",
      "\u001b[1;31mNameError\u001b[0m                                 Traceback (most recent call last)",
      "\u001b[1;32m<ipython-input-150-069b2ed1bd61>\u001b[0m in \u001b[0;36m<module>\u001b[1;34m\u001b[0m\n\u001b[1;32m----> 1\u001b[1;33m \u001b[0mqr\u001b[0m\u001b[1;33m\u001b[0m\u001b[1;33m\u001b[0m\u001b[0m\n\u001b[0m\u001b[0;32m      2\u001b[0m \u001b[1;31m#error cause q in local namespcae\u001b[0m\u001b[1;33m\u001b[0m\u001b[1;33m\u001b[0m\u001b[1;33m\u001b[0m\u001b[0m\n",
      "\u001b[1;31mNameError\u001b[0m: name 'qr' is not defined"
     ]
    }
   ],
   "source": [
    "qr\n",
    "#error cause q in local namespcae"
   ]
  },
  {
   "cell_type": "code",
   "execution_count": 146,
   "id": "36bc9b80",
   "metadata": {},
   "outputs": [],
   "source": [
    "#__init__ constructor in classes\n",
    "\n",
    "class Bird:\n",
    "    @classmethod\n",
    "    def __init__(self,name,color,spd,wngspn):\n",
    "        self.name = name\n",
    "        self.color = color\n",
    "        self.spd = spd*0.27\n",
    "        self.wngspn = wngspn\n",
    "        \n",
    "    @staticmethod\n",
    "    def changename(self,name):\n",
    "        self.full_name = self.name + name"
   ]
  },
  {
   "cell_type": "code",
   "execution_count": 147,
   "id": "72136fce",
   "metadata": {},
   "outputs": [],
   "source": [
    "beep = Bird(\"Parrot\",\"Green\",40,5)"
   ]
  },
  {
   "cell_type": "code",
   "execution_count": null,
   "id": "9ed3243e",
   "metadata": {},
   "outputs": [],
   "source": [
    "#beep.changename(\"crow\")"
   ]
  },
  {
   "cell_type": "code",
   "execution_count": 148,
   "id": "cfc188d4",
   "metadata": {},
   "outputs": [
    {
     "name": "stdout",
     "output_type": "stream",
     "text": [
      "Parrot with speed 10.8 m\\s speed\n"
     ]
    }
   ],
   "source": [
    "print(beep.name,\"with speed\",beep.spd,\"m\\s speed\")"
   ]
  },
  {
   "cell_type": "code",
   "execution_count": null,
   "id": "870f9c92",
   "metadata": {},
   "outputs": [],
   "source": [
    "#help(\"class\")"
   ]
  },
  {
   "cell_type": "code",
   "execution_count": 151,
   "id": "c5c5eed5",
   "metadata": {},
   "outputs": [
    {
     "name": "stdout",
     "output_type": "stream",
     "text": [
      "Abcd\n",
      "abCD\n",
      "abcd\n"
     ]
    }
   ],
   "source": [
    "stg='abCD'\n",
    "print(stg.capitalize())\n",
    "print(stg)\n",
    "print(stg.lower())"
   ]
  },
  {
   "cell_type": "code",
   "execution_count": 152,
   "id": "fd7879a4",
   "metadata": {},
   "outputs": [
    {
     "data": {
      "text/plain": [
       "{'a': 1, 'b': 2, 'c': 3, 'd': 4, 'e': 5}"
      ]
     },
     "execution_count": 152,
     "metadata": {},
     "output_type": "execute_result"
    }
   ],
   "source": [
    "A0 = dict(zip(('a','b','c','d','e'),(1,2,3,4,5)))\n",
    "A1 = range(10)\n",
    "A0"
   ]
  },
  {
   "cell_type": "code",
   "execution_count": 153,
   "id": "561622dc",
   "metadata": {},
   "outputs": [
    {
     "data": {
      "text/plain": [
       "['a', 'b', 'c', 'd', 'e']"
      ]
     },
     "execution_count": 153,
     "metadata": {},
     "output_type": "execute_result"
    }
   ],
   "source": [
    "[s for s in A0]"
   ]
  },
  {
   "cell_type": "code",
   "execution_count": 154,
   "id": "ec58e660",
   "metadata": {},
   "outputs": [
    {
     "data": {
      "text/plain": [
       "[1, 2, 3, 4, 5]"
      ]
     },
     "execution_count": 154,
     "metadata": {},
     "output_type": "execute_result"
    }
   ],
   "source": [
    "A3 = sorted([A0[s] for s in A0])\n",
    "A3"
   ]
  },
  {
   "cell_type": "code",
   "execution_count": 155,
   "id": "1262bf6c",
   "metadata": {},
   "outputs": [
    {
     "name": "stdout",
     "output_type": "stream",
     "text": [
      "{0: 0, 1: 1, 2: 4, 3: 9, 4: 16, 5: 25, 6: 36, 7: 49, 8: 64, 9: 81} <class 'dict'>\n"
     ]
    }
   ],
   "source": [
    "A5 = {i:i*i for i in A1}\n",
    "print(A5,type(A5))"
   ]
  },
  {
   "cell_type": "code",
   "execution_count": 156,
   "id": "fc8d4139",
   "metadata": {},
   "outputs": [
    {
     "data": {
      "text/plain": [
       "[[0, 0],\n",
       " [1, 1],\n",
       " [2, 4],\n",
       " [3, 9],\n",
       " [4, 16],\n",
       " [5, 25],\n",
       " [6, 36],\n",
       " [7, 49],\n",
       " [8, 64],\n",
       " [9, 81]]"
      ]
     },
     "execution_count": 156,
     "metadata": {},
     "output_type": "execute_result"
    }
   ],
   "source": [
    "A6 = [[i,i*i] for i in A1]\n",
    "A6"
   ]
  },
  {
   "cell_type": "code",
   "execution_count": 163,
   "id": "6330a839",
   "metadata": {},
   "outputs": [
    {
     "name": "stdout",
     "output_type": "stream",
     "text": [
      "enter number9\n",
      "not prime\n"
     ]
    }
   ],
   "source": [
    "#prime number dtetction\n",
    "a=int(input(\"enter number\"))\n",
    "if a>2:\n",
    "    for x in range(2,a):\n",
    "        if(a%x)==0:\n",
    "            print(\"not prime\")\n",
    "            break\n",
    "        elif x == a-1:\n",
    "            print(\"Prime\")\n",
    "elif a==1:\n",
    "    print(\"not prime\")\n",
    "elif a==2:\n",
    "    print(\"Prime\")"
   ]
  },
  {
   "cell_type": "code",
   "execution_count": 165,
   "id": "83851834",
   "metadata": {},
   "outputs": [],
   "source": [
    "import numpy as np"
   ]
  },
  {
   "cell_type": "code",
   "execution_count": 171,
   "id": "1610e4fe",
   "metadata": {},
   "outputs": [
    {
     "name": "stdout",
     "output_type": "stream",
     "text": [
      "enter number7\n"
     ]
    },
    {
     "data": {
      "text/plain": [
       "[0, 1, 1, 2, 3, 5, 8]"
      ]
     },
     "execution_count": 171,
     "metadata": {},
     "output_type": "execute_result"
    }
   ],
   "source": [
    "# fiboncaii series\n",
    "c = int(input(\"enter number\"))\n",
    "list1 = [0,1]\n",
    "for i in range(2,c):\n",
    "    sums = np.sum(list1[-2:])\n",
    "    list1.append(sums)\n",
    "\n",
    "list1"
   ]
  },
  {
   "cell_type": "code",
   "execution_count": 190,
   "id": "757c6190",
   "metadata": {},
   "outputs": [],
   "source": [
    "#yeild function\n",
    "def testgen(index):\n",
    "    weekdays = ['sun','mon','tue','wed','thu','fri','sat']\n",
    "    yield weekdays[index]\n",
    "    yield weekdays[index+1]\n",
    "    \n",
    "day = testgen(1)"
   ]
  },
  {
   "cell_type": "code",
   "execution_count": 192,
   "id": "d1166326",
   "metadata": {},
   "outputs": [
    {
     "data": {
      "text/plain": [
       "<generator object testgen at 0x00000246D4A403C0>"
      ]
     },
     "execution_count": 192,
     "metadata": {},
     "output_type": "execute_result"
    }
   ],
   "source": [
    "day"
   ]
  },
  {
   "cell_type": "code",
   "execution_count": 188,
   "id": "1321e052",
   "metadata": {},
   "outputs": [
    {
     "name": "stdout",
     "output_type": "stream",
     "text": [
      "mon tue\n"
     ]
    }
   ],
   "source": [
    "print (next(day), next(day))"
   ]
  },
  {
   "cell_type": "code",
   "execution_count": 194,
   "id": "764ed023",
   "metadata": {},
   "outputs": [
    {
     "data": {
      "text/plain": [
       "'sun-mon-tue-wed-thu-fri-sat'"
      ]
     },
     "execution_count": 194,
     "metadata": {},
     "output_type": "execute_result"
    }
   ],
   "source": [
    "weekdays = ['sun','mon','tue','wed','thu','fri','sat']\n",
    "listAsString = '-'.join(weekdays)\n",
    "listAsString"
   ]
  },
  {
   "cell_type": "code",
   "execution_count": 246,
   "id": "9c15978d",
   "metadata": {},
   "outputs": [
    {
     "name": "stdout",
     "output_type": "stream",
     "text": [
      "Enter number: 678\n",
      "dig- 8\n",
      "rev- 8\n",
      "n- 678\n",
      "n- 67\n",
      "dig- 7\n",
      "rev- 87\n",
      "n- 67\n",
      "n- 6\n",
      "dig- 6\n",
      "rev- 876\n",
      "n- 6\n",
      "n- 0\n",
      "The reverse of the number: 876\n"
     ]
    }
   ],
   "source": [
    "#Reverse the number - \n",
    "n=int(input(\"Enter number: \"))\n",
    "rev=0\n",
    "while(n>0):\n",
    "    dig=n%10\n",
    "    print(\"dig-\",dig)\n",
    "    rev=rev*10+dig\n",
    "    print(\"rev-\", rev)\n",
    "    print(\"n-\",n)\n",
    "    n=n//10\n",
    "    #n=n//10 is called floor division so this opreration just removes unit place digit from the number\n",
    "    print(\"n-\",n)\n",
    "print(\"The reverse of the number:\",rev)"
   ]
  },
  {
   "cell_type": "code",
   "execution_count": null,
   "id": "b3d0617b",
   "metadata": {},
   "outputs": [],
   "source": []
  },
  {
   "cell_type": "markdown",
   "id": "cfca3861",
   "metadata": {},
   "source": [
    "### args and kwargs\n",
    "- *args and ** kwargs are special keyword which allows function to take variable length argument.\n",
    "- *args passes variable number of non-keyworded arguments list and on which operation of the list can be performed.\n",
    "- ** kwargs passes variable number of keyword arguments dictionary to function on which operation of a dictionary can be performed."
   ]
  },
  {
   "cell_type": "markdown",
   "id": "5c778236",
   "metadata": {},
   "source": [
    "Using ** arg\n",
    "<br>In the function, we should use an asterisk * before the parameter name to pass variable length arguments.\n",
    "<br>The arguments are passed as a **tuple and these passed arguments make tuple inside the function with same name**\n",
    "<br>as the parameter excluding asterisk *"
   ]
  },
  {
   "cell_type": "code",
   "execution_count": null,
   "id": "4472fba5",
   "metadata": {},
   "outputs": [],
   "source": [
    "def adder(*num):\n",
    "    sum = 0\n",
    "    print(type(num),num)\n",
    "    for n in num:\n",
    "        sum = sum + n\n",
    "\n",
    "    print(\"Sum:\",sum)\n",
    "\n",
    "adder(3,5)\n",
    "adder(4,5,6,7)\n",
    "adder(1,2,3,5,6)"
   ]
  },
  {
   "cell_type": "markdown",
   "id": "df490831",
   "metadata": {},
   "source": [
    "** kwargs<br>\n",
    "Python passes variable length non keyword argument to function using *args but we cannot use this to pass keyword argument. For this problem Python has got a solution called ** kwargs, it allows us to pass the variable length of keyword arguments to the function.\n",
    "<br>\n",
    "In the function, we use the double asterisk ** before the parameter name to denote this type of argument. The arguments are passed as a dictionary and these arguments make a dictionary inside function with name same as the parameter excluding double asterisk **."
   ]
  },
  {
   "cell_type": "code",
   "execution_count": null,
   "id": "27d2e1e0",
   "metadata": {},
   "outputs": [],
   "source": [
    "def intro(**data):\n",
    "    print(\"\\nData type of argument:\",type(data))\n",
    "\n",
    "    for key, value in data.items():\n",
    "        print(\"{} is {}\".format(key,value))\n",
    "\n",
    "intro(Firstname=\"Sita\", Lastname=\"Sharma\", Age=22, Phone=1234567890)\n",
    "intro(Firstname=\"John\", Lastname=\"Wood\", Email=\"johnwood@nomail.com\", Country=\"Wakanda\", Age=25, Phone=11111222222)"
   ]
  },
  {
   "cell_type": "code",
   "execution_count": null,
   "id": "2b4e60ca",
   "metadata": {},
   "outputs": [],
   "source": [
    "dict1 = {}\n",
    "dict1.add(\"Firstname\",\"Sita\")"
   ]
  },
  {
   "cell_type": "markdown",
   "id": "21733946",
   "metadata": {},
   "source": [
    "### shallow and deep copy"
   ]
  },
  {
   "cell_type": "markdown",
   "id": "5069dd5b",
   "metadata": {},
   "source": [
    "#### Shallow Copy deep dive"
   ]
  },
  {
   "cell_type": "code",
   "execution_count": 213,
   "id": "b2376be2",
   "metadata": {},
   "outputs": [],
   "source": [
    "#shallow\n",
    "a = [1,2,3,4,5]\n",
    "b = a.copy()"
   ]
  },
  {
   "cell_type": "code",
   "execution_count": 214,
   "id": "516df59a",
   "metadata": {},
   "outputs": [
    {
     "data": {
      "text/plain": [
       "[1, 2, 3, 4, 5]"
      ]
     },
     "execution_count": 214,
     "metadata": {},
     "output_type": "execute_result"
    }
   ],
   "source": [
    "b"
   ]
  },
  {
   "cell_type": "code",
   "execution_count": 215,
   "id": "5bb89cae",
   "metadata": {},
   "outputs": [],
   "source": [
    "b[1]=33"
   ]
  },
  {
   "cell_type": "code",
   "execution_count": 216,
   "id": "6c1966e3",
   "metadata": {},
   "outputs": [],
   "source": [
    "a[0] = 11"
   ]
  },
  {
   "cell_type": "code",
   "execution_count": 217,
   "id": "e8b4a68f",
   "metadata": {},
   "outputs": [
    {
     "data": {
      "text/plain": [
       "[1, 33, 3, 4, 5]"
      ]
     },
     "execution_count": 217,
     "metadata": {},
     "output_type": "execute_result"
    }
   ],
   "source": [
    "b"
   ]
  },
  {
   "cell_type": "code",
   "execution_count": 218,
   "id": "b29eb4aa",
   "metadata": {},
   "outputs": [
    {
     "data": {
      "text/plain": [
       "[11, 2, 3, 4, 5]"
      ]
     },
     "execution_count": 218,
     "metadata": {},
     "output_type": "execute_result"
    }
   ],
   "source": [
    "a"
   ]
  },
  {
   "cell_type": "markdown",
   "id": "0e50a352",
   "metadata": {},
   "source": [
    "So for normal list changes in either elements doesn't affect other\n",
    "<br>**NOW NOW**"
   ]
  },
  {
   "cell_type": "code",
   "execution_count": 219,
   "id": "a2c48f3e",
   "metadata": {},
   "outputs": [],
   "source": [
    "x = [[1,2,3],[4,5,6]]\n",
    "y = x.copy()"
   ]
  },
  {
   "cell_type": "code",
   "execution_count": 220,
   "id": "17e9c342",
   "metadata": {},
   "outputs": [
    {
     "data": {
      "text/plain": [
       "[[1, 2, 3], [4, 5, 6]]"
      ]
     },
     "execution_count": 220,
     "metadata": {},
     "output_type": "execute_result"
    }
   ],
   "source": [
    "y"
   ]
  },
  {
   "cell_type": "code",
   "execution_count": 221,
   "id": "e35913ce",
   "metadata": {},
   "outputs": [],
   "source": [
    "y[1][1]=33"
   ]
  },
  {
   "cell_type": "code",
   "execution_count": 222,
   "id": "0faf8f10",
   "metadata": {},
   "outputs": [],
   "source": [
    "x[0][0] = 11"
   ]
  },
  {
   "cell_type": "code",
   "execution_count": 223,
   "id": "65a69ed1",
   "metadata": {},
   "outputs": [
    {
     "data": {
      "text/plain": [
       "[[11, 2, 3], [4, 33, 6]]"
      ]
     },
     "execution_count": 223,
     "metadata": {},
     "output_type": "execute_result"
    }
   ],
   "source": [
    "x"
   ]
  },
  {
   "cell_type": "code",
   "execution_count": 224,
   "id": "8207c173",
   "metadata": {},
   "outputs": [
    {
     "data": {
      "text/plain": [
       "[[11, 2, 3], [4, 33, 6]]"
      ]
     },
     "execution_count": 224,
     "metadata": {},
     "output_type": "execute_result"
    }
   ],
   "source": [
    "y"
   ]
  },
  {
   "cell_type": "markdown",
   "id": "e8f48f49",
   "metadata": {},
   "source": [
    "Now changes in one directly changes other.... whaattttt"
   ]
  },
  {
   "cell_type": "code",
   "execution_count": 225,
   "id": "44f2bd18",
   "metadata": {},
   "outputs": [],
   "source": [
    "y[0] = 13"
   ]
  },
  {
   "cell_type": "code",
   "execution_count": 226,
   "id": "f8ac9ab7",
   "metadata": {},
   "outputs": [
    {
     "data": {
      "text/plain": [
       "[13, [4, 33, 6]]"
      ]
     },
     "execution_count": 226,
     "metadata": {},
     "output_type": "execute_result"
    }
   ],
   "source": [
    "y"
   ]
  },
  {
   "cell_type": "code",
   "execution_count": 227,
   "id": "52a73f96",
   "metadata": {},
   "outputs": [
    {
     "data": {
      "text/plain": [
       "[[11, 2, 3], [4, 33, 6]]"
      ]
     },
     "execution_count": 227,
     "metadata": {},
     "output_type": "execute_result"
    }
   ],
   "source": [
    "x"
   ]
  },
  {
   "cell_type": "markdown",
   "id": "b12fdf7e",
   "metadata": {},
   "source": [
    "haha... now x doen't change...<br> why? reason is given belw"
   ]
  },
  {
   "cell_type": "code",
   "execution_count": 228,
   "id": "1c14a455",
   "metadata": {},
   "outputs": [
    {
     "data": {
      "text/plain": [
       "int"
      ]
     },
     "execution_count": 228,
     "metadata": {},
     "output_type": "execute_result"
    }
   ],
   "source": [
    "type(a[0])"
   ]
  },
  {
   "cell_type": "code",
   "execution_count": 229,
   "id": "ecbb893f",
   "metadata": {},
   "outputs": [
    {
     "data": {
      "text/plain": [
       "list"
      ]
     },
     "execution_count": 229,
     "metadata": {},
     "output_type": "execute_result"
    }
   ],
   "source": [
    "type(x[0])"
   ]
  },
  {
   "cell_type": "markdown",
   "id": "33cc19ff",
   "metadata": {},
   "source": [
    "Shallow copy:\n",
    "- It copies the first layer of  the objects. It means changes made to a copy of object may reflect in the original object.\n",
    "\t- So by first layer ..it means if the original object contains another objects... which means original object stores reference to other object but not item itself\n",
    "\t- So when it gets copied the refrences also gets copied with base structure. thus any changes in copy object also changes for original\n",
    "\t- BUT if the original object contains ITEMS(numbers,letters) then this first layer\\item are copied... and now changing copied object doesn't affect orignal\n",
    "- It is implemented using “copy()” function.\n",
    "- It makes execution of a program faster compared to deep copy. cause deep completely copies structures and recursively fills data in new structures with values it finds **deep** in orginal "
   ]
  },
  {
   "cell_type": "code",
   "execution_count": 230,
   "id": "b0ebc3c3",
   "metadata": {},
   "outputs": [],
   "source": [
    "# Watch this"
   ]
  },
  {
   "cell_type": "code",
   "execution_count": 231,
   "id": "9a6dc56f",
   "metadata": {},
   "outputs": [],
   "source": [
    "x.append([3,4,5])"
   ]
  },
  {
   "cell_type": "code",
   "execution_count": 232,
   "id": "4670bacd",
   "metadata": {},
   "outputs": [
    {
     "data": {
      "text/plain": [
       "[[11, 2, 3], [4, 33, 6], [3, 4, 5]]"
      ]
     },
     "execution_count": 232,
     "metadata": {},
     "output_type": "execute_result"
    }
   ],
   "source": [
    "x"
   ]
  },
  {
   "cell_type": "code",
   "execution_count": 233,
   "id": "f9e1e927",
   "metadata": {},
   "outputs": [
    {
     "data": {
      "text/plain": [
       "[13, [4, 33, 6]]"
      ]
     },
     "execution_count": 233,
     "metadata": {},
     "output_type": "execute_result"
    }
   ],
   "source": [
    "y"
   ]
  },
  {
   "cell_type": "markdown",
   "id": "b860eca8",
   "metadata": {},
   "source": [
    "Deep copy just copies completely evrything recursively\n",
    "- Everything is done on new Memory location"
   ]
  },
  {
   "cell_type": "code",
   "execution_count": 234,
   "id": "3f1cd216",
   "metadata": {},
   "outputs": [],
   "source": [
    "import copy"
   ]
  },
  {
   "cell_type": "code",
   "execution_count": 235,
   "id": "2bd9693d",
   "metadata": {},
   "outputs": [],
   "source": [
    "b = copy.deepcopy(a)"
   ]
  },
  {
   "cell_type": "code",
   "execution_count": 236,
   "id": "02b05b93",
   "metadata": {},
   "outputs": [
    {
     "data": {
      "text/plain": [
       "[11, 2, 3, 4, 5]"
      ]
     },
     "execution_count": 236,
     "metadata": {},
     "output_type": "execute_result"
    }
   ],
   "source": [
    "a"
   ]
  },
  {
   "cell_type": "code",
   "execution_count": 237,
   "id": "dfd109df",
   "metadata": {},
   "outputs": [],
   "source": [
    "b[3]=99"
   ]
  },
  {
   "cell_type": "code",
   "execution_count": 238,
   "id": "09a4de5e",
   "metadata": {},
   "outputs": [
    {
     "data": {
      "text/plain": [
       "[11, 2, 3, 4, 5]"
      ]
     },
     "execution_count": 238,
     "metadata": {},
     "output_type": "execute_result"
    }
   ],
   "source": [
    "a"
   ]
  },
  {
   "cell_type": "code",
   "execution_count": 239,
   "id": "49bfccff",
   "metadata": {},
   "outputs": [
    {
     "data": {
      "text/plain": [
       "[11, 2, 3, 99, 5]"
      ]
     },
     "execution_count": 239,
     "metadata": {},
     "output_type": "execute_result"
    }
   ],
   "source": [
    "b"
   ]
  },
  {
   "cell_type": "code",
   "execution_count": null,
   "id": "df7c4427",
   "metadata": {},
   "outputs": [],
   "source": []
  },
  {
   "cell_type": "code",
   "execution_count": 240,
   "id": "d3db9bc9",
   "metadata": {},
   "outputs": [
    {
     "name": "stdout",
     "output_type": "stream",
     "text": [
      "['Alice', 'Bear', 'Charlton', 'Daman']\n",
      "['Alice', 'Bear', 'Charlton', 'Daman']\n",
      "['Amir', 'Bob', 'Charlton', 'Daman']\n"
     ]
    }
   ],
   "source": [
    "names1 = ['Amir', 'Bear', 'Charlton', 'Daman']\n",
    "names2 = names1\n",
    "names3 = names1[:]\n",
    "\n",
    "names2[0] = 'Alice'\n",
    "names3[1] = 'Bob'\n",
    "print(names1)\n",
    "print(names2)\n",
    "print(names3)"
   ]
  },
  {
   "cell_type": "code",
   "execution_count": null,
   "id": "162e453b",
   "metadata": {},
   "outputs": [],
   "source": []
  },
  {
   "cell_type": "markdown",
   "id": "586ce4ad",
   "metadata": {},
   "source": [
    "## DataFrame by default does DEEP COPY"
   ]
  },
  {
   "cell_type": "markdown",
   "id": "4f74a3ad",
   "metadata": {},
   "source": [
    "## Some datadrame manipulations"
   ]
  },
  {
   "cell_type": "markdown",
   "id": "8836c147",
   "metadata": {},
   "source": [
    "Solve in Python\n",
    "\n",
    "Question 1)6 columns : date, customerid, product_quantity, sales, region, transaction_id. Which customer id bought maximum products? Tablename is questions.\n",
    "\n",
    "Question 2)\n",
    "Get sales during Christmas period (21 dec 2020 - 27 dec 2020) by region.\n",
    "\n",
    "Question 3)\n",
    "Get count of transactions by region where customers had greater than 10000 $ sales and less than 10000 $ sales. (hint: create 2 columns for getting count of transaction ids - one where customers had greater than 10000 $ sales and another where customers had less than 10000 $ sales)"
   ]
  },
  {
   "cell_type": "code",
   "execution_count": null,
   "id": "643df1ee",
   "metadata": {},
   "outputs": [],
   "source": [
    "import pandas as pd\n",
    "import numpy as np\n",
    "import datetime"
   ]
  },
  {
   "cell_type": "code",
   "execution_count": null,
   "id": "d9c8d57f",
   "metadata": {},
   "outputs": [],
   "source": [
    "df = pd.read_excel(\"G:\\Github\\DS-assignments-python\\Python Basics\\questions.xlsx\")"
   ]
  },
  {
   "cell_type": "code",
   "execution_count": null,
   "id": "a4ee87b0",
   "metadata": {},
   "outputs": [],
   "source": [
    "df"
   ]
  },
  {
   "cell_type": "code",
   "execution_count": null,
   "id": "fa741acd",
   "metadata": {},
   "outputs": [],
   "source": [
    "df.shape"
   ]
  },
  {
   "cell_type": "code",
   "execution_count": null,
   "id": "43e23963",
   "metadata": {},
   "outputs": [],
   "source": [
    "df.info()"
   ]
  },
  {
   "cell_type": "code",
   "execution_count": null,
   "id": "22ccda5c",
   "metadata": {},
   "outputs": [],
   "source": [
    "np.max([1,2,3,4])"
   ]
  },
  {
   "cell_type": "markdown",
   "id": "70b5d732",
   "metadata": {},
   "source": [
    "#### customer's id who bought maximum products"
   ]
  },
  {
   "cell_type": "code",
   "execution_count": null,
   "id": "fc84f9e0",
   "metadata": {},
   "outputs": [],
   "source": [
    "\n",
    "df[df[\"product_quantity\"] == np.max(df[\"product_quantity\"])].loc[:,\"customerid\"]"
   ]
  },
  {
   "cell_type": "markdown",
   "id": "291d9f85",
   "metadata": {},
   "source": [
    "#### Sales during Christmas period (21 dec 2020 - 27 dec 2020) by region.\n",
    "\n",
    "**each table row shows one transaction that was done with product quantity sold**\n",
    "<br>**so its sum of all product qantity in the given time period**"
   ]
  },
  {
   "cell_type": "code",
   "execution_count": null,
   "id": "df88d083",
   "metadata": {},
   "outputs": [],
   "source": [
    "df['date'] = pd.to_datetime(df['date'], format='%Y-%m-%d')"
   ]
  },
  {
   "cell_type": "code",
   "execution_count": null,
   "id": "c9e46bdc",
   "metadata": {},
   "outputs": [],
   "source": [
    "df[\"Sales\"] = df[\"product_quantity\"]*df[\"price_per_item\"]"
   ]
  },
  {
   "cell_type": "code",
   "execution_count": null,
   "id": "da71e2f5",
   "metadata": {},
   "outputs": [],
   "source": [
    "df"
   ]
  },
  {
   "cell_type": "code",
   "execution_count": null,
   "id": "bfeff4cd",
   "metadata": {},
   "outputs": [],
   "source": [
    "#approch\n",
    "#filtered_df = df.loc[(df['date'] >= '2020-12-21') & (df['date'] <= '2020-12-27')]\n",
    "# Display the df for christmas eve and grouping by region to count the product id\n",
    "#filtered_df.groupby('region').sum()"
   ]
  },
  {
   "cell_type": "code",
   "execution_count": null,
   "id": "5d7ae1b7",
   "metadata": {},
   "outputs": [],
   "source": [
    "df.loc[(df['date'] >= '2020-12-21') & (df['date'] <= '2020-12-27')].loc[:,[\"region\",\"Sales\"]].groupby('region').sum()"
   ]
  },
  {
   "cell_type": "markdown",
   "id": "177290b8",
   "metadata": {},
   "source": [
    "#### Get count of transactions by region where customers had greater than 10000  𝑠𝑎𝑙𝑒𝑠 𝑎𝑛𝑑 𝑙𝑒𝑠𝑠 𝑡ℎ𝑎𝑛 10000  sales. \n",
    "**(hint: create 2 columns for getting count of transaction ids - one where customers had greater than 10000<br> \n",
    "#𝑠𝑎𝑙𝑒𝑠 𝑎𝑛𝑑 𝑎𝑛𝑜𝑡ℎ𝑒𝑟 𝑤ℎ𝑒𝑟𝑒 𝑐𝑢𝑠𝑡𝑜𝑚𝑒𝑟𝑠 ℎ𝑎𝑑 𝑙𝑒𝑠𝑠 tℎ𝑎𝑛 10000  sales)**"
   ]
  },
  {
   "cell_type": "code",
   "execution_count": null,
   "id": "88f02960",
   "metadata": {},
   "outputs": [],
   "source": [
    "df[\"below_10k_sales\"] = pd.Series(np.where(df[\"Sales\"]<10000,1,0))\n",
    "df[\"above_10k_sales\"] = pd.Series(np.where(df[\"Sales\"]>10000,1,0))"
   ]
  },
  {
   "cell_type": "code",
   "execution_count": null,
   "id": "16334f97",
   "metadata": {},
   "outputs": [],
   "source": [
    "df"
   ]
  },
  {
   "cell_type": "code",
   "execution_count": null,
   "id": "f723c3fa",
   "metadata": {},
   "outputs": [],
   "source": [
    "#df[df[\"below_10k_sales\"]==1].groupby(\"region\").sum()"
   ]
  },
  {
   "cell_type": "code",
   "execution_count": null,
   "id": "66c0feaa",
   "metadata": {},
   "outputs": [],
   "source": [
    "df[df[\"below_10k_sales\"]==1].loc[:,[\"region\",\"below_10k_sales\"]].groupby(\"region\").sum()"
   ]
  },
  {
   "cell_type": "code",
   "execution_count": null,
   "id": "f60ce548",
   "metadata": {
    "scrolled": true
   },
   "outputs": [],
   "source": [
    "df[df[\"above_10k_sales\"]==1].loc[:,[\"region\",\"above_10k_sales\"]].groupby(\"region\").sum()"
   ]
  },
  {
   "cell_type": "code",
   "execution_count": null,
   "id": "50403450",
   "metadata": {},
   "outputs": [],
   "source": [
    "#trying the map function\n",
    "z = pd.Series(map(lambda x,y,z:x*y+z,df[\"product_quantity\"],df[\"price_per_item\"],df[\"above_10k_sales\"]))"
   ]
  },
  {
   "cell_type": "code",
   "execution_count": null,
   "id": "2b6b998a",
   "metadata": {},
   "outputs": [],
   "source": [
    "print(z)"
   ]
  },
  {
   "cell_type": "markdown",
   "id": "7ba0064d",
   "metadata": {},
   "source": [
    "### Freestyle datframe manipulation practice"
   ]
  },
  {
   "cell_type": "markdown",
   "id": "bac49ebf",
   "metadata": {},
   "source": [
    "#### concat?\n"
   ]
  },
  {
   "cell_type": "code",
   "execution_count": null,
   "id": "dba39264",
   "metadata": {},
   "outputs": [],
   "source": [
    "df1 = pd.DataFrame([['a', 1], ['b', 2]], columns=['letter', 'number'])\n",
    "df1"
   ]
  },
  {
   "cell_type": "code",
   "execution_count": null,
   "id": "48365762",
   "metadata": {},
   "outputs": [],
   "source": [
    "df2 = pd.DataFrame([ ['b', 2],['c', 3], ['d', 4]],columns=['letter', 'number'])\n",
    "df2"
   ]
  },
  {
   "cell_type": "code",
   "execution_count": null,
   "id": "5bead453",
   "metadata": {},
   "outputs": [],
   "source": [
    "pd.concat([df1, df2])"
   ]
  },
  {
   "cell_type": "code",
   "execution_count": null,
   "id": "6543518c",
   "metadata": {},
   "outputs": [],
   "source": [
    "pd.concat([df1, df2],axis =1)"
   ]
  },
  {
   "cell_type": "code",
   "execution_count": null,
   "id": "d374cbb3",
   "metadata": {},
   "outputs": [],
   "source": [
    "pd.concat([df1, df2],axis =0,join=\"outer\",ignore_index=True)"
   ]
  },
  {
   "cell_type": "code",
   "execution_count": null,
   "id": "17efcd53",
   "metadata": {},
   "outputs": [],
   "source": [
    "pd.concat([df1, df2],axis =0,join=\"inner\",ignore_index=True)"
   ]
  },
  {
   "cell_type": "code",
   "execution_count": null,
   "id": "68f1acbf",
   "metadata": {},
   "outputs": [],
   "source": [
    "merged = pd.merge(df1, df2, how='inner',left_on='letter', right_on='letter')\n",
    "merged"
   ]
  },
  {
   "cell_type": "code",
   "execution_count": null,
   "id": "41eba1ca",
   "metadata": {},
   "outputs": [],
   "source": []
  }
 ],
 "metadata": {
  "kernelspec": {
   "display_name": "Python 3",
   "language": "python",
   "name": "python3"
  },
  "language_info": {
   "codemirror_mode": {
    "name": "ipython",
    "version": 3
   },
   "file_extension": ".py",
   "mimetype": "text/x-python",
   "name": "python",
   "nbconvert_exporter": "python",
   "pygments_lexer": "ipython3",
   "version": "3.8.8"
  }
 },
 "nbformat": 4,
 "nbformat_minor": 5
}
