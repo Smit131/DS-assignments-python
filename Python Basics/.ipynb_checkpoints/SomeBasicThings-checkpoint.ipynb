{
 "cells": [
  {
   "cell_type": "markdown",
   "id": "125212cf",
   "metadata": {},
   "source": [
    "## Objective\n",
    "### Performing basic operations of python and coding\n",
    "### Data Structure - \n",
    "1. All basic data types, their properties, pros and cons, when and why to use and prebuilt-functions available performed"
   ]
  },
  {
   "cell_type": "markdown",
   "id": "32f0755a",
   "metadata": {},
   "source": [
    "#### Four types of data structures\n",
    "1. List - []\n",
    "2. Dictionary - {key : item}\n",
    "3. Tuples - ()\n",
    "4. Set - {}"
   ]
  },
  {
   "cell_type": "markdown",
   "id": "f384ab64",
   "metadata": {},
   "source": [
    "#### lets go through one by one\n",
    "### List - []\n",
    " ordered/indexed and changeable. Allows duplicate members."
   ]
  },
  {
   "cell_type": "code",
   "execution_count": 20,
   "id": "efb11d4b",
   "metadata": {},
   "outputs": [],
   "source": [
    "l1 = [1,2,6,2,3,8]"
   ]
  },
  {
   "cell_type": "code",
   "execution_count": 21,
   "id": "d747907f",
   "metadata": {},
   "outputs": [
    {
     "data": {
      "text/plain": [
       "[1, 2, 6, 2, 3, 8]"
      ]
     },
     "execution_count": 21,
     "metadata": {},
     "output_type": "execute_result"
    }
   ],
   "source": [
    "l1[:]"
   ]
  },
  {
   "cell_type": "code",
   "execution_count": 22,
   "id": "5275f696",
   "metadata": {},
   "outputs": [
    {
     "data": {
      "text/plain": [
       "[6, 2]"
      ]
     },
     "execution_count": 22,
     "metadata": {},
     "output_type": "execute_result"
    }
   ],
   "source": [
    "l1[2:4]\n",
    "# as you can see in range area first number is considered and last limit is not"
   ]
  },
  {
   "cell_type": "code",
   "execution_count": 23,
   "id": "f88dbbef",
   "metadata": {},
   "outputs": [
    {
     "data": {
      "text/plain": [
       "6"
      ]
     },
     "execution_count": 23,
     "metadata": {},
     "output_type": "execute_result"
    }
   ],
   "source": [
    "l1[2]"
   ]
  },
  {
   "cell_type": "code",
   "execution_count": 24,
   "id": "ea05ee23",
   "metadata": {},
   "outputs": [],
   "source": [
    "l1.append(66)"
   ]
  },
  {
   "cell_type": "code",
   "execution_count": 25,
   "id": "c65e1b76",
   "metadata": {},
   "outputs": [
    {
     "name": "stdout",
     "output_type": "stream",
     "text": [
      "66 [1, 2, 6, 2, 3, 8]\n"
     ]
    }
   ],
   "source": [
    "print(l1.pop(),l1)"
   ]
  },
  {
   "cell_type": "code",
   "execution_count": 26,
   "id": "6f6b7bd8",
   "metadata": {},
   "outputs": [
    {
     "data": {
      "text/plain": [
       "6"
      ]
     },
     "execution_count": 26,
     "metadata": {},
     "output_type": "execute_result"
    }
   ],
   "source": [
    "len(l1)"
   ]
  },
  {
   "cell_type": "code",
   "execution_count": 27,
   "id": "6ef37202",
   "metadata": {},
   "outputs": [],
   "source": [
    "l2 = [1,4,9,2,5,[1,2,4],[3,55,1]]"
   ]
  },
  {
   "cell_type": "code",
   "execution_count": 28,
   "id": "c2624369",
   "metadata": {},
   "outputs": [
    {
     "data": {
      "text/plain": [
       "2"
      ]
     },
     "execution_count": 28,
     "metadata": {},
     "output_type": "execute_result"
    }
   ],
   "source": [
    "l2[5][1]\n",
    "#nested indexing"
   ]
  },
  {
   "cell_type": "code",
   "execution_count": 29,
   "id": "ef6ff62e",
   "metadata": {},
   "outputs": [],
   "source": [
    "l1.sort()"
   ]
  },
  {
   "cell_type": "code",
   "execution_count": 30,
   "id": "67ef03a6",
   "metadata": {},
   "outputs": [
    {
     "data": {
      "text/plain": [
       "[1, 2, 2, 3, 6, 8]"
      ]
     },
     "execution_count": 30,
     "metadata": {},
     "output_type": "execute_result"
    }
   ],
   "source": [
    "l1"
   ]
  },
  {
   "cell_type": "code",
   "execution_count": 31,
   "id": "ee8f2b95",
   "metadata": {},
   "outputs": [],
   "source": [
    "l1.reverse()"
   ]
  },
  {
   "cell_type": "code",
   "execution_count": 32,
   "id": "ff246ff0",
   "metadata": {},
   "outputs": [
    {
     "data": {
      "text/plain": [
       "[8, 6, 3, 2, 2, 1]"
      ]
     },
     "execution_count": 32,
     "metadata": {},
     "output_type": "execute_result"
    }
   ],
   "source": [
    "l1"
   ]
  },
  {
   "cell_type": "code",
   "execution_count": 33,
   "id": "0e9c345d",
   "metadata": {},
   "outputs": [],
   "source": [
    "l1.remove(2)\n",
    "# removes all matching instances"
   ]
  },
  {
   "cell_type": "code",
   "execution_count": 34,
   "id": "26aaff75",
   "metadata": {},
   "outputs": [
    {
     "data": {
      "text/plain": [
       "[8, 6, 3, 2, 1]"
      ]
     },
     "execution_count": 34,
     "metadata": {},
     "output_type": "execute_result"
    }
   ],
   "source": [
    "l1"
   ]
  },
  {
   "cell_type": "code",
   "execution_count": 35,
   "id": "b44a3f11",
   "metadata": {},
   "outputs": [],
   "source": [
    "d1 = {\"r1\": 2,\"r3\": 3}"
   ]
  },
  {
   "cell_type": "code",
   "execution_count": 36,
   "id": "836d779f",
   "metadata": {},
   "outputs": [],
   "source": [
    "l3 = [1,2,3,\"yup i am str\",d1]"
   ]
  },
  {
   "cell_type": "code",
   "execution_count": 37,
   "id": "0c91d53d",
   "metadata": {},
   "outputs": [
    {
     "data": {
      "text/plain": [
       "[1, 2, 3, 'yup i am str', {'r1': 2, 'r3': 3}]"
      ]
     },
     "execution_count": 37,
     "metadata": {},
     "output_type": "execute_result"
    }
   ],
   "source": [
    "l3\n",
    "#can store other data structures too"
   ]
  },
  {
   "cell_type": "code",
   "execution_count": 38,
   "id": "e4babdc3",
   "metadata": {},
   "outputs": [
    {
     "data": {
      "text/plain": [
       "2"
      ]
     },
     "execution_count": 38,
     "metadata": {},
     "output_type": "execute_result"
    }
   ],
   "source": [
    "l3[4]['r1']"
   ]
  },
  {
   "cell_type": "code",
   "execution_count": 39,
   "id": "5c49dfad",
   "metadata": {},
   "outputs": [],
   "source": [
    "l3[4]['r1'] = 33"
   ]
  },
  {
   "cell_type": "code",
   "execution_count": 40,
   "id": "1d5ab8c2",
   "metadata": {},
   "outputs": [
    {
     "data": {
      "text/plain": [
       "[1, 2, 3, 'yup i am str', {'r1': 33, 'r3': 3}]"
      ]
     },
     "execution_count": 40,
     "metadata": {},
     "output_type": "execute_result"
    }
   ],
   "source": [
    "l3 "
   ]
  },
  {
   "cell_type": "markdown",
   "id": "0a2ce854",
   "metadata": {},
   "source": [
    "Notes for me -\n",
    "- As the sets are indexed and allow duplicates great for storing data\n",
    "    part of item of set can reached by value or by index.\n",
    "- can store multiple types of data types in itself.including other **DATA-STRUCTRES** as Dict ,etc\n",
    "\n",
    "**this makes list a best option as a data structure to store tings when there are no other conditions**\n"
   ]
  },
  {
   "cell_type": "markdown",
   "id": "0ba03cc0",
   "metadata": {},
   "source": [
    "### tuples\n",
    "indexed , unchangeble/unmutable(execpt can be overwritten) , allows duplicate"
   ]
  },
  {
   "cell_type": "code",
   "execution_count": 41,
   "id": "794a873e",
   "metadata": {},
   "outputs": [],
   "source": [
    "t1 = (1,2,3)\n",
    "t2 = (\"a\",\"b\",\"c\")"
   ]
  },
  {
   "cell_type": "code",
   "execution_count": 42,
   "id": "07b99d75",
   "metadata": {},
   "outputs": [],
   "source": [
    "t3 = t1+t2"
   ]
  },
  {
   "cell_type": "code",
   "execution_count": 43,
   "id": "6500219b",
   "metadata": {},
   "outputs": [
    {
     "data": {
      "text/plain": [
       "(1, 2, 3, 'a', 'b', 'c')"
      ]
     },
     "execution_count": 43,
     "metadata": {},
     "output_type": "execute_result"
    }
   ],
   "source": [
    "t3"
   ]
  },
  {
   "cell_type": "code",
   "execution_count": 44,
   "id": "99672973",
   "metadata": {},
   "outputs": [
    {
     "data": {
      "text/plain": [
       "(1, 2, 3, 'a')"
      ]
     },
     "execution_count": 44,
     "metadata": {},
     "output_type": "execute_result"
    }
   ],
   "source": [
    "t3[0:4]"
   ]
  },
  {
   "cell_type": "markdown",
   "id": "dcb6f4c3",
   "metadata": {},
   "source": [
    "t3[2] = 5\n",
    "\n",
    "#gives TypeError: 'tuple' object does not support item assignment"
   ]
  },
  {
   "cell_type": "markdown",
   "id": "b74a9c3d",
   "metadata": {},
   "source": [
    "t3.append(6)\n",
    "\n",
    "#gives - AttributeError: 'tuple' object has no attribute 'append'\n"
   ]
  },
  {
   "cell_type": "code",
   "execution_count": 46,
   "id": "e2a5ce94",
   "metadata": {},
   "outputs": [],
   "source": [
    "#so u cant append using function \n",
    "#but u can add elements by overwritting a tuple with new added tuple with \"+\" operator\n"
   ]
  },
  {
   "cell_type": "code",
   "execution_count": 47,
   "id": "4337cce9",
   "metadata": {},
   "outputs": [],
   "source": [
    "t3 = t3 + (\"add\",\"it\")"
   ]
  },
  {
   "cell_type": "code",
   "execution_count": 48,
   "id": "db94f946",
   "metadata": {},
   "outputs": [
    {
     "data": {
      "text/plain": [
       "(1, 2, 3, 'a', 'b', 'c', 'add', 'it')"
      ]
     },
     "execution_count": 48,
     "metadata": {},
     "output_type": "execute_result"
    }
   ],
   "source": [
    "t3"
   ]
  },
  {
   "cell_type": "code",
   "execution_count": 49,
   "id": "f30c925c",
   "metadata": {},
   "outputs": [
    {
     "data": {
      "text/plain": [
       "'add'"
      ]
     },
     "execution_count": 49,
     "metadata": {},
     "output_type": "execute_result"
    }
   ],
   "source": [
    "t3[6]"
   ]
  },
  {
   "cell_type": "code",
   "execution_count": 50,
   "id": "ac162e35",
   "metadata": {},
   "outputs": [],
   "source": [
    "t4 = (1,1,1,1,2,2,2,3)"
   ]
  },
  {
   "cell_type": "code",
   "execution_count": 51,
   "id": "1bf6ee50",
   "metadata": {},
   "outputs": [
    {
     "data": {
      "text/plain": [
       "(1, 1, 1, 1, 2, 2, 2, 3)"
      ]
     },
     "execution_count": 51,
     "metadata": {},
     "output_type": "execute_result"
    }
   ],
   "source": [
    "t4"
   ]
  },
  {
   "cell_type": "markdown",
   "id": "c6c4b1c3",
   "metadata": {},
   "source": [
    "Notes - \n",
    "So tuple is like list structure... with exception that once created u can't change anything ... except **overwriting** it to change te tuple \n",
    "where can these be used - \n",
    "1. Tuples are more memory efficient than the lists. - \n",
    "    tuples are immutable and fixed size, Python allocates just the minimum memory block required for the data.\n",
    "2. Tuples are used whenever you want to return multiple results from a function.\n",
    "3. Since they're immutable, they can be used as keys for a dictionary (lists can't)."
   ]
  },
  {
   "cell_type": "code",
   "execution_count": 58,
   "id": "aeb8d84a",
   "metadata": {},
   "outputs": [
    {
     "name": "stdout",
     "output_type": "stream",
     "text": [
      "19 47\n"
     ]
    }
   ],
   "source": [
    "def tuptup():\n",
    "    a =19\n",
    "    b =47\n",
    "    return (a,b)\n",
    "\n",
    "x,y = tuptup()\n",
    "\n",
    "print(x,y)"
   ]
  },
  {
   "cell_type": "code",
   "execution_count": 60,
   "id": "6639fc48",
   "metadata": {},
   "outputs": [],
   "source": [
    "julia = (\"Julia\", \"Roberts\", 1967, \"Duplicity\", 2009, \"Actress\", \"Atlanta, Georgia\")"
   ]
  },
  {
   "cell_type": "code",
   "execution_count": 63,
   "id": "293428d4",
   "metadata": {},
   "outputs": [],
   "source": [
    "keys = (name, surname, b_year, movie, m_year, profession, b_place)"
   ]
  },
  {
   "cell_type": "code",
   "execution_count": 61,
   "id": "809b7663",
   "metadata": {},
   "outputs": [],
   "source": [
    "(name, surname, b_year, movie, m_year, profession, b_place) = julia"
   ]
  },
  {
   "cell_type": "code",
   "execution_count": 62,
   "id": "8b69d1ab",
   "metadata": {},
   "outputs": [
    {
     "data": {
      "text/plain": [
       "'Julia'"
      ]
     },
     "execution_count": 62,
     "metadata": {},
     "output_type": "execute_result"
    }
   ],
   "source": [
    "name"
   ]
  },
  {
   "cell_type": "code",
   "execution_count": null,
   "id": "144863b5",
   "metadata": {},
   "outputs": [],
   "source": []
  }
 ],
 "metadata": {
  "kernelspec": {
   "display_name": "Python 3",
   "language": "python",
   "name": "python3"
  },
  "language_info": {
   "codemirror_mode": {
    "name": "ipython",
    "version": 3
   },
   "file_extension": ".py",
   "mimetype": "text/x-python",
   "name": "python",
   "nbconvert_exporter": "python",
   "pygments_lexer": "ipython3",
   "version": "3.8.8"
  }
 },
 "nbformat": 4,
 "nbformat_minor": 5
}
