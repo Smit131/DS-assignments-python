{
 "cells": [
  {
   "cell_type": "markdown",
   "id": "125212cf",
   "metadata": {},
   "source": [
    "## Objective\n",
    "### Performing basic operations of python and coding\n",
    "### Data Structure - \n",
    "1. All basic data types, their properties, pros and cons, when and why to use and prebuilt-functions available performed"
   ]
  },
  {
   "cell_type": "markdown",
   "id": "32f0755a",
   "metadata": {},
   "source": [
    "#### Four types of data structures\n",
    "1. List - []\n",
    "2. Dictionary - {key : item}\n",
    "3. Tuples - ()\n",
    "4. Set - {}"
   ]
  },
  {
   "cell_type": "markdown",
   "id": "f384ab64",
   "metadata": {},
   "source": [
    "#### lets go through one by one\n",
    "## List - []\n",
    " ordered/indexed and changeable. Allows duplicate members."
   ]
  },
  {
   "cell_type": "code",
   "execution_count": 63,
   "id": "efb11d4b",
   "metadata": {},
   "outputs": [],
   "source": [
    "l1 = [1,2,6,2,3,8]"
   ]
  },
  {
   "cell_type": "code",
   "execution_count": 64,
   "id": "d747907f",
   "metadata": {},
   "outputs": [
    {
     "data": {
      "text/plain": [
       "[1, 2, 6, 2, 3, 8]"
      ]
     },
     "execution_count": 64,
     "metadata": {},
     "output_type": "execute_result"
    }
   ],
   "source": [
    "l1[:]"
   ]
  },
  {
   "cell_type": "code",
   "execution_count": 65,
   "id": "5275f696",
   "metadata": {},
   "outputs": [
    {
     "data": {
      "text/plain": [
       "[6, 2]"
      ]
     },
     "execution_count": 65,
     "metadata": {},
     "output_type": "execute_result"
    }
   ],
   "source": [
    "l1[2:4]\n",
    "# as you can see in range area first number is considered and last limit is not"
   ]
  },
  {
   "cell_type": "code",
   "execution_count": 66,
   "id": "f88dbbef",
   "metadata": {},
   "outputs": [
    {
     "data": {
      "text/plain": [
       "6"
      ]
     },
     "execution_count": 66,
     "metadata": {},
     "output_type": "execute_result"
    }
   ],
   "source": [
    "l1[2]"
   ]
  },
  {
   "cell_type": "code",
   "execution_count": 67,
   "id": "27f14cbd",
   "metadata": {},
   "outputs": [
    {
     "name": "stdout",
     "output_type": "stream",
     "text": [
      "[1, 2, 6, 2, 3, 8, 66]\n"
     ]
    }
   ],
   "source": [
    "l1.append(66)\n",
    "print(l1)"
   ]
  },
  {
   "cell_type": "code",
   "execution_count": 68,
   "id": "c65e1b76",
   "metadata": {},
   "outputs": [
    {
     "name": "stdout",
     "output_type": "stream",
     "text": [
      "66 [1, 2, 6, 2, 3, 8]\n"
     ]
    }
   ],
   "source": [
    "print(l1.pop(),l1)\n",
    "#last element is poped"
   ]
  },
  {
   "cell_type": "code",
   "execution_count": 69,
   "id": "6f6b7bd8",
   "metadata": {},
   "outputs": [
    {
     "data": {
      "text/plain": [
       "6"
      ]
     },
     "execution_count": 69,
     "metadata": {},
     "output_type": "execute_result"
    }
   ],
   "source": [
    "len(l1)"
   ]
  },
  {
   "cell_type": "code",
   "execution_count": 70,
   "id": "6ef37202",
   "metadata": {},
   "outputs": [],
   "source": [
    "l2 = [1,4,9,2,5,[1,2,4],[3,55,1]]"
   ]
  },
  {
   "cell_type": "code",
   "execution_count": 71,
   "id": "c2624369",
   "metadata": {},
   "outputs": [
    {
     "data": {
      "text/plain": [
       "2"
      ]
     },
     "execution_count": 71,
     "metadata": {},
     "output_type": "execute_result"
    }
   ],
   "source": [
    "l2[5][1]\n",
    "#nested indexing"
   ]
  },
  {
   "cell_type": "code",
   "execution_count": 72,
   "id": "ef6ff62e",
   "metadata": {},
   "outputs": [],
   "source": [
    "l1.sort()"
   ]
  },
  {
   "cell_type": "code",
   "execution_count": 73,
   "id": "67ef03a6",
   "metadata": {},
   "outputs": [
    {
     "data": {
      "text/plain": [
       "[1, 2, 2, 3, 6, 8]"
      ]
     },
     "execution_count": 73,
     "metadata": {},
     "output_type": "execute_result"
    }
   ],
   "source": [
    "l1"
   ]
  },
  {
   "cell_type": "code",
   "execution_count": 74,
   "id": "ee8f2b95",
   "metadata": {},
   "outputs": [],
   "source": [
    "l1.reverse()"
   ]
  },
  {
   "cell_type": "code",
   "execution_count": 75,
   "id": "ff246ff0",
   "metadata": {},
   "outputs": [
    {
     "data": {
      "text/plain": [
       "[8, 6, 3, 2, 2, 1]"
      ]
     },
     "execution_count": 75,
     "metadata": {},
     "output_type": "execute_result"
    }
   ],
   "source": [
    "l1"
   ]
  },
  {
   "cell_type": "code",
   "execution_count": 76,
   "id": "0e9c345d",
   "metadata": {},
   "outputs": [],
   "source": [
    "l1.remove(2)\n",
    "# removes all matching instances"
   ]
  },
  {
   "cell_type": "code",
   "execution_count": 77,
   "id": "26aaff75",
   "metadata": {},
   "outputs": [
    {
     "data": {
      "text/plain": [
       "[8, 6, 3, 2, 1]"
      ]
     },
     "execution_count": 77,
     "metadata": {},
     "output_type": "execute_result"
    }
   ],
   "source": [
    "l1"
   ]
  },
  {
   "cell_type": "code",
   "execution_count": 78,
   "id": "d280e5c8",
   "metadata": {},
   "outputs": [],
   "source": [
    "d1 = {\"r1\": 2,\"r3\": 3}"
   ]
  },
  {
   "cell_type": "code",
   "execution_count": 79,
   "id": "841e978f",
   "metadata": {},
   "outputs": [],
   "source": [
    "l3 = [1,2,3,\"yup i am str\",d1]"
   ]
  },
  {
   "cell_type": "code",
   "execution_count": 80,
   "id": "13760399",
   "metadata": {},
   "outputs": [
    {
     "data": {
      "text/plain": [
       "[1, 2, 3, 'yup i am str', {'r1': 2, 'r3': 3}]"
      ]
     },
     "execution_count": 80,
     "metadata": {},
     "output_type": "execute_result"
    }
   ],
   "source": [
    "l3\n",
    "#can store other data structures too"
   ]
  },
  {
   "cell_type": "code",
   "execution_count": 81,
   "id": "756e8cdd",
   "metadata": {},
   "outputs": [
    {
     "data": {
      "text/plain": [
       "2"
      ]
     },
     "execution_count": 81,
     "metadata": {},
     "output_type": "execute_result"
    }
   ],
   "source": [
    "l3[4]['r1']"
   ]
  },
  {
   "cell_type": "code",
   "execution_count": 82,
   "id": "54c12085",
   "metadata": {},
   "outputs": [],
   "source": [
    "l3[4]['r1'] = 33"
   ]
  },
  {
   "cell_type": "code",
   "execution_count": 83,
   "id": "f917bc1f",
   "metadata": {},
   "outputs": [
    {
     "data": {
      "text/plain": [
       "[1, 2, 3, 'yup i am str', {'r1': 33, 'r3': 3}]"
      ]
     },
     "execution_count": 83,
     "metadata": {},
     "output_type": "execute_result"
    }
   ],
   "source": [
    "l3 "
   ]
  },
  {
   "cell_type": "markdown",
   "id": "0a2ce854",
   "metadata": {},
   "source": [
    "### Notes  -\n",
    "- As the sets are indexed and allow duplicates great for storing data\n",
    "    part of item of set can reached by value or by index.\n",
    "- can store multiple types of data types in itself.including other **DATA-STRUCTRES** as Dict ,etc\n",
    "\n",
    "**this makes list a best option as a data structure to store things when there are no other conditions**\n"
   ]
  },
  {
   "cell_type": "markdown",
   "id": "a34c208b",
   "metadata": {},
   "source": [
    "## tuples\n",
    "indexed , unchangeble/unmutable(execpt can be overwritten) , allows duplicate"
   ]
  },
  {
   "cell_type": "code",
   "execution_count": 84,
   "id": "6f3b357e",
   "metadata": {},
   "outputs": [],
   "source": [
    "t1 = (1,2,3)\n",
    "t2 = (\"a\",\"b\",\"c\")"
   ]
  },
  {
   "cell_type": "code",
   "execution_count": 85,
   "id": "317ed69d",
   "metadata": {},
   "outputs": [],
   "source": [
    "t3 = t1+t2"
   ]
  },
  {
   "cell_type": "code",
   "execution_count": 86,
   "id": "3d488b60",
   "metadata": {},
   "outputs": [
    {
     "data": {
      "text/plain": [
       "(1, 2, 3, 'a', 'b', 'c')"
      ]
     },
     "execution_count": 86,
     "metadata": {},
     "output_type": "execute_result"
    }
   ],
   "source": [
    "t3"
   ]
  },
  {
   "cell_type": "code",
   "execution_count": 87,
   "id": "4099775a",
   "metadata": {},
   "outputs": [
    {
     "data": {
      "text/plain": [
       "(1, 2, 3, 'a')"
      ]
     },
     "execution_count": 87,
     "metadata": {},
     "output_type": "execute_result"
    }
   ],
   "source": [
    "t3[0:4]"
   ]
  },
  {
   "cell_type": "markdown",
   "id": "fe22a2f2",
   "metadata": {},
   "source": [
    "t3[2] = 5\n",
    "<br>gives TypeError: 'tuple' object does not support item assignment"
   ]
  },
  {
   "cell_type": "markdown",
   "id": "14a2b46a",
   "metadata": {},
   "source": [
    "t3.append(6)\n",
    "<br>gives - AttributeError: 'tuple' object has no attribute 'append'"
   ]
  },
  {
   "cell_type": "markdown",
   "id": "742eaa37",
   "metadata": {},
   "source": [
    "so u cant append using function <br>\n",
    "but u can add elements by overwritting a tuple with new added tuple with \"+\" operator"
   ]
  },
  {
   "cell_type": "code",
   "execution_count": 88,
   "id": "32b85afd",
   "metadata": {},
   "outputs": [],
   "source": [
    "t3 = t3 + (\"add\",\"it\")"
   ]
  },
  {
   "cell_type": "code",
   "execution_count": 89,
   "id": "2334c2dd",
   "metadata": {},
   "outputs": [
    {
     "data": {
      "text/plain": [
       "(1, 2, 3, 'a', 'b', 'c', 'add', 'it')"
      ]
     },
     "execution_count": 89,
     "metadata": {},
     "output_type": "execute_result"
    }
   ],
   "source": [
    "t3"
   ]
  },
  {
   "cell_type": "code",
   "execution_count": 90,
   "id": "d1bc9a7d",
   "metadata": {},
   "outputs": [
    {
     "data": {
      "text/plain": [
       "'add'"
      ]
     },
     "execution_count": 90,
     "metadata": {},
     "output_type": "execute_result"
    }
   ],
   "source": [
    "t3[6]"
   ]
  },
  {
   "cell_type": "code",
   "execution_count": 91,
   "id": "bf36cc60",
   "metadata": {},
   "outputs": [],
   "source": [
    "t4 = (1,1,1,1,2,2,2,3)"
   ]
  },
  {
   "cell_type": "code",
   "execution_count": 92,
   "id": "3be08b02",
   "metadata": {},
   "outputs": [
    {
     "data": {
      "text/plain": [
       "(1, 1, 1, 1, 2, 2, 2, 3)"
      ]
     },
     "execution_count": 92,
     "metadata": {},
     "output_type": "execute_result"
    }
   ],
   "source": [
    "t4"
   ]
  },
  {
   "cell_type": "markdown",
   "id": "cc81845a",
   "metadata": {},
   "source": [
    "#### Notes - \n",
    "So tuple is like list structure... with exception that once created u can't change anything ... except **overwriting** it to change te tuple \n",
    "where can these be used - \n",
    "1. Tuples are more memory efficient than the lists. - \n",
    "    tuples are immutable and fixed size, Python allocates just the minimum memory block required for the data.\n",
    "2. Tuples are used whenever you want to return multiple results from a function.\n",
    "3. Since they're immutable, they can be used as keys for a dictionary (lists can't)."
   ]
  },
  {
   "cell_type": "code",
   "execution_count": 93,
   "id": "e939b06d",
   "metadata": {},
   "outputs": [
    {
     "name": "stdout",
     "output_type": "stream",
     "text": [
      "19 47\n"
     ]
    }
   ],
   "source": [
    "#2 point example\n",
    "def tuptup():\n",
    "    a =19\n",
    "    b =47\n",
    "    return (a,b)\n",
    "\n",
    "x,y = tuptup()\n",
    "\n",
    "print(x,y)"
   ]
  },
  {
   "cell_type": "code",
   "execution_count": 94,
   "id": "f25206ec",
   "metadata": {},
   "outputs": [],
   "source": [
    "#3 point example\n",
    "coordinates = { (0,0) : 100, (1,1) : 200}\n",
    "#coordinates1 = { [0,0] : 100, [1,1] : 200}\n",
    "#coordinate1 gives error -> TypeError: unhashable type: 'list'"
   ]
  },
  {
   "cell_type": "code",
   "execution_count": 95,
   "id": "ad3bef1e",
   "metadata": {},
   "outputs": [
    {
     "data": {
      "text/plain": [
       "100"
      ]
     },
     "execution_count": 95,
     "metadata": {},
     "output_type": "execute_result"
    }
   ],
   "source": [
    "coordinates[(0,0)]"
   ]
  },
  {
   "cell_type": "markdown",
   "id": "cfd1c840",
   "metadata": {},
   "source": [
    "### Dictionaries\n",
    "Dictionary is indexed by key (so indexing of 0 ,1 ,2 is not present like list but the keys in itself are indexing the vlues\n",
    "                                so its called indexed data structures)\n",
    " changeble\\mutable , but no **repeated elements** allowed\n",
    "- by no repeated values..it means - key defined for a dictionary needs to be unique"
   ]
  },
  {
   "cell_type": "code",
   "execution_count": 96,
   "id": "3a2dd88d",
   "metadata": {},
   "outputs": [],
   "source": [
    "dub ={\"car\":\"Baleno\",\"model\":\"GT500\",\"year\":2020}"
   ]
  },
  {
   "cell_type": "code",
   "execution_count": 97,
   "id": "b1ff6a81",
   "metadata": {},
   "outputs": [
    {
     "data": {
      "text/plain": [
       "'Baleno'"
      ]
     },
     "execution_count": 97,
     "metadata": {},
     "output_type": "execute_result"
    }
   ],
   "source": [
    "dub[\"car\"]"
   ]
  },
  {
   "cell_type": "markdown",
   "id": "218aaa30",
   "metadata": {},
   "source": [
    "there are many in-built functions for dictionaries that can be used as ->"
   ]
  },
  {
   "cell_type": "code",
   "execution_count": 98,
   "id": "9573ee78",
   "metadata": {},
   "outputs": [
    {
     "data": {
      "text/plain": [
       "dict_items([('car', 'Baleno'), ('model', 'GT500'), ('year', 2020)])"
      ]
     },
     "execution_count": 98,
     "metadata": {},
     "output_type": "execute_result"
    }
   ],
   "source": [
    "dub.items()"
   ]
  },
  {
   "cell_type": "code",
   "execution_count": 99,
   "id": "aa725f90",
   "metadata": {},
   "outputs": [
    {
     "data": {
      "text/plain": [
       "dict_keys(['car', 'model', 'year'])"
      ]
     },
     "execution_count": 99,
     "metadata": {},
     "output_type": "execute_result"
    }
   ],
   "source": [
    "dub.keys()"
   ]
  },
  {
   "cell_type": "code",
   "execution_count": 100,
   "id": "1d253d34",
   "metadata": {},
   "outputs": [
    {
     "data": {
      "text/plain": [
       "dict_values(['Baleno', 'GT500', 2020])"
      ]
     },
     "execution_count": 100,
     "metadata": {},
     "output_type": "execute_result"
    }
   ],
   "source": [
    "dub.values()"
   ]
  },
  {
   "cell_type": "code",
   "execution_count": 101,
   "id": "4aa40886",
   "metadata": {},
   "outputs": [],
   "source": [
    "dub1 = dub.copy()\n",
    "# copy command common all other dataframe as well"
   ]
  },
  {
   "cell_type": "code",
   "execution_count": 102,
   "id": "bbf860d0",
   "metadata": {},
   "outputs": [
    {
     "data": {
      "text/plain": [
       "('year', 2020)"
      ]
     },
     "execution_count": 102,
     "metadata": {},
     "output_type": "execute_result"
    }
   ],
   "source": [
    "dub1.popitem()"
   ]
  },
  {
   "cell_type": "code",
   "execution_count": 103,
   "id": "9cf52d01",
   "metadata": {},
   "outputs": [
    {
     "data": {
      "text/plain": [
       "{'car': 'Baleno', 'model': 'GT500'}"
      ]
     },
     "execution_count": 103,
     "metadata": {},
     "output_type": "execute_result"
    }
   ],
   "source": [
    "dub1"
   ]
  },
  {
   "cell_type": "code",
   "execution_count": 104,
   "id": "4167401d",
   "metadata": {},
   "outputs": [],
   "source": [
    "dub1.clear()"
   ]
  },
  {
   "cell_type": "code",
   "execution_count": 105,
   "id": "6b07712c",
   "metadata": {},
   "outputs": [
    {
     "data": {
      "text/plain": [
       "{}"
      ]
     },
     "execution_count": 105,
     "metadata": {},
     "output_type": "execute_result"
    }
   ],
   "source": [
    "dub1\n",
    "# why.... but why would you do any of that"
   ]
  },
  {
   "cell_type": "code",
   "execution_count": 106,
   "id": "a9b1c206",
   "metadata": {},
   "outputs": [
    {
     "name": "stdout",
     "output_type": "stream",
     "text": [
      "('car', 'Baleno') <class 'tuple'>\n",
      "('model', 'GT500') <class 'tuple'>\n",
      "('year', 2020) <class 'tuple'>\n"
     ]
    }
   ],
   "source": [
    "for i in dub.items():\n",
    "    print(i,type(i))"
   ]
  },
  {
   "cell_type": "markdown",
   "id": "3c99899c",
   "metadata": {},
   "source": [
    "notes - \n",
    "Great data structure to store base relation ship between two groups of dataset"
   ]
  },
  {
   "cell_type": "markdown",
   "id": "65227bcf",
   "metadata": {},
   "source": [
    "## sets"
   ]
  },
  {
   "cell_type": "markdown",
   "id": "c79e21a1",
   "metadata": {},
   "source": [
    "**unindexed,mutable,doesn't allow duplicates**<br>**even though unidexed they are iterable**"
   ]
  },
  {
   "cell_type": "code",
   "execution_count": 107,
   "id": "7ce859cd",
   "metadata": {},
   "outputs": [],
   "source": [
    "a = {1,2,35,63,1,2}"
   ]
  },
  {
   "cell_type": "code",
   "execution_count": 108,
   "id": "51e6dd87",
   "metadata": {},
   "outputs": [
    {
     "data": {
      "text/plain": [
       "{1, 2, 35, 63}"
      ]
     },
     "execution_count": 108,
     "metadata": {},
     "output_type": "execute_result"
    }
   ],
   "source": [
    "a\n",
    "#only first instances of repeated value is considered"
   ]
  },
  {
   "cell_type": "code",
   "execution_count": 109,
   "id": "cc933424",
   "metadata": {},
   "outputs": [
    {
     "data": {
      "text/plain": [
       "4"
      ]
     },
     "execution_count": 109,
     "metadata": {},
     "output_type": "execute_result"
    }
   ],
   "source": [
    "len(a)"
   ]
  },
  {
   "cell_type": "markdown",
   "id": "9432190c",
   "metadata": {},
   "source": [
    "a[0] <br> \n",
    "gives error->TypeError: 'set' object is not subscriptable"
   ]
  },
  {
   "cell_type": "code",
   "execution_count": 110,
   "id": "5de85bfe",
   "metadata": {},
   "outputs": [
    {
     "name": "stdout",
     "output_type": "stream",
     "text": [
      "1\n",
      "2\n",
      "35\n",
      "63\n"
     ]
    }
   ],
   "source": [
    "# iterable though\n",
    "for i in a:\n",
    "    print(i)"
   ]
  },
  {
   "cell_type": "code",
   "execution_count": 111,
   "id": "326551d7",
   "metadata": {},
   "outputs": [
    {
     "name": "stdout",
     "output_type": "stream",
     "text": [
      "{1, 2, 35, 5, 63}\n"
     ]
    }
   ],
   "source": [
    "a.add(5)\n",
    "print(a)"
   ]
  },
  {
   "cell_type": "code",
   "execution_count": 112,
   "id": "1fd55db0",
   "metadata": {},
   "outputs": [
    {
     "name": "stdout",
     "output_type": "stream",
     "text": [
      "{1, 2, 35, 63}\n"
     ]
    }
   ],
   "source": [
    "a.remove(5)\n",
    "print(a)"
   ]
  },
  {
   "cell_type": "code",
   "execution_count": 113,
   "id": "485c8699",
   "metadata": {},
   "outputs": [
    {
     "data": {
      "text/plain": [
       "1"
      ]
     },
     "execution_count": 113,
     "metadata": {},
     "output_type": "execute_result"
    }
   ],
   "source": [
    "a.pop()\n",
    "#first element is poped\n",
    "#where as last element is poped in list ..... interesting"
   ]
  },
  {
   "cell_type": "code",
   "execution_count": 114,
   "id": "6806bfb0",
   "metadata": {},
   "outputs": [
    {
     "name": "stdout",
     "output_type": "stream",
     "text": [
      "set()\n"
     ]
    }
   ],
   "source": [
    "a.clear()\n",
    "print(a)\n",
    "# why.. why would you any of that"
   ]
  },
  {
   "cell_type": "markdown",
   "id": "3b4c6bcd",
   "metadata": {},
   "source": [
    "### .clear() Goals:\n",
    "- Release Memory: If you have a large list that fills your memory—such as a huge data set or a large file read via readlines()—and you don’t need it anymore, you can immediately release the memory with list.clear(). Especially in interactive mode, Python doesn’t know which variable you still need – so it must keep all variables till session end. But if you call list.clear(), it can release the memory for other processing tasks.\n",
    "- Clear Multiple List Variables: Multiple variables may refer to the same list object. If you want to reflect that the list is now empty, you can either call list.clear() on one variable and all other variables will see it, or you must call var1 = [], var2 = [], ..., varn = [] for all variables. This can be a pain if you have many variables."
   ]
  },
  {
   "cell_type": "markdown",
   "id": "08668b00",
   "metadata": {},
   "source": [
    "#### Notes - \n",
    "sets are like lists but no duplicates and no indexing but iterable<br>\n",
    "sooo... like human putting things in a bag unoredered and no same things allowed\n",
    "maybe u can use to dyanamically store primary key values"
   ]
  },
  {
   "cell_type": "markdown",
   "id": "a291a9db",
   "metadata": {},
   "source": [
    "### Why sets -\n",
    "it makes sets highly useful to efficiently **remove duplicate values from a list or tuple** \n",
    "<br>to perform common math operations like **unions and intersections.**\n"
   ]
  },
  {
   "cell_type": "code",
   "execution_count": 115,
   "id": "b8f21cf2",
   "metadata": {},
   "outputs": [],
   "source": [
    "a = [1,1,1,1,1,2,2,2,2,2,33,33,3,3,3]"
   ]
  },
  {
   "cell_type": "code",
   "execution_count": 116,
   "id": "f88a50c5",
   "metadata": {},
   "outputs": [
    {
     "name": "stdout",
     "output_type": "stream",
     "text": [
      "[1, 2, 3, 33]\n"
     ]
    }
   ],
   "source": [
    "a = list(set(a))\n",
    "print(a)"
   ]
  },
  {
   "cell_type": "code",
   "execution_count": 117,
   "id": "1cb022fc",
   "metadata": {},
   "outputs": [],
   "source": [
    "x = {1,2,3,4,5}\n",
    "y = {3,4,5,6,7}"
   ]
  },
  {
   "cell_type": "code",
   "execution_count": 118,
   "id": "0905ee0e",
   "metadata": {},
   "outputs": [
    {
     "data": {
      "text/plain": [
       "{1, 2, 3, 4, 5, 6, 7}"
      ]
     },
     "execution_count": 118,
     "metadata": {},
     "output_type": "execute_result"
    }
   ],
   "source": [
    "x.union(y)"
   ]
  },
  {
   "cell_type": "code",
   "execution_count": 119,
   "id": "0a07ab83",
   "metadata": {},
   "outputs": [
    {
     "data": {
      "text/plain": [
       "{3, 4, 5}"
      ]
     },
     "execution_count": 119,
     "metadata": {},
     "output_type": "execute_result"
    }
   ],
   "source": [
    "x.intersection(y)"
   ]
  },
  {
   "cell_type": "code",
   "execution_count": 120,
   "id": "542862a5",
   "metadata": {},
   "outputs": [
    {
     "data": {
      "text/plain": [
       "{1, 2}"
      ]
     },
     "execution_count": 120,
     "metadata": {},
     "output_type": "execute_result"
    }
   ],
   "source": [
    "x.difference(y)"
   ]
  },
  {
   "cell_type": "code",
   "execution_count": 121,
   "id": "cea8c901",
   "metadata": {},
   "outputs": [
    {
     "data": {
      "text/plain": [
       "{1, 2, 6, 7}"
      ]
     },
     "execution_count": 121,
     "metadata": {},
     "output_type": "execute_result"
    }
   ],
   "source": [
    "x.symmetric_difference(y)"
   ]
  },
  {
   "cell_type": "markdown",
   "id": "5234d631",
   "metadata": {},
   "source": [
    "## Bonus extra dataset - Frozensets\n",
    "Set but is unmutable\\immutable.... imune to mutablility"
   ]
  },
  {
   "cell_type": "code",
   "execution_count": 122,
   "id": "f229822a",
   "metadata": {},
   "outputs": [],
   "source": [
    "# Initialize a frozenset\n",
    "immutableSet = frozenset([1,2,3,4])"
   ]
  },
  {
   "cell_type": "code",
   "execution_count": 123,
   "id": "063a97aa",
   "metadata": {},
   "outputs": [
    {
     "data": {
      "text/plain": [
       "frozenset({1, 2, 3, 4})"
      ]
     },
     "execution_count": 123,
     "metadata": {},
     "output_type": "execute_result"
    }
   ],
   "source": [
    "immutableSet"
   ]
  },
  {
   "cell_type": "markdown",
   "id": "860263e6",
   "metadata": {},
   "source": [
    " now above set is unmutable and you can use it to intersection and other things with other sets"
   ]
  },
  {
   "cell_type": "markdown",
   "id": "e3c5900d",
   "metadata": {},
   "source": [
    "then there are user definrd data structures like Stack(first in last out),ques(first in first out),linked list(value and poitners), trees(pointer to left leaf ,value, pointerto right leaf),hash map (key value) ,etc"
   ]
  }
 ],
 "metadata": {
  "kernelspec": {
   "display_name": "Python 3",
   "language": "python",
   "name": "python3"
  },
  "language_info": {
   "codemirror_mode": {
    "name": "ipython",
    "version": 3
   },
   "file_extension": ".py",
   "mimetype": "text/x-python",
   "name": "python",
   "nbconvert_exporter": "python",
   "pygments_lexer": "ipython3",
   "version": "3.8.8"
  }
 },
 "nbformat": 4,
 "nbformat_minor": 5
}
