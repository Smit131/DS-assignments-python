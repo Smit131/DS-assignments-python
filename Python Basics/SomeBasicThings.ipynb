{
 "cells": [
  {
   "cell_type": "markdown",
   "id": "125212cf",
   "metadata": {},
   "source": [
    "## Objective\n",
    "### Performing basic operations of python and coding\n",
    "### Data Structure - \n",
    "1. All basic data types, their properties, pros and cons, when and why to use and prebuilt-functions available performed\n",
    "2. Some Python coding problems\n",
    "3. Deep and shallow copy\n",
    "4. Dataframe manipulation\n",
    "5. Random clutch Function practice\n"
   ]
  },
  {
   "cell_type": "markdown",
   "id": "32f0755a",
   "metadata": {},
   "source": [
    "#### Four types of data structures\n",
    "1. List - []\n",
    "2. Dictionary - {key : item}\n",
    "3. Tuples - ()\n",
    "4. Set - {}"
   ]
  },
  {
   "cell_type": "markdown",
   "id": "f384ab64",
   "metadata": {},
   "source": [
    "#### lets go through one by one\n",
    "## List - []\n",
    " ordered/indexed and changeable. Allows duplicate members."
   ]
  },
  {
   "cell_type": "code",
   "execution_count": 250,
   "id": "efb11d4b",
   "metadata": {},
   "outputs": [],
   "source": [
    "l1 = [1,2,6,2,3,8]"
   ]
  },
  {
   "cell_type": "code",
   "execution_count": 251,
   "id": "d747907f",
   "metadata": {},
   "outputs": [
    {
     "data": {
      "text/plain": [
       "[1, 2, 6, 2, 3, 8]"
      ]
     },
     "execution_count": 251,
     "metadata": {},
     "output_type": "execute_result"
    }
   ],
   "source": [
    "l1[:]"
   ]
  },
  {
   "cell_type": "code",
   "execution_count": 252,
   "id": "5275f696",
   "metadata": {},
   "outputs": [
    {
     "data": {
      "text/plain": [
       "[6, 2]"
      ]
     },
     "execution_count": 252,
     "metadata": {},
     "output_type": "execute_result"
    }
   ],
   "source": [
    "l1[2:4]\n",
    "# as you can see in range area first number is considered and last limit is not"
   ]
  },
  {
   "cell_type": "code",
   "execution_count": 253,
   "id": "f88dbbef",
   "metadata": {},
   "outputs": [
    {
     "data": {
      "text/plain": [
       "6"
      ]
     },
     "execution_count": 253,
     "metadata": {},
     "output_type": "execute_result"
    }
   ],
   "source": [
    "l1[2]"
   ]
  },
  {
   "cell_type": "code",
   "execution_count": 254,
   "id": "27f14cbd",
   "metadata": {},
   "outputs": [
    {
     "name": "stdout",
     "output_type": "stream",
     "text": [
      "[1, 2, 6, 2, 3, 8, 66]\n"
     ]
    }
   ],
   "source": [
    "l1.append(66)\n",
    "print(l1)"
   ]
  },
  {
   "cell_type": "code",
   "execution_count": 255,
   "id": "f737eeab",
   "metadata": {},
   "outputs": [
    {
     "data": {
      "text/plain": [
       "[1, 2, 6, 2, 3, 8, 66, 2, 3]"
      ]
     },
     "execution_count": 255,
     "metadata": {},
     "output_type": "execute_result"
    }
   ],
   "source": [
    "l1.extend([2,3])\n",
    "l1"
   ]
  },
  {
   "cell_type": "code",
   "execution_count": 258,
   "id": "b5eb033f",
   "metadata": {},
   "outputs": [
    {
     "data": {
      "text/plain": [
       "3"
      ]
     },
     "execution_count": 258,
     "metadata": {},
     "output_type": "execute_result"
    }
   ],
   "source": [
    "l1.count(2)"
   ]
  },
  {
   "cell_type": "code",
   "execution_count": 256,
   "id": "c65e1b76",
   "metadata": {},
   "outputs": [
    {
     "name": "stdout",
     "output_type": "stream",
     "text": [
      "3 [1, 2, 6, 2, 3, 8, 66, 2]\n"
     ]
    }
   ],
   "source": [
    "print(l1.pop(),l1)\n",
    "#last element is poped"
   ]
  },
  {
   "cell_type": "code",
   "execution_count": 257,
   "id": "6f6b7bd8",
   "metadata": {},
   "outputs": [
    {
     "data": {
      "text/plain": [
       "8"
      ]
     },
     "execution_count": 257,
     "metadata": {},
     "output_type": "execute_result"
    }
   ],
   "source": [
    "len(l1)"
   ]
  },
  {
   "cell_type": "code",
   "execution_count": 77,
   "id": "6ef37202",
   "metadata": {},
   "outputs": [],
   "source": [
    "l2 = [1,4,9,2,5,[1,2,4],[3,55,1]]"
   ]
  },
  {
   "cell_type": "code",
   "execution_count": 78,
   "id": "c2624369",
   "metadata": {},
   "outputs": [
    {
     "data": {
      "text/plain": [
       "2"
      ]
     },
     "execution_count": 78,
     "metadata": {},
     "output_type": "execute_result"
    }
   ],
   "source": [
    "l2[5][1]\n",
    "#nested indexing"
   ]
  },
  {
   "cell_type": "code",
   "execution_count": 79,
   "id": "ef6ff62e",
   "metadata": {},
   "outputs": [],
   "source": [
    "l1.sort()"
   ]
  },
  {
   "cell_type": "code",
   "execution_count": 80,
   "id": "67ef03a6",
   "metadata": {},
   "outputs": [
    {
     "data": {
      "text/plain": [
       "[1, 2, 2, 3, 6, 8]"
      ]
     },
     "execution_count": 80,
     "metadata": {},
     "output_type": "execute_result"
    }
   ],
   "source": [
    "l1"
   ]
  },
  {
   "cell_type": "code",
   "execution_count": 81,
   "id": "ee8f2b95",
   "metadata": {},
   "outputs": [],
   "source": [
    "l1.reverse()"
   ]
  },
  {
   "cell_type": "code",
   "execution_count": 82,
   "id": "ff246ff0",
   "metadata": {},
   "outputs": [
    {
     "data": {
      "text/plain": [
       "[8, 6, 3, 2, 2, 1]"
      ]
     },
     "execution_count": 82,
     "metadata": {},
     "output_type": "execute_result"
    }
   ],
   "source": [
    "l1"
   ]
  },
  {
   "cell_type": "code",
   "execution_count": 83,
   "id": "0e9c345d",
   "metadata": {},
   "outputs": [],
   "source": [
    "l1.remove(2)\n",
    "# removes all matching instances"
   ]
  },
  {
   "cell_type": "code",
   "execution_count": 84,
   "id": "26aaff75",
   "metadata": {},
   "outputs": [
    {
     "data": {
      "text/plain": [
       "[8, 6, 3, 2, 1]"
      ]
     },
     "execution_count": 84,
     "metadata": {},
     "output_type": "execute_result"
    }
   ],
   "source": [
    "l1"
   ]
  },
  {
   "cell_type": "code",
   "execution_count": 85,
   "id": "d280e5c8",
   "metadata": {},
   "outputs": [],
   "source": [
    "d1 = {\"r1\": 2,\"r3\": 3}"
   ]
  },
  {
   "cell_type": "code",
   "execution_count": 86,
   "id": "841e978f",
   "metadata": {},
   "outputs": [],
   "source": [
    "l3 = [1,2,3,\"yup i am str\",d1]"
   ]
  },
  {
   "cell_type": "code",
   "execution_count": 87,
   "id": "13760399",
   "metadata": {},
   "outputs": [
    {
     "data": {
      "text/plain": [
       "[1, 2, 3, 'yup i am str', {'r1': 2, 'r3': 3}]"
      ]
     },
     "execution_count": 87,
     "metadata": {},
     "output_type": "execute_result"
    }
   ],
   "source": [
    "l3\n",
    "#can store other data structures too"
   ]
  },
  {
   "cell_type": "code",
   "execution_count": 88,
   "id": "756e8cdd",
   "metadata": {},
   "outputs": [
    {
     "data": {
      "text/plain": [
       "2"
      ]
     },
     "execution_count": 88,
     "metadata": {},
     "output_type": "execute_result"
    }
   ],
   "source": [
    "l3[4]['r1']"
   ]
  },
  {
   "cell_type": "code",
   "execution_count": 89,
   "id": "54c12085",
   "metadata": {},
   "outputs": [],
   "source": [
    "l3[4]['r1'] = 33"
   ]
  },
  {
   "cell_type": "code",
   "execution_count": 90,
   "id": "f917bc1f",
   "metadata": {},
   "outputs": [
    {
     "data": {
      "text/plain": [
       "[1, 2, 3, 'yup i am str', {'r1': 33, 'r3': 3}]"
      ]
     },
     "execution_count": 90,
     "metadata": {},
     "output_type": "execute_result"
    }
   ],
   "source": [
    "l3 "
   ]
  },
  {
   "cell_type": "code",
   "execution_count": 195,
   "id": "982cecd6",
   "metadata": {},
   "outputs": [
    {
     "name": "stdout",
     "output_type": "stream",
     "text": [
      "3\n"
     ]
    }
   ],
   "source": [
    "weekdays = ['sun','mon','tue','wed','thu','fri','sun','mon','mon']\n",
    "print(weekdays.count('mon'))"
   ]
  },
  {
   "cell_type": "code",
   "execution_count": 197,
   "id": "51a445d3",
   "metadata": {},
   "outputs": [
    {
     "data": {
      "text/plain": [
       "'sun mon tue wed thu fri sun mon mon'"
      ]
     },
     "execution_count": 197,
     "metadata": {},
     "output_type": "execute_result"
    }
   ],
   "source": [
    "days = \" \".join(weekdays)\n",
    "days"
   ]
  },
  {
   "cell_type": "code",
   "execution_count": 198,
   "id": "620f9478",
   "metadata": {},
   "outputs": [
    {
     "data": {
      "text/plain": [
       "['sun', 'mon', 'tue', 'wed', 'thu', 'fri', 'sun', 'mon', 'mon']"
      ]
     },
     "execution_count": 198,
     "metadata": {},
     "output_type": "execute_result"
    }
   ],
   "source": [
    "weekd = days.split(\" \")\n",
    "weekd"
   ]
  },
  {
   "cell_type": "code",
   "execution_count": 352,
   "id": "ca94603a",
   "metadata": {},
   "outputs": [
    {
     "name": "stdout",
     "output_type": "stream",
     "text": [
      "[['sun', 2], ['tue', 1], ['thu', 1], ['fri', 1], ['wed', 1], ['mon', 3]]\n",
      "{'sun': 2, 'tue': 1, 'thu': 1, 'fri': 1, 'wed': 1, 'mon': 3}\n"
     ]
    }
   ],
   "source": [
    "counts_d = dict()\n",
    "counts_dl = [[x,weekdays.count(x)] for x in set(weekdays)]\n",
    "print(counts_dl)\n",
    "count_dic = dict(counts_dl)\n",
    "print(count_dic)"
   ]
  },
  {
   "cell_type": "code",
   "execution_count": 353,
   "id": "5e6a3ba9",
   "metadata": {},
   "outputs": [
    {
     "name": "stdout",
     "output_type": "stream",
     "text": [
      "[['sun', 2], ['mon', 3], ['tue', 1], ['wed', 1], ['thu', 1], ['fri', 1], ['sun', 2], ['mon', 3], ['mon', 3]]\n",
      "{'sun': 2, 'mon': 3, 'tue': 1, 'wed': 1, 'thu': 1, 'fri': 1}\n"
     ]
    }
   ],
   "source": [
    "#sets to avoid repetetion\n",
    "counts_d = dict()\n",
    "counts_dl = [[x,weekdays.count(x)] for x in weekdays]\n",
    "print(counts_dl)\n",
    "count_dic = dict(counts_dl)\n",
    "print(count_dic)"
   ]
  },
  {
   "cell_type": "markdown",
   "id": "91516cbc",
   "metadata": {},
   "source": [
    "### MVP things.... - > enumerate"
   ]
  },
  {
   "cell_type": "code",
   "execution_count": 205,
   "id": "a197c75d",
   "metadata": {},
   "outputs": [
    {
     "name": "stdout",
     "output_type": "stream",
     "text": [
      "0 Python\n",
      "1 Interview\n",
      "2 Questions\n"
     ]
    }
   ],
   "source": [
    "subjects = ('Python', 'Interview', 'Questions')\n",
    "for i, subject in enumerate(subjects):\n",
    "    print(i, subject)"
   ]
  },
  {
   "cell_type": "markdown",
   "id": "0a2ce854",
   "metadata": {},
   "source": [
    "### Notes  -\n",
    "- As the sets are indexed and allow duplicates great for storing data\n",
    "    part of item of set can reached by value or by index.\n",
    "- can store multiple types of data types in itself.including other **DATA-STRUCTRES** as Dict ,etc\n",
    "\n",
    "**this makes list a best option as a data structure to store things when there are no other conditions**\n"
   ]
  },
  {
   "cell_type": "markdown",
   "id": "a34c208b",
   "metadata": {},
   "source": [
    "## tuples\n",
    "indexed , unchangeble/unmutable(execpt can be overwritten) , allows duplicate"
   ]
  },
  {
   "cell_type": "code",
   "execution_count": 357,
   "id": "6f3b357e",
   "metadata": {},
   "outputs": [],
   "source": [
    "t1 = (1,2,3)\n",
    "t2 = (\"a\",\"b\",\"c\")"
   ]
  },
  {
   "cell_type": "code",
   "execution_count": 358,
   "id": "317ed69d",
   "metadata": {},
   "outputs": [],
   "source": [
    "t3 = t1+t2"
   ]
  },
  {
   "cell_type": "code",
   "execution_count": 359,
   "id": "3d488b60",
   "metadata": {},
   "outputs": [
    {
     "data": {
      "text/plain": [
       "(1, 2, 3, 'a', 'b', 'c')"
      ]
     },
     "execution_count": 359,
     "metadata": {},
     "output_type": "execute_result"
    }
   ],
   "source": [
    "t3"
   ]
  },
  {
   "cell_type": "code",
   "execution_count": 94,
   "id": "4099775a",
   "metadata": {},
   "outputs": [
    {
     "data": {
      "text/plain": [
       "(1, 2, 3, 'a')"
      ]
     },
     "execution_count": 94,
     "metadata": {},
     "output_type": "execute_result"
    }
   ],
   "source": [
    "t3[0:4]"
   ]
  },
  {
   "cell_type": "markdown",
   "id": "fe22a2f2",
   "metadata": {},
   "source": [
    "t3[2] = 5\n",
    "<br>gives TypeError: 'tuple' object does not support item assignment"
   ]
  },
  {
   "cell_type": "markdown",
   "id": "14a2b46a",
   "metadata": {},
   "source": [
    "t3.append(6)\n",
    "<br>gives - AttributeError: 'tuple' object has no attribute 'append'"
   ]
  },
  {
   "cell_type": "markdown",
   "id": "742eaa37",
   "metadata": {},
   "source": [
    "so u cant append using function <br>\n",
    "but u can add elements by overwritting a tuple with new added tuple with \"+\" operator"
   ]
  },
  {
   "cell_type": "code",
   "execution_count": 360,
   "id": "32b85afd",
   "metadata": {},
   "outputs": [],
   "source": [
    "t3 = t3 + (\"bbadd\",\"it\")"
   ]
  },
  {
   "cell_type": "code",
   "execution_count": 361,
   "id": "2334c2dd",
   "metadata": {},
   "outputs": [
    {
     "data": {
      "text/plain": [
       "(1, 2, 3, 'a', 'b', 'c', 'bbadd', 'it')"
      ]
     },
     "execution_count": 361,
     "metadata": {},
     "output_type": "execute_result"
    }
   ],
   "source": [
    "t3"
   ]
  },
  {
   "cell_type": "code",
   "execution_count": 356,
   "id": "d1bc9a7d",
   "metadata": {},
   "outputs": [
    {
     "data": {
      "text/plain": [
       "'add'"
      ]
     },
     "execution_count": 356,
     "metadata": {},
     "output_type": "execute_result"
    }
   ],
   "source": [
    "t3[6]"
   ]
  },
  {
   "cell_type": "code",
   "execution_count": 98,
   "id": "bf36cc60",
   "metadata": {},
   "outputs": [],
   "source": [
    "t4 = (1,1,1,1,2,2,2,3)"
   ]
  },
  {
   "cell_type": "code",
   "execution_count": 99,
   "id": "3be08b02",
   "metadata": {},
   "outputs": [
    {
     "data": {
      "text/plain": [
       "(1, 1, 1, 1, 2, 2, 2, 3)"
      ]
     },
     "execution_count": 99,
     "metadata": {},
     "output_type": "execute_result"
    }
   ],
   "source": [
    "t4"
   ]
  },
  {
   "cell_type": "markdown",
   "id": "cc81845a",
   "metadata": {},
   "source": [
    "#### Notes - \n",
    "So tuple is like list structure... with exception that once created u can't change anything ... except **overwriting** it to change te tuple \n",
    "where can these be used - \n",
    "1. Tuples are more memory efficient than the lists. - \n",
    "    tuples are immutable and fixed size, Python allocates just the minimum memory block required for the data.\n",
    "2. Tuples are used whenever you want to return multiple results from a function.\n",
    "3. Since they're immutable, they can be used as keys for a dictionary (lists can't)."
   ]
  },
  {
   "cell_type": "code",
   "execution_count": 100,
   "id": "e939b06d",
   "metadata": {},
   "outputs": [
    {
     "name": "stdout",
     "output_type": "stream",
     "text": [
      "19 47\n"
     ]
    }
   ],
   "source": [
    "#2 point example\n",
    "def tuptup():\n",
    "    a =19\n",
    "    b =47\n",
    "    return (a,b)\n",
    "\n",
    "x,y = tuptup()\n",
    "\n",
    "print(x,y)"
   ]
  },
  {
   "cell_type": "code",
   "execution_count": 101,
   "id": "f25206ec",
   "metadata": {},
   "outputs": [],
   "source": [
    "#3 point example\n",
    "coordinates = { (0,0) : 100, (1,1) : 200}\n",
    "#coordinates1 = { [0,0] : 100, [1,1] : 200}\n",
    "#coordinate1 gives error -> TypeError: unhashable type: 'list'"
   ]
  },
  {
   "cell_type": "code",
   "execution_count": 102,
   "id": "ad3bef1e",
   "metadata": {},
   "outputs": [
    {
     "data": {
      "text/plain": [
       "100"
      ]
     },
     "execution_count": 102,
     "metadata": {},
     "output_type": "execute_result"
    }
   ],
   "source": [
    "coordinates[(0,0)]"
   ]
  },
  {
   "cell_type": "markdown",
   "id": "cfd1c840",
   "metadata": {},
   "source": [
    "### Dictionaries\n",
    "Dictionary is indexed by key (so indexing of 0 ,1 ,2 is not present like list but the keys in itself are indexing the vlues\n",
    "                                so its called indexed data structures)\n",
    " changeble\\mutable , but no **repeated KEYS** allowed\n",
    "- by no repeated values..it means - key defined for a dictionary needs to be unique"
   ]
  },
  {
   "cell_type": "code",
   "execution_count": 103,
   "id": "3a2dd88d",
   "metadata": {},
   "outputs": [],
   "source": [
    "dub ={\"car\":\"Baleno\",\"model\":\"GT500\",\"year\":2020}"
   ]
  },
  {
   "cell_type": "code",
   "execution_count": 104,
   "id": "b1ff6a81",
   "metadata": {},
   "outputs": [
    {
     "data": {
      "text/plain": [
       "'Baleno'"
      ]
     },
     "execution_count": 104,
     "metadata": {},
     "output_type": "execute_result"
    }
   ],
   "source": [
    "dub[\"car\"]"
   ]
  },
  {
   "cell_type": "code",
   "execution_count": 262,
   "id": "062368f2",
   "metadata": {},
   "outputs": [
    {
     "data": {
      "text/plain": [
       "{'car': 'Baleno', 'model': 'GT500', 'year': 2020, 'Number': 36}"
      ]
     },
     "execution_count": 262,
     "metadata": {},
     "output_type": "execute_result"
    }
   ],
   "source": [
    "#adding elements\n",
    "dub[\"Number\"] = 36\n",
    "dub"
   ]
  },
  {
   "cell_type": "markdown",
   "id": "218aaa30",
   "metadata": {},
   "source": [
    "there are many in-built functions for dictionaries that can be used as ->"
   ]
  },
  {
   "cell_type": "code",
   "execution_count": 105,
   "id": "9573ee78",
   "metadata": {},
   "outputs": [
    {
     "data": {
      "text/plain": [
       "dict_items([('car', 'Baleno'), ('model', 'GT500'), ('year', 2020)])"
      ]
     },
     "execution_count": 105,
     "metadata": {},
     "output_type": "execute_result"
    }
   ],
   "source": [
    "dub.items()"
   ]
  },
  {
   "cell_type": "code",
   "execution_count": 106,
   "id": "aa725f90",
   "metadata": {},
   "outputs": [
    {
     "data": {
      "text/plain": [
       "dict_keys(['car', 'model', 'year'])"
      ]
     },
     "execution_count": 106,
     "metadata": {},
     "output_type": "execute_result"
    }
   ],
   "source": [
    "dub.keys()"
   ]
  },
  {
   "cell_type": "code",
   "execution_count": 107,
   "id": "1d253d34",
   "metadata": {},
   "outputs": [
    {
     "data": {
      "text/plain": [
       "dict_values(['Baleno', 'GT500', 2020])"
      ]
     },
     "execution_count": 107,
     "metadata": {},
     "output_type": "execute_result"
    }
   ],
   "source": [
    "dub.values()"
   ]
  },
  {
   "cell_type": "code",
   "execution_count": 260,
   "id": "4aa40886",
   "metadata": {},
   "outputs": [
    {
     "name": "stdout",
     "output_type": "stream",
     "text": [
      "{'car': 'Baleno', 'model': 'GT500', 'year': 2020} {'car': 'mercelago', 'model': 'GT500', 'year': 2020}\n"
     ]
    }
   ],
   "source": [
    "dub1 = dub.copy()\n",
    "dub1[\"car\"] =\"mercelago\"\n",
    "print(dub,dub1)\n",
    "# copy command common all other dataframe as well"
   ]
  },
  {
   "cell_type": "code",
   "execution_count": 109,
   "id": "bbf860d0",
   "metadata": {},
   "outputs": [
    {
     "data": {
      "text/plain": [
       "('year', 2020)"
      ]
     },
     "execution_count": 109,
     "metadata": {},
     "output_type": "execute_result"
    }
   ],
   "source": [
    "dub1.popitem()"
   ]
  },
  {
   "cell_type": "code",
   "execution_count": 110,
   "id": "9cf52d01",
   "metadata": {},
   "outputs": [
    {
     "data": {
      "text/plain": [
       "{'car': 'Baleno', 'model': 'GT500'}"
      ]
     },
     "execution_count": 110,
     "metadata": {},
     "output_type": "execute_result"
    }
   ],
   "source": [
    "dub1"
   ]
  },
  {
   "cell_type": "code",
   "execution_count": 111,
   "id": "4167401d",
   "metadata": {},
   "outputs": [],
   "source": [
    "dub1.clear()"
   ]
  },
  {
   "cell_type": "code",
   "execution_count": 112,
   "id": "6b07712c",
   "metadata": {},
   "outputs": [
    {
     "data": {
      "text/plain": [
       "{}"
      ]
     },
     "execution_count": 112,
     "metadata": {},
     "output_type": "execute_result"
    }
   ],
   "source": [
    "dub1\n",
    "# why.... but why would you do any of that"
   ]
  },
  {
   "cell_type": "code",
   "execution_count": 113,
   "id": "a9b1c206",
   "metadata": {},
   "outputs": [
    {
     "name": "stdout",
     "output_type": "stream",
     "text": [
      "('car', 'Baleno') <class 'tuple'>\n",
      "('model', 'GT500') <class 'tuple'>\n",
      "('year', 2020) <class 'tuple'>\n"
     ]
    }
   ],
   "source": [
    "for i in dub.items():\n",
    "    print(i,type(i))"
   ]
  },
  {
   "cell_type": "markdown",
   "id": "3c99899c",
   "metadata": {},
   "source": [
    "notes - \n",
    "Great data structure to store base relation ship between two groups of dataset"
   ]
  },
  {
   "cell_type": "markdown",
   "id": "65227bcf",
   "metadata": {},
   "source": [
    "## sets"
   ]
  },
  {
   "cell_type": "markdown",
   "id": "c79e21a1",
   "metadata": {},
   "source": [
    "**unindexed,mutable,doesn't allow duplicates**<br>**even though unidexed they are iterable**"
   ]
  },
  {
   "cell_type": "code",
   "execution_count": 212,
   "id": "f42bffbf",
   "metadata": {},
   "outputs": [
    {
     "data": {
      "text/plain": [
       "[10, 8, 6, 4, 2]"
      ]
     },
     "execution_count": 212,
     "metadata": {},
     "output_type": "execute_result"
    }
   ],
   "source": [
    "[i for i in range(10,1,-2)]"
   ]
  },
  {
   "cell_type": "code",
   "execution_count": 264,
   "id": "7ce859cd",
   "metadata": {},
   "outputs": [],
   "source": [
    "a = {1,2,35,63,1,2}"
   ]
  },
  {
   "cell_type": "code",
   "execution_count": 265,
   "id": "51e6dd87",
   "metadata": {},
   "outputs": [
    {
     "data": {
      "text/plain": [
       "{1, 2, 35, 63}"
      ]
     },
     "execution_count": 265,
     "metadata": {},
     "output_type": "execute_result"
    }
   ],
   "source": [
    "a\n",
    "#only first instances of repeated value is considered"
   ]
  },
  {
   "cell_type": "code",
   "execution_count": 116,
   "id": "cc933424",
   "metadata": {},
   "outputs": [
    {
     "data": {
      "text/plain": [
       "4"
      ]
     },
     "execution_count": 116,
     "metadata": {},
     "output_type": "execute_result"
    }
   ],
   "source": [
    "len(a)"
   ]
  },
  {
   "cell_type": "markdown",
   "id": "9432190c",
   "metadata": {},
   "source": [
    "a[0] <br> \n",
    "gives error->TypeError: 'set' object is not subscriptable"
   ]
  },
  {
   "cell_type": "code",
   "execution_count": 117,
   "id": "5de85bfe",
   "metadata": {},
   "outputs": [
    {
     "name": "stdout",
     "output_type": "stream",
     "text": [
      "1\n",
      "2\n",
      "35\n",
      "63\n"
     ]
    }
   ],
   "source": [
    "# iterable though\n",
    "for i in a:\n",
    "    print(i)"
   ]
  },
  {
   "cell_type": "code",
   "execution_count": 266,
   "id": "326551d7",
   "metadata": {},
   "outputs": [
    {
     "name": "stdout",
     "output_type": "stream",
     "text": [
      "{1, 2, 35, 5, 63}\n"
     ]
    }
   ],
   "source": [
    "a.add(5)\n",
    "print(a)"
   ]
  },
  {
   "cell_type": "code",
   "execution_count": 119,
   "id": "1fd55db0",
   "metadata": {},
   "outputs": [
    {
     "name": "stdout",
     "output_type": "stream",
     "text": [
      "{1, 2, 35, 63}\n"
     ]
    }
   ],
   "source": [
    "a.remove(5)\n",
    "print(a)"
   ]
  },
  {
   "cell_type": "code",
   "execution_count": 120,
   "id": "485c8699",
   "metadata": {},
   "outputs": [
    {
     "data": {
      "text/plain": [
       "1"
      ]
     },
     "execution_count": 120,
     "metadata": {},
     "output_type": "execute_result"
    }
   ],
   "source": [
    "a.pop()\n",
    "#first element is poped\n",
    "#where as last element is poped in list ..... interesting"
   ]
  },
  {
   "cell_type": "code",
   "execution_count": 121,
   "id": "6806bfb0",
   "metadata": {},
   "outputs": [
    {
     "name": "stdout",
     "output_type": "stream",
     "text": [
      "set()\n"
     ]
    }
   ],
   "source": [
    "a.clear()\n",
    "print(a)\n",
    "# why.. why would you do any of that"
   ]
  },
  {
   "cell_type": "markdown",
   "id": "3b4c6bcd",
   "metadata": {},
   "source": [
    "### .clear() Goals:\n",
    "- Release Memory: If you have a large list that fills your memory—such as a huge data set or a large file read via readlines()—and you don’t need it anymore, you can immediately release the memory with list.clear(). Especially in interactive mode, Python doesn’t know which variable you still need – so it must keep all variables till session end. But if you call list.clear(), it can release the memory for other processing tasks.\n",
    "- Clear Multiple List Variables: Multiple variables may refer to the same list object. If you want to reflect that the list is now empty, you can either call list.clear() on one variable and all other variables will see it, or you must call var1 = [], var2 = [], ..., varn = [] for all variables. This can be a pain if you have many variables."
   ]
  },
  {
   "cell_type": "markdown",
   "id": "08668b00",
   "metadata": {},
   "source": [
    "#### Notes - \n",
    "sets are like lists but no duplicates and no indexing but iterable<br>\n",
    "sooo... like human putting things in a bag unoredered and no same things allowed\n",
    "maybe u can use to dyanamically store primary key values"
   ]
  },
  {
   "cell_type": "markdown",
   "id": "a291a9db",
   "metadata": {},
   "source": [
    "### Why sets -\n",
    "it makes sets highly useful to efficiently **remove duplicate values from a list or tuple** \n",
    "<br>to perform common math operations like **unions and intersections.**\n",
    "\n",
    "<br>Thus when asked to give common elements of to group of values , sets are the best"
   ]
  },
  {
   "cell_type": "code",
   "execution_count": 362,
   "id": "b8f21cf2",
   "metadata": {},
   "outputs": [],
   "source": [
    "a = [2,1,1,1,2,1,1,2,2,2,2,2,33,33,3,3,3]"
   ]
  },
  {
   "cell_type": "code",
   "execution_count": 363,
   "id": "f88a50c5",
   "metadata": {},
   "outputs": [
    {
     "name": "stdout",
     "output_type": "stream",
     "text": [
      "[1, 2, 3, 33]\n"
     ]
    }
   ],
   "source": [
    "a = list(set(a))\n",
    "print(a)"
   ]
  },
  {
   "cell_type": "code",
   "execution_count": 364,
   "id": "1cb022fc",
   "metadata": {},
   "outputs": [],
   "source": [
    "x = {1,2,3,4,5}\n",
    "y = {3,4,5,6,7}"
   ]
  },
  {
   "cell_type": "code",
   "execution_count": 268,
   "id": "0905ee0e",
   "metadata": {},
   "outputs": [
    {
     "data": {
      "text/plain": [
       "{1, 2, 3, 4, 5, 6, 7}"
      ]
     },
     "execution_count": 268,
     "metadata": {},
     "output_type": "execute_result"
    }
   ],
   "source": [
    "x.union(y)"
   ]
  },
  {
   "cell_type": "code",
   "execution_count": 269,
   "id": "0a07ab83",
   "metadata": {},
   "outputs": [
    {
     "data": {
      "text/plain": [
       "{3, 4, 5}"
      ]
     },
     "execution_count": 269,
     "metadata": {},
     "output_type": "execute_result"
    }
   ],
   "source": [
    "x.intersection(y)"
   ]
  },
  {
   "cell_type": "code",
   "execution_count": 270,
   "id": "542862a5",
   "metadata": {},
   "outputs": [
    {
     "data": {
      "text/plain": [
       "{1, 2}"
      ]
     },
     "execution_count": 270,
     "metadata": {},
     "output_type": "execute_result"
    }
   ],
   "source": [
    "x.difference(y)"
   ]
  },
  {
   "cell_type": "code",
   "execution_count": 271,
   "id": "cea8c901",
   "metadata": {},
   "outputs": [
    {
     "data": {
      "text/plain": [
       "{1, 2, 6, 7}"
      ]
     },
     "execution_count": 271,
     "metadata": {},
     "output_type": "execute_result"
    }
   ],
   "source": [
    "x.symmetric_difference(y)"
   ]
  },
  {
   "cell_type": "markdown",
   "id": "03e06410",
   "metadata": {},
   "source": [
    "Goodo example"
   ]
  },
  {
   "cell_type": "code",
   "execution_count": 345,
   "id": "65868b6d",
   "metadata": {},
   "outputs": [
    {
     "name": "stdout",
     "output_type": "stream",
     "text": [
      "Enter first string:bakaiii\n",
      "Enter second string:anikii\n",
      "The common letters are:\n",
      "i\n",
      "a\n",
      "k\n"
     ]
    }
   ],
   "source": [
    "s1=input(\"Enter first string:\")\n",
    "s2=input(\"Enter second string:\")\n",
    "a=list(set(s1)&set(s2))\n",
    "print(\"The common letters are:\")\n",
    "for i in a:\n",
    "    print(i)"
   ]
  },
  {
   "cell_type": "markdown",
   "id": "5234d631",
   "metadata": {},
   "source": [
    "## Bonus extra dataset - Frozensets\n",
    "Set but is unmutable\\immutable.... imune to mutablility"
   ]
  },
  {
   "cell_type": "code",
   "execution_count": 129,
   "id": "f229822a",
   "metadata": {},
   "outputs": [],
   "source": [
    "# Initialize a frozenset\n",
    "immutableSet = frozenset([1,2,3,4])"
   ]
  },
  {
   "cell_type": "code",
   "execution_count": 130,
   "id": "063a97aa",
   "metadata": {},
   "outputs": [
    {
     "data": {
      "text/plain": [
       "frozenset({1, 2, 3, 4})"
      ]
     },
     "execution_count": 130,
     "metadata": {},
     "output_type": "execute_result"
    }
   ],
   "source": [
    "immutableSet"
   ]
  },
  {
   "cell_type": "markdown",
   "id": "860263e6",
   "metadata": {},
   "source": [
    " now above set is unmutable and you can use it to intersection and other things with other sets"
   ]
  },
  {
   "cell_type": "markdown",
   "id": "e3c5900d",
   "metadata": {},
   "source": [
    "then there are user definrd data structures like Stack(first in last out),ques(first in first out),linked list(value and poitners), trees(pointer to left leaf ,value, pointerto right leaf),hash map (key value) ,etc"
   ]
  },
  {
   "cell_type": "markdown",
   "id": "a91ee912",
   "metadata": {},
   "source": [
    "-----------------------\n"
   ]
  },
  {
   "cell_type": "markdown",
   "id": "3b679c7b",
   "metadata": {},
   "source": [
    "# Some Python Interview coding"
   ]
  },
  {
   "cell_type": "code",
   "execution_count": 131,
   "id": "45c0888c",
   "metadata": {},
   "outputs": [
    {
     "data": {
      "text/plain": [
       "[1, 4, 5]"
      ]
     },
     "execution_count": 131,
     "metadata": {},
     "output_type": "execute_result"
    }
   ],
   "source": [
    "#Fast duplicate removing\n",
    "a = [1,4,4,5]\n",
    "a = list(set(a))\n",
    "a"
   ]
  },
  {
   "cell_type": "code",
   "execution_count": 132,
   "id": "c65b2d7b",
   "metadata": {},
   "outputs": [
    {
     "name": "stdout",
     "output_type": "stream",
     "text": [
      "           *\n",
      "          ***\n",
      "         *****\n",
      "        *******\n",
      "       *********\n",
      "      ***********\n",
      "     *************\n",
      "    ***************\n",
      "   *****************\n",
      "  *******************\n"
     ]
    }
   ],
   "source": [
    "#star tower printage\n",
    "for i in range(10):\n",
    "    print(\" \"*(10-i),\"*\"+i*2*\"*\")"
   ]
  },
  {
   "cell_type": "code",
   "execution_count": 343,
   "id": "8c1c78a2",
   "metadata": {},
   "outputs": [
    {
     "name": "stdout",
     "output_type": "stream",
     "text": [
      "Enter string:bankaiiii\n",
      "Number of vowels are:\n",
      "6\n"
     ]
    }
   ],
   "source": [
    "#counting vowels\n",
    "string=input(\"Enter string:\")\n",
    "vowels=0\n",
    "for i in string:\n",
    "    if(i in ['a' ,'e' ,'i' ,'o','u' ,'A' ,'E','I','O','U']):\n",
    "        vowels=vowels+1\n",
    "print(\"Number of vowels are:\")\n",
    "print(vowels)"
   ]
  },
  {
   "cell_type": "code",
   "execution_count": 133,
   "id": "336b5530",
   "metadata": {},
   "outputs": [
    {
     "name": "stdout",
     "output_type": "stream",
     "text": [
      "**\n"
     ]
    }
   ],
   "source": [
    "print(\"*\"*2)"
   ]
  },
  {
   "cell_type": "code",
   "execution_count": 134,
   "id": "068045b0",
   "metadata": {},
   "outputs": [
    {
     "data": {
      "text/plain": [
       "[5, 4, 1]"
      ]
     },
     "execution_count": 134,
     "metadata": {},
     "output_type": "execute_result"
    }
   ],
   "source": [
    "#reverse shortcut??\n",
    "a[::-1]\n",
    "#were defining step here as -1 so python does its intelligent thing and gives us this"
   ]
  },
  {
   "cell_type": "code",
   "execution_count": 366,
   "id": "83366637",
   "metadata": {},
   "outputs": [],
   "source": [
    "a=[1,2,3,4,5,6,7]"
   ]
  },
  {
   "cell_type": "code",
   "execution_count": 368,
   "id": "cd2c0141",
   "metadata": {},
   "outputs": [
    {
     "data": {
      "text/plain": [
       "[6, 7]"
      ]
     },
     "execution_count": 368,
     "metadata": {},
     "output_type": "execute_result"
    }
   ],
   "source": [
    "#getting last two elements\n",
    "a[-2:]"
   ]
  },
  {
   "cell_type": "code",
   "execution_count": 136,
   "id": "a7a3d5df",
   "metadata": {},
   "outputs": [
    {
     "name": "stdout",
     "output_type": "stream",
     "text": [
      "12\n",
      "[2, 4, 6, 8, 10]\n"
     ]
    }
   ],
   "source": [
    "# how lamda also known as anonymous function works\n",
    "\n",
    "a = lambda x, y: x * y\n",
    "print(a(4, 3))\n",
    "\n",
    "## used in mapping like- \n",
    "b = list(map(lambda n: n * 2, [1, 2, 3, 4, 5]))\n",
    "# map takes first argue as function to be applied on all elemnts of the second argument\n",
    "print(b)"
   ]
  },
  {
   "cell_type": "code",
   "execution_count": 149,
   "id": "2d64b62c",
   "metadata": {},
   "outputs": [
    {
     "name": "stdout",
     "output_type": "stream",
     "text": [
      "5\n"
     ]
    }
   ],
   "source": [
    "# Global and Local Scope\n",
    "p=2\n",
    "def add():\n",
    "    qr=3\n",
    "    r=p+qr\n",
    "    print(r)\n",
    "add()"
   ]
  },
  {
   "cell_type": "code",
   "execution_count": 150,
   "id": "1a732d35",
   "metadata": {},
   "outputs": [
    {
     "ename": "NameError",
     "evalue": "name 'qr' is not defined",
     "output_type": "error",
     "traceback": [
      "\u001b[1;31m---------------------------------------------------------------------------\u001b[0m",
      "\u001b[1;31mNameError\u001b[0m                                 Traceback (most recent call last)",
      "\u001b[1;32m<ipython-input-150-069b2ed1bd61>\u001b[0m in \u001b[0;36m<module>\u001b[1;34m\u001b[0m\n\u001b[1;32m----> 1\u001b[1;33m \u001b[0mqr\u001b[0m\u001b[1;33m\u001b[0m\u001b[1;33m\u001b[0m\u001b[0m\n\u001b[0m\u001b[0;32m      2\u001b[0m \u001b[1;31m#error cause q in local namespcae\u001b[0m\u001b[1;33m\u001b[0m\u001b[1;33m\u001b[0m\u001b[1;33m\u001b[0m\u001b[0m\n",
      "\u001b[1;31mNameError\u001b[0m: name 'qr' is not defined"
     ]
    }
   ],
   "source": [
    "qr\n",
    "#error cause q in local namespcae"
   ]
  },
  {
   "cell_type": "code",
   "execution_count": 285,
   "id": "0c620c52",
   "metadata": {},
   "outputs": [],
   "source": [
    "#__init__ constructor in classes\n",
    "\n",
    "class Bird:\n",
    "    @classmethod\n",
    "    def __init__(self,name,color,spd,wngspn):\n",
    "        self.name = name\n",
    "        self.color = color\n",
    "        self.spd = spd*0.27\n",
    "        self.wngspn = wngspn\n",
    "        \n",
    "    @staticmethod\n",
    "    def secondname(self,name):\n",
    "        self.full_name = self.name + \" \" + name.capitalize()"
   ]
  },
  {
   "cell_type": "code",
   "execution_count": 286,
   "id": "3c3c67e8",
   "metadata": {},
   "outputs": [],
   "source": [
    "beep = Bird(\"Parrot\",\"Green\",40,5)"
   ]
  },
  {
   "cell_type": "code",
   "execution_count": 289,
   "id": "82c4536e",
   "metadata": {},
   "outputs": [],
   "source": [
    "Bird.secondname(beep,\"great\")"
   ]
  },
  {
   "cell_type": "code",
   "execution_count": 290,
   "id": "9e789309",
   "metadata": {},
   "outputs": [
    {
     "data": {
      "text/plain": [
       "'Parrot Great'"
      ]
     },
     "execution_count": 290,
     "metadata": {},
     "output_type": "execute_result"
    }
   ],
   "source": [
    "beep.full_name"
   ]
  },
  {
   "cell_type": "code",
   "execution_count": 148,
   "id": "232bd612",
   "metadata": {},
   "outputs": [
    {
     "name": "stdout",
     "output_type": "stream",
     "text": [
      "Parrot with speed 10.8 m\\s speed\n"
     ]
    }
   ],
   "source": [
    "print(beep.name,\"with speed\",beep.spd,\"m\\s speed\")"
   ]
  },
  {
   "cell_type": "code",
   "execution_count": null,
   "id": "16449fc2",
   "metadata": {},
   "outputs": [],
   "source": [
    "#help(\"class\")"
   ]
  },
  {
   "cell_type": "code",
   "execution_count": 151,
   "id": "5612b2f9",
   "metadata": {},
   "outputs": [
    {
     "name": "stdout",
     "output_type": "stream",
     "text": [
      "Abcd\n",
      "abCD\n",
      "abcd\n"
     ]
    }
   ],
   "source": [
    "stg='abCD'\n",
    "print(stg.capitalize())\n",
    "print(stg)\n",
    "print(stg.lower())"
   ]
  },
  {
   "cell_type": "code",
   "execution_count": 291,
   "id": "56e01b65",
   "metadata": {},
   "outputs": [
    {
     "data": {
      "text/plain": [
       "{1: 'a', 22: 'b', 3: 'c', 4: 'd'}"
      ]
     },
     "execution_count": 291,
     "metadata": {},
     "output_type": "execute_result"
    }
   ],
   "source": [
    "AX = dict(zip([1,22,3,4],[\"a\",\"b\",\"c\",\"d\"]))\n",
    "AX"
   ]
  },
  {
   "cell_type": "code",
   "execution_count": 152,
   "id": "cb771a57",
   "metadata": {},
   "outputs": [
    {
     "data": {
      "text/plain": [
       "{'a': 1, 'b': 2, 'c': 3, 'd': 4, 'e': 5}"
      ]
     },
     "execution_count": 152,
     "metadata": {},
     "output_type": "execute_result"
    }
   ],
   "source": [
    "A0 = dict(zip(('a','b','c','d','e'),(1,2,3,4,5)))\n",
    "A1 = range(10)\n",
    "A0"
   ]
  },
  {
   "cell_type": "code",
   "execution_count": 153,
   "id": "3b5421c9",
   "metadata": {},
   "outputs": [
    {
     "data": {
      "text/plain": [
       "['a', 'b', 'c', 'd', 'e']"
      ]
     },
     "execution_count": 153,
     "metadata": {},
     "output_type": "execute_result"
    }
   ],
   "source": [
    "[s for s in A0]"
   ]
  },
  {
   "cell_type": "code",
   "execution_count": 154,
   "id": "c686933f",
   "metadata": {},
   "outputs": [
    {
     "data": {
      "text/plain": [
       "[1, 2, 3, 4, 5]"
      ]
     },
     "execution_count": 154,
     "metadata": {},
     "output_type": "execute_result"
    }
   ],
   "source": [
    "A3 = sorted([A0[s] for s in A0])\n",
    "A3"
   ]
  },
  {
   "cell_type": "code",
   "execution_count": 155,
   "id": "6952fefa",
   "metadata": {},
   "outputs": [
    {
     "name": "stdout",
     "output_type": "stream",
     "text": [
      "{0: 0, 1: 1, 2: 4, 3: 9, 4: 16, 5: 25, 6: 36, 7: 49, 8: 64, 9: 81} <class 'dict'>\n"
     ]
    }
   ],
   "source": [
    "A5 = {i:i*i for i in A1}\n",
    "print(A5,type(A5))"
   ]
  },
  {
   "cell_type": "code",
   "execution_count": 156,
   "id": "06b3a1c6",
   "metadata": {},
   "outputs": [
    {
     "data": {
      "text/plain": [
       "[[0, 0],\n",
       " [1, 1],\n",
       " [2, 4],\n",
       " [3, 9],\n",
       " [4, 16],\n",
       " [5, 25],\n",
       " [6, 36],\n",
       " [7, 49],\n",
       " [8, 64],\n",
       " [9, 81]]"
      ]
     },
     "execution_count": 156,
     "metadata": {},
     "output_type": "execute_result"
    }
   ],
   "source": [
    "A6 = [[i,i*i] for i in A1]\n",
    "A6"
   ]
  },
  {
   "cell_type": "code",
   "execution_count": 163,
   "id": "99109692",
   "metadata": {},
   "outputs": [
    {
     "name": "stdout",
     "output_type": "stream",
     "text": [
      "enter number9\n",
      "not prime\n"
     ]
    }
   ],
   "source": [
    "#prime number dtetction\n",
    "a=int(input(\"enter number\"))\n",
    "if a>2:\n",
    "    for x in range(2,a):\n",
    "        if(a%x)==0:\n",
    "            print(\"not prime\")\n",
    "            break\n",
    "        elif x == a-1:\n",
    "            print(\"Prime\")\n",
    "elif a==1:\n",
    "    print(\"not prime\")\n",
    "elif a==2:\n",
    "    print(\"Prime\")"
   ]
  },
  {
   "cell_type": "code",
   "execution_count": 165,
   "id": "b6c26c8d",
   "metadata": {},
   "outputs": [],
   "source": [
    "import numpy as np"
   ]
  },
  {
   "cell_type": "code",
   "execution_count": 292,
   "id": "71f48e0e",
   "metadata": {},
   "outputs": [
    {
     "name": "stdout",
     "output_type": "stream",
     "text": [
      "enter number10\n"
     ]
    },
    {
     "data": {
      "text/plain": [
       "[0, 1, 1, 2, 3, 5, 8, 13, 21, 34]"
      ]
     },
     "execution_count": 292,
     "metadata": {},
     "output_type": "execute_result"
    }
   ],
   "source": [
    "# fiboncaii series\n",
    "c = int(input(\"enter number\"))\n",
    "list1 = [0,1]\n",
    "for i in range(2,c):\n",
    "    sums = np.sum(list1[-2:])\n",
    "    list1.append(sums)\n",
    "\n",
    "list1"
   ]
  },
  {
   "cell_type": "code",
   "execution_count": 190,
   "id": "917a0304",
   "metadata": {},
   "outputs": [],
   "source": [
    "#yeild function\n",
    "def testgen(index):\n",
    "    weekdays = ['sun','mon','tue','wed','thu','fri','sat']\n",
    "    yield weekdays[index]\n",
    "    yield weekdays[index+1]\n",
    "    \n",
    "day = testgen(1)"
   ]
  },
  {
   "cell_type": "code",
   "execution_count": 192,
   "id": "0bfd4c62",
   "metadata": {},
   "outputs": [
    {
     "data": {
      "text/plain": [
       "<generator object testgen at 0x00000246D4A403C0>"
      ]
     },
     "execution_count": 192,
     "metadata": {},
     "output_type": "execute_result"
    }
   ],
   "source": [
    "day"
   ]
  },
  {
   "cell_type": "code",
   "execution_count": 188,
   "id": "12b14c21",
   "metadata": {},
   "outputs": [
    {
     "name": "stdout",
     "output_type": "stream",
     "text": [
      "mon tue\n"
     ]
    }
   ],
   "source": [
    "print (next(day), next(day))"
   ]
  },
  {
   "cell_type": "code",
   "execution_count": 194,
   "id": "68ede415",
   "metadata": {},
   "outputs": [
    {
     "data": {
      "text/plain": [
       "'sun-mon-tue-wed-thu-fri-sat'"
      ]
     },
     "execution_count": 194,
     "metadata": {},
     "output_type": "execute_result"
    }
   ],
   "source": [
    "weekdays = ['sun','mon','tue','wed','thu','fri','sat']\n",
    "listAsString = '-'.join(weekdays)\n",
    "listAsString"
   ]
  },
  {
   "cell_type": "code",
   "execution_count": 246,
   "id": "d6baead8",
   "metadata": {},
   "outputs": [
    {
     "name": "stdout",
     "output_type": "stream",
     "text": [
      "Enter number: 678\n",
      "dig- 8\n",
      "rev- 8\n",
      "n- 678\n",
      "n- 67\n",
      "dig- 7\n",
      "rev- 87\n",
      "n- 67\n",
      "n- 6\n",
      "dig- 6\n",
      "rev- 876\n",
      "n- 6\n",
      "n- 0\n",
      "The reverse of the number: 876\n"
     ]
    }
   ],
   "source": [
    "#Reverse the number - \n",
    "n=int(input(\"Enter number: \"))\n",
    "rev=0\n",
    "while(n>0):\n",
    "    dig=n%10\n",
    "    print(\"dig-\",dig)\n",
    "    rev=rev*10+dig\n",
    "    print(\"rev-\", rev)\n",
    "    print(\"n-\",n)\n",
    "    n=n//10\n",
    "    #n=n//10 is called floor division so this opreration just removes unit place digit from the number\n",
    "    print(\"n-\",n)\n",
    "print(\"The reverse of the number:\",rev)"
   ]
  },
  {
   "cell_type": "code",
   "execution_count": null,
   "id": "31b34da3",
   "metadata": {},
   "outputs": [],
   "source": []
  },
  {
   "cell_type": "markdown",
   "id": "d8c7c080",
   "metadata": {},
   "source": [
    "### args and kwargs\n",
    "- *args and ** kwargs are special keyword which allows function to take variable length argument.\n",
    "- *args passes variable number of non-keyworded arguments list and on which operation of the list can be performed.\n",
    "- ** kwargs passes variable number of keyword arguments dictionary to function on which operation of a dictionary can be performed."
   ]
  },
  {
   "cell_type": "markdown",
   "id": "5a271411",
   "metadata": {},
   "source": [
    "Using ** arg\n",
    "<br>In the function, we should use an asterisk * before the parameter name to pass variable length arguments.\n",
    "<br>The arguments are passed as a **tuple and these passed arguments make tuple inside the function with same name**\n",
    "<br>as the parameter excluding asterisk *"
   ]
  },
  {
   "cell_type": "code",
   "execution_count": 294,
   "id": "2c707945",
   "metadata": {},
   "outputs": [
    {
     "name": "stdout",
     "output_type": "stream",
     "text": [
      "<class 'tuple'> (3, 5)\n",
      "Sum: 8\n",
      "<class 'tuple'> (4, 5, 6, 7)\n",
      "Sum: 22\n",
      "<class 'tuple'> (1, 2, 3, 5, 6)\n",
      "Sum: 17\n"
     ]
    }
   ],
   "source": [
    "def adder(*num):\n",
    "    sum = 0\n",
    "    print(type(num),num)\n",
    "    for n in num:\n",
    "        sum = sum + n\n",
    "\n",
    "    print(\"Sum:\",sum)\n",
    "\n",
    "adder(3,5)\n",
    "adder(4,5,6,7)\n",
    "adder(1,2,3,5,6)"
   ]
  },
  {
   "cell_type": "markdown",
   "id": "8bbbf9b7",
   "metadata": {},
   "source": [
    "** kwargs<br>\n",
    "Python passes variable length non keyword argument to function using *args but we cannot use this to pass keyword argument. For this problem Python has got a solution called ** kwargs, it allows us to pass the variable length of keyword arguments to the function.\n",
    "<br>\n",
    "In the function, we use the double asterisk ** before the parameter name to denote this type of argument. The arguments are passed as a dictionary and these arguments make a dictionary inside function with name same as the parameter excluding double asterisk **."
   ]
  },
  {
   "cell_type": "code",
   "execution_count": 293,
   "id": "9cc3b3c0",
   "metadata": {},
   "outputs": [
    {
     "name": "stdout",
     "output_type": "stream",
     "text": [
      "\n",
      "Data type of argument: <class 'dict'>\n",
      "Firstname is Sita\n",
      "Lastname is Sharma\n",
      "Age is 22\n",
      "Phone is 1234567890\n",
      "\n",
      "Data type of argument: <class 'dict'>\n",
      "Firstname is John\n",
      "Lastname is Wood\n",
      "Email is johnwood@nomail.com\n",
      "Country is Wakanda\n",
      "Age is 25\n",
      "Phone is 11111222222\n"
     ]
    }
   ],
   "source": [
    "def intro(**data):\n",
    "    print(\"\\nData type of argument:\",type(data))\n",
    "\n",
    "    for key, value in data.items():\n",
    "        print(\"{} is {}\".format(key,value))\n",
    "\n",
    "intro(Firstname=\"Sita\", Lastname=\"Sharma\", Age=22, Phone=1234567890)\n",
    "intro(Firstname=\"John\", Lastname=\"Wood\", Email=\"johnwood@nomail.com\", Country=\"Wakanda\", Age=25, Phone=11111222222)"
   ]
  },
  {
   "cell_type": "code",
   "execution_count": 297,
   "id": "f97353e6",
   "metadata": {},
   "outputs": [
    {
     "data": {
      "text/plain": [
       "{'Firstname': 'Sita'}"
      ]
     },
     "execution_count": 297,
     "metadata": {},
     "output_type": "execute_result"
    }
   ],
   "source": [
    "dict1 = {}\n",
    "dict1[\"Firstname\"]=\"Sita\"\n",
    "dict1"
   ]
  },
  {
   "cell_type": "markdown",
   "id": "1ac5074a",
   "metadata": {},
   "source": [
    "To check if its armstrong number\n",
    "<br> armstong number are those whose sum of cube of individual digit is the number itself"
   ]
  },
  {
   "cell_type": "code",
   "execution_count": 336,
   "id": "7d090622",
   "metadata": {},
   "outputs": [
    {
     "name": "stdout",
     "output_type": "stream",
     "text": [
      "Enter any number: 371\n",
      "[3, 7, 1]\n",
      "[27, 343, 1]\n",
      "The number is an armstrong number. \n"
     ]
    }
   ],
   "source": [
    "n=int(input(\"Enter any number: \"))\n",
    "a=list(map(int,str(n)))\n",
    "print(a)\n",
    "b=list(map(lambda x:x**3,a))\n",
    "print(b)\n",
    "if(sum(b)==n):\n",
    "    print(\"The number is an armstrong number. \")\n",
    "else:\n",
    "    print(\"The number isn't an arsmtrong number. \")"
   ]
  },
  {
   "cell_type": "code",
   "execution_count": 339,
   "id": "eba867d7",
   "metadata": {},
   "outputs": [
    {
     "name": "stdout",
     "output_type": "stream",
     "text": [
      "7 64\n"
     ]
    }
   ],
   "source": [
    "print(4^3,4**3)"
   ]
  },
  {
   "cell_type": "code",
   "execution_count": 350,
   "id": "d1177f05",
   "metadata": {},
   "outputs": [
    {
     "name": "stdout",
     "output_type": "stream",
     "text": [
      "1\n",
      "4\n",
      "9\n",
      "16\n",
      "25\n",
      "36\n",
      "49\n",
      "64\n",
      "81\n",
      "100\n"
     ]
    }
   ],
   "source": [
    "#How yeild works\n",
    "# A Python program to generate squares from 1\n",
    "# to 100 using yield and therefore generator\n",
    "  \n",
    "# An infinite generator function that prints\n",
    "# next square number. It starts with 1\n",
    "def nextSquare():\n",
    "    i = 1\n",
    "  \n",
    "    # An Infinite loop to generate squares \n",
    "    while True:\n",
    "        yield i*i                \n",
    "        i += 1  # Next execution resumes \n",
    "                # from this point     \n",
    "  \n",
    "# Driver code to test above generator \n",
    "# function\n",
    "for num in nextSquare():\n",
    "    if num > 100:\n",
    "         break    \n",
    "    print(num)"
   ]
  },
  {
   "cell_type": "markdown",
   "id": "3445888c",
   "metadata": {},
   "source": [
    "### shallow and deep copy"
   ]
  },
  {
   "cell_type": "markdown",
   "id": "0b5fd247",
   "metadata": {},
   "source": [
    "#### Shallow Copy deep dive"
   ]
  },
  {
   "cell_type": "code",
   "execution_count": 213,
   "id": "3303aa40",
   "metadata": {},
   "outputs": [],
   "source": [
    "#shallow\n",
    "a = [1,2,3,4,5]\n",
    "b = a.copy()"
   ]
  },
  {
   "cell_type": "code",
   "execution_count": 214,
   "id": "2d5dcaf1",
   "metadata": {},
   "outputs": [
    {
     "data": {
      "text/plain": [
       "[1, 2, 3, 4, 5]"
      ]
     },
     "execution_count": 214,
     "metadata": {},
     "output_type": "execute_result"
    }
   ],
   "source": [
    "b"
   ]
  },
  {
   "cell_type": "code",
   "execution_count": 215,
   "id": "c7407c4b",
   "metadata": {},
   "outputs": [],
   "source": [
    "b[1]=33"
   ]
  },
  {
   "cell_type": "code",
   "execution_count": 216,
   "id": "0ba090a4",
   "metadata": {},
   "outputs": [],
   "source": [
    "a[0] = 11"
   ]
  },
  {
   "cell_type": "code",
   "execution_count": 217,
   "id": "e99f4d17",
   "metadata": {},
   "outputs": [
    {
     "data": {
      "text/plain": [
       "[1, 33, 3, 4, 5]"
      ]
     },
     "execution_count": 217,
     "metadata": {},
     "output_type": "execute_result"
    }
   ],
   "source": [
    "b"
   ]
  },
  {
   "cell_type": "code",
   "execution_count": 218,
   "id": "f18d9b87",
   "metadata": {},
   "outputs": [
    {
     "data": {
      "text/plain": [
       "[11, 2, 3, 4, 5]"
      ]
     },
     "execution_count": 218,
     "metadata": {},
     "output_type": "execute_result"
    }
   ],
   "source": [
    "a"
   ]
  },
  {
   "cell_type": "code",
   "execution_count": 347,
   "id": "495b54b8",
   "metadata": {},
   "outputs": [
    {
     "data": {
      "text/plain": [
       "['my', 'name', 'is']"
      ]
     },
     "execution_count": 347,
     "metadata": {},
     "output_type": "execute_result"
    }
   ],
   "source": [
    "s = [\"my\", \"name\", \"is\"]\n",
    "#d = [\"what\",\"is\",\"name\"]\n",
    "d= s.copy()\n",
    "d"
   ]
  },
  {
   "cell_type": "code",
   "execution_count": 349,
   "id": "0ff0fe41",
   "metadata": {},
   "outputs": [
    {
     "name": "stdout",
     "output_type": "stream",
     "text": [
      "['my', 'name', 'is']\n",
      "['nani', 'name', 'is']\n"
     ]
    }
   ],
   "source": [
    "d[0]=\"nani\"\n",
    "print(s)\n",
    "print(d)\n"
   ]
  },
  {
   "cell_type": "markdown",
   "id": "1b8cb9d1",
   "metadata": {},
   "source": [
    "So for normal list changes in either elements doesn't affect other\n",
    "<br>**NOW NOW**"
   ]
  },
  {
   "cell_type": "code",
   "execution_count": 219,
   "id": "0cd9e2f4",
   "metadata": {},
   "outputs": [],
   "source": [
    "x = [[1,2,3],[4,5,6]]\n",
    "y = x.copy()"
   ]
  },
  {
   "cell_type": "code",
   "execution_count": 220,
   "id": "458cfdd3",
   "metadata": {},
   "outputs": [
    {
     "data": {
      "text/plain": [
       "[[1, 2, 3], [4, 5, 6]]"
      ]
     },
     "execution_count": 220,
     "metadata": {},
     "output_type": "execute_result"
    }
   ],
   "source": [
    "y"
   ]
  },
  {
   "cell_type": "code",
   "execution_count": 221,
   "id": "2d29812c",
   "metadata": {},
   "outputs": [],
   "source": [
    "y[1][1]=33"
   ]
  },
  {
   "cell_type": "code",
   "execution_count": 222,
   "id": "56e1d883",
   "metadata": {},
   "outputs": [],
   "source": [
    "x[0][0] = 11"
   ]
  },
  {
   "cell_type": "code",
   "execution_count": 223,
   "id": "88fa3bbe",
   "metadata": {},
   "outputs": [
    {
     "data": {
      "text/plain": [
       "[[11, 2, 3], [4, 33, 6]]"
      ]
     },
     "execution_count": 223,
     "metadata": {},
     "output_type": "execute_result"
    }
   ],
   "source": [
    "x"
   ]
  },
  {
   "cell_type": "code",
   "execution_count": 224,
   "id": "e453ef18",
   "metadata": {},
   "outputs": [
    {
     "data": {
      "text/plain": [
       "[[11, 2, 3], [4, 33, 6]]"
      ]
     },
     "execution_count": 224,
     "metadata": {},
     "output_type": "execute_result"
    }
   ],
   "source": [
    "y"
   ]
  },
  {
   "cell_type": "markdown",
   "id": "79301031",
   "metadata": {},
   "source": [
    "Now changes in one directly changes other.... whaattttt"
   ]
  },
  {
   "cell_type": "code",
   "execution_count": 225,
   "id": "a6907dca",
   "metadata": {},
   "outputs": [],
   "source": [
    "y[0] = 13"
   ]
  },
  {
   "cell_type": "code",
   "execution_count": 226,
   "id": "a3abc622",
   "metadata": {},
   "outputs": [
    {
     "data": {
      "text/plain": [
       "[13, [4, 33, 6]]"
      ]
     },
     "execution_count": 226,
     "metadata": {},
     "output_type": "execute_result"
    }
   ],
   "source": [
    "y"
   ]
  },
  {
   "cell_type": "code",
   "execution_count": 227,
   "id": "d54992fa",
   "metadata": {},
   "outputs": [
    {
     "data": {
      "text/plain": [
       "[[11, 2, 3], [4, 33, 6]]"
      ]
     },
     "execution_count": 227,
     "metadata": {},
     "output_type": "execute_result"
    }
   ],
   "source": [
    "x"
   ]
  },
  {
   "cell_type": "markdown",
   "id": "228bf783",
   "metadata": {},
   "source": [
    "haha... now x doen't change...<br> why? reason is given belw"
   ]
  },
  {
   "cell_type": "code",
   "execution_count": 228,
   "id": "e0e42a26",
   "metadata": {},
   "outputs": [
    {
     "data": {
      "text/plain": [
       "int"
      ]
     },
     "execution_count": 228,
     "metadata": {},
     "output_type": "execute_result"
    }
   ],
   "source": [
    "type(a[0])"
   ]
  },
  {
   "cell_type": "code",
   "execution_count": 229,
   "id": "a362e862",
   "metadata": {},
   "outputs": [
    {
     "data": {
      "text/plain": [
       "list"
      ]
     },
     "execution_count": 229,
     "metadata": {},
     "output_type": "execute_result"
    }
   ],
   "source": [
    "type(x[0])"
   ]
  },
  {
   "cell_type": "markdown",
   "id": "9c780859",
   "metadata": {},
   "source": [
    "Shallow copy:\n",
    "- It copies the first layer of  the objects. It means changes made to a copy of object may reflect in the original object.\n",
    "\t- So by first layer ..it means if the original object contains another objects... which means original object stores reference to other object but not item itself\n",
    "\t- So when it gets copied the refrences also gets copied with base structure. thus any changes in copy object also changes for original\n",
    "\t- BUT if the original object contains ITEMS(numbers,letters) then this first layer\\item are copied... and now changing copied object doesn't affect orignal\n",
    "- It is implemented using “copy()” function.\n",
    "- It makes execution of a program faster compared to deep copy. cause deep completely copies structures and recursively fills data in new structures with values it finds **deep** in orginal "
   ]
  },
  {
   "cell_type": "code",
   "execution_count": 230,
   "id": "9165e3fc",
   "metadata": {},
   "outputs": [],
   "source": [
    "# Watch this"
   ]
  },
  {
   "cell_type": "code",
   "execution_count": 231,
   "id": "e6410be2",
   "metadata": {},
   "outputs": [],
   "source": [
    "x.append([3,4,5])"
   ]
  },
  {
   "cell_type": "code",
   "execution_count": 232,
   "id": "e8612782",
   "metadata": {},
   "outputs": [
    {
     "data": {
      "text/plain": [
       "[[11, 2, 3], [4, 33, 6], [3, 4, 5]]"
      ]
     },
     "execution_count": 232,
     "metadata": {},
     "output_type": "execute_result"
    }
   ],
   "source": [
    "x"
   ]
  },
  {
   "cell_type": "code",
   "execution_count": 233,
   "id": "407e09e4",
   "metadata": {},
   "outputs": [
    {
     "data": {
      "text/plain": [
       "[13, [4, 33, 6]]"
      ]
     },
     "execution_count": 233,
     "metadata": {},
     "output_type": "execute_result"
    }
   ],
   "source": [
    "y"
   ]
  },
  {
   "cell_type": "markdown",
   "id": "a121ae3e",
   "metadata": {},
   "source": [
    "Deep copy just copies completely evrything recursively\n",
    "- Everything is done on new Memory location"
   ]
  },
  {
   "cell_type": "code",
   "execution_count": 234,
   "id": "df128ef6",
   "metadata": {},
   "outputs": [],
   "source": [
    "import copy"
   ]
  },
  {
   "cell_type": "code",
   "execution_count": 235,
   "id": "80b5d813",
   "metadata": {},
   "outputs": [],
   "source": [
    "b = copy.deepcopy(a)"
   ]
  },
  {
   "cell_type": "code",
   "execution_count": 236,
   "id": "bd193cc7",
   "metadata": {},
   "outputs": [
    {
     "data": {
      "text/plain": [
       "[11, 2, 3, 4, 5]"
      ]
     },
     "execution_count": 236,
     "metadata": {},
     "output_type": "execute_result"
    }
   ],
   "source": [
    "a"
   ]
  },
  {
   "cell_type": "code",
   "execution_count": 237,
   "id": "03b68254",
   "metadata": {},
   "outputs": [],
   "source": [
    "b[3]=99"
   ]
  },
  {
   "cell_type": "code",
   "execution_count": 238,
   "id": "dcb1c4d2",
   "metadata": {},
   "outputs": [
    {
     "data": {
      "text/plain": [
       "[11, 2, 3, 4, 5]"
      ]
     },
     "execution_count": 238,
     "metadata": {},
     "output_type": "execute_result"
    }
   ],
   "source": [
    "a"
   ]
  },
  {
   "cell_type": "code",
   "execution_count": 239,
   "id": "4b8d17e9",
   "metadata": {},
   "outputs": [
    {
     "data": {
      "text/plain": [
       "[11, 2, 3, 99, 5]"
      ]
     },
     "execution_count": 239,
     "metadata": {},
     "output_type": "execute_result"
    }
   ],
   "source": [
    "b"
   ]
  },
  {
   "cell_type": "code",
   "execution_count": null,
   "id": "8c69573a",
   "metadata": {},
   "outputs": [],
   "source": []
  },
  {
   "cell_type": "code",
   "execution_count": 240,
   "id": "2503ff8a",
   "metadata": {},
   "outputs": [
    {
     "name": "stdout",
     "output_type": "stream",
     "text": [
      "['Alice', 'Bear', 'Charlton', 'Daman']\n",
      "['Alice', 'Bear', 'Charlton', 'Daman']\n",
      "['Amir', 'Bob', 'Charlton', 'Daman']\n"
     ]
    }
   ],
   "source": [
    "names1 = ['Amir', 'Bear', 'Charlton', 'Daman']\n",
    "names2 = names1\n",
    "names3 = names1[:]\n",
    "\n",
    "names2[0] = 'Alice'\n",
    "names3[1] = 'Bob'\n",
    "print(names1)\n",
    "print(names2)\n",
    "print(names3)"
   ]
  },
  {
   "cell_type": "code",
   "execution_count": null,
   "id": "b267c89a",
   "metadata": {},
   "outputs": [],
   "source": []
  },
  {
   "cell_type": "markdown",
   "id": "8aed2f19",
   "metadata": {},
   "source": [
    "## DataFrame by default does DEEP COPY"
   ]
  },
  {
   "cell_type": "markdown",
   "id": "4daa47a3",
   "metadata": {},
   "source": [
    "## Some datadrame manipulations"
   ]
  },
  {
   "cell_type": "markdown",
   "id": "4acba914",
   "metadata": {},
   "source": [
    "Solve in Python\n",
    "\n",
    "Question 1)6 columns : date, customerid, product_quantity, sales, region, transaction_id. Which customer id bought maximum products? Tablename is questions.\n",
    "\n",
    "Question 2)\n",
    "Get sales during Christmas period (21 dec 2020 - 27 dec 2020) by region.\n",
    "\n",
    "Question 3)\n",
    "Get count of transactions by region where customers had greater than 10000 $ sales and less than 10000 $ sales. (hint: create 2 columns for getting count of transaction ids - one where customers had greater than 10000 $ sales and another where customers had less than 10000 $ sales)"
   ]
  },
  {
   "cell_type": "code",
   "execution_count": 298,
   "id": "066934b3",
   "metadata": {},
   "outputs": [],
   "source": [
    "import pandas as pd\n",
    "import numpy as np\n",
    "import datetime"
   ]
  },
  {
   "cell_type": "code",
   "execution_count": 299,
   "id": "c9ff8b4d",
   "metadata": {},
   "outputs": [],
   "source": [
    "df = pd.read_excel(\"G:\\Github\\DS-assignments-python\\Python Basics\\questions.xlsx\")"
   ]
  },
  {
   "cell_type": "code",
   "execution_count": 300,
   "id": "b7b96980",
   "metadata": {},
   "outputs": [
    {
     "data": {
      "text/html": [
       "<div>\n",
       "<style scoped>\n",
       "    .dataframe tbody tr th:only-of-type {\n",
       "        vertical-align: middle;\n",
       "    }\n",
       "\n",
       "    .dataframe tbody tr th {\n",
       "        vertical-align: top;\n",
       "    }\n",
       "\n",
       "    .dataframe thead th {\n",
       "        text-align: right;\n",
       "    }\n",
       "</style>\n",
       "<table border=\"1\" class=\"dataframe\">\n",
       "  <thead>\n",
       "    <tr style=\"text-align: right;\">\n",
       "      <th></th>\n",
       "      <th>date</th>\n",
       "      <th>customerid</th>\n",
       "      <th>product_quantity</th>\n",
       "      <th>price_per_item</th>\n",
       "      <th>region</th>\n",
       "      <th>transaction_id</th>\n",
       "    </tr>\n",
       "  </thead>\n",
       "  <tbody>\n",
       "    <tr>\n",
       "      <th>0</th>\n",
       "      <td>2021-10-09</td>\n",
       "      <td>CC1</td>\n",
       "      <td>3</td>\n",
       "      <td>33</td>\n",
       "      <td>E</td>\n",
       "      <td>1</td>\n",
       "    </tr>\n",
       "    <tr>\n",
       "      <th>1</th>\n",
       "      <td>2021-10-09</td>\n",
       "      <td>CC1</td>\n",
       "      <td>4</td>\n",
       "      <td>22</td>\n",
       "      <td>A</td>\n",
       "      <td>2</td>\n",
       "    </tr>\n",
       "    <tr>\n",
       "      <th>2</th>\n",
       "      <td>2020-12-26</td>\n",
       "      <td>CC1</td>\n",
       "      <td>2</td>\n",
       "      <td>111</td>\n",
       "      <td>F</td>\n",
       "      <td>3</td>\n",
       "    </tr>\n",
       "    <tr>\n",
       "      <th>3</th>\n",
       "      <td>2020-12-27</td>\n",
       "      <td>CC2</td>\n",
       "      <td>1</td>\n",
       "      <td>22</td>\n",
       "      <td>G</td>\n",
       "      <td>4</td>\n",
       "    </tr>\n",
       "    <tr>\n",
       "      <th>4</th>\n",
       "      <td>2020-12-28</td>\n",
       "      <td>CC2</td>\n",
       "      <td>4</td>\n",
       "      <td>11000</td>\n",
       "      <td>G</td>\n",
       "      <td>5</td>\n",
       "    </tr>\n",
       "    <tr>\n",
       "      <th>5</th>\n",
       "      <td>2020-12-29</td>\n",
       "      <td>CC3</td>\n",
       "      <td>2</td>\n",
       "      <td>33</td>\n",
       "      <td>S</td>\n",
       "      <td>6</td>\n",
       "    </tr>\n",
       "    <tr>\n",
       "      <th>6</th>\n",
       "      <td>2020-12-30</td>\n",
       "      <td>CC3</td>\n",
       "      <td>1</td>\n",
       "      <td>22</td>\n",
       "      <td>S</td>\n",
       "      <td>7</td>\n",
       "    </tr>\n",
       "    <tr>\n",
       "      <th>7</th>\n",
       "      <td>2021-10-09</td>\n",
       "      <td>CC4</td>\n",
       "      <td>3</td>\n",
       "      <td>11000</td>\n",
       "      <td>E</td>\n",
       "      <td>8</td>\n",
       "    </tr>\n",
       "    <tr>\n",
       "      <th>8</th>\n",
       "      <td>2021-10-10</td>\n",
       "      <td>CC4</td>\n",
       "      <td>4</td>\n",
       "      <td>33</td>\n",
       "      <td>R</td>\n",
       "      <td>9</td>\n",
       "    </tr>\n",
       "  </tbody>\n",
       "</table>\n",
       "</div>"
      ],
      "text/plain": [
       "        date customerid  product_quantity  price_per_item region  \\\n",
       "0 2021-10-09        CC1                 3              33      E   \n",
       "1 2021-10-09        CC1                 4              22      A   \n",
       "2 2020-12-26        CC1                 2             111      F   \n",
       "3 2020-12-27        CC2                 1              22      G   \n",
       "4 2020-12-28        CC2                 4           11000      G   \n",
       "5 2020-12-29        CC3                 2              33      S   \n",
       "6 2020-12-30        CC3                 1              22      S   \n",
       "7 2021-10-09        CC4                 3           11000      E   \n",
       "8 2021-10-10        CC4                 4              33      R   \n",
       "\n",
       "   transaction_id  \n",
       "0               1  \n",
       "1               2  \n",
       "2               3  \n",
       "3               4  \n",
       "4               5  \n",
       "5               6  \n",
       "6               7  \n",
       "7               8  \n",
       "8               9  "
      ]
     },
     "execution_count": 300,
     "metadata": {},
     "output_type": "execute_result"
    }
   ],
   "source": [
    "df"
   ]
  },
  {
   "cell_type": "code",
   "execution_count": 301,
   "id": "a0a352dd",
   "metadata": {},
   "outputs": [
    {
     "data": {
      "text/plain": [
       "(9, 6)"
      ]
     },
     "execution_count": 301,
     "metadata": {},
     "output_type": "execute_result"
    }
   ],
   "source": [
    "df.shape"
   ]
  },
  {
   "cell_type": "code",
   "execution_count": 302,
   "id": "f8a2a3d4",
   "metadata": {},
   "outputs": [
    {
     "name": "stdout",
     "output_type": "stream",
     "text": [
      "<class 'pandas.core.frame.DataFrame'>\n",
      "RangeIndex: 9 entries, 0 to 8\n",
      "Data columns (total 6 columns):\n",
      " #   Column            Non-Null Count  Dtype         \n",
      "---  ------            --------------  -----         \n",
      " 0   date              9 non-null      datetime64[ns]\n",
      " 1   customerid        9 non-null      object        \n",
      " 2   product_quantity  9 non-null      int64         \n",
      " 3   price_per_item    9 non-null      int64         \n",
      " 4   region            9 non-null      object        \n",
      " 5   transaction_id    9 non-null      int64         \n",
      "dtypes: datetime64[ns](1), int64(3), object(2)\n",
      "memory usage: 560.0+ bytes\n"
     ]
    }
   ],
   "source": [
    "df.info()"
   ]
  },
  {
   "cell_type": "code",
   "execution_count": 306,
   "id": "c1d776ff",
   "metadata": {},
   "outputs": [
    {
     "data": {
      "text/plain": [
       "4"
      ]
     },
     "execution_count": 306,
     "metadata": {},
     "output_type": "execute_result"
    }
   ],
   "source": [
    "np.max([1,2,3,4])"
   ]
  },
  {
   "cell_type": "code",
   "execution_count": 307,
   "id": "a1771755",
   "metadata": {},
   "outputs": [
    {
     "data": {
      "text/plain": [
       "4"
      ]
     },
     "execution_count": 307,
     "metadata": {},
     "output_type": "execute_result"
    }
   ],
   "source": [
    "max([1,2,3,4])"
   ]
  },
  {
   "cell_type": "markdown",
   "id": "b1dadde8",
   "metadata": {},
   "source": [
    "#### customer's id who bought maximum products"
   ]
  },
  {
   "cell_type": "code",
   "execution_count": 329,
   "id": "69086463",
   "metadata": {},
   "outputs": [
    {
     "data": {
      "text/plain": [
       "1    CC1\n",
       "4    CC2\n",
       "8    CC4\n",
       "Name: customerid, dtype: object"
      ]
     },
     "execution_count": 329,
     "metadata": {},
     "output_type": "execute_result"
    }
   ],
   "source": [
    "\n",
    "df[df[\"product_quantity\"] == np.max(df[\"product_quantity\"])].loc[:,\"customerid\"]"
   ]
  },
  {
   "cell_type": "markdown",
   "id": "be39a71d",
   "metadata": {},
   "source": [
    "#### Sales during Christmas period (21 dec 2020 - 27 dec 2020) by region.\n",
    "\n",
    "**each table row shows one transaction that was done with product quantity sold**\n",
    "<br>**so its sum of all product qantity in the given time period**"
   ]
  },
  {
   "cell_type": "code",
   "execution_count": 309,
   "id": "7a51cb8e",
   "metadata": {},
   "outputs": [],
   "source": [
    "df['date'] = pd.to_datetime(df['date'], format='%Y-%m-%d')"
   ]
  },
  {
   "cell_type": "code",
   "execution_count": 310,
   "id": "2c8bef94",
   "metadata": {},
   "outputs": [],
   "source": [
    "df[\"Sales\"] = df[\"product_quantity\"]*df[\"price_per_item\"]"
   ]
  },
  {
   "cell_type": "code",
   "execution_count": 311,
   "id": "65c39f51",
   "metadata": {},
   "outputs": [
    {
     "data": {
      "text/html": [
       "<div>\n",
       "<style scoped>\n",
       "    .dataframe tbody tr th:only-of-type {\n",
       "        vertical-align: middle;\n",
       "    }\n",
       "\n",
       "    .dataframe tbody tr th {\n",
       "        vertical-align: top;\n",
       "    }\n",
       "\n",
       "    .dataframe thead th {\n",
       "        text-align: right;\n",
       "    }\n",
       "</style>\n",
       "<table border=\"1\" class=\"dataframe\">\n",
       "  <thead>\n",
       "    <tr style=\"text-align: right;\">\n",
       "      <th></th>\n",
       "      <th>date</th>\n",
       "      <th>customerid</th>\n",
       "      <th>product_quantity</th>\n",
       "      <th>price_per_item</th>\n",
       "      <th>region</th>\n",
       "      <th>transaction_id</th>\n",
       "      <th>Sales</th>\n",
       "    </tr>\n",
       "  </thead>\n",
       "  <tbody>\n",
       "    <tr>\n",
       "      <th>0</th>\n",
       "      <td>2021-10-09</td>\n",
       "      <td>CC1</td>\n",
       "      <td>3</td>\n",
       "      <td>33</td>\n",
       "      <td>E</td>\n",
       "      <td>1</td>\n",
       "      <td>99</td>\n",
       "    </tr>\n",
       "    <tr>\n",
       "      <th>1</th>\n",
       "      <td>2021-10-09</td>\n",
       "      <td>CC1</td>\n",
       "      <td>4</td>\n",
       "      <td>22</td>\n",
       "      <td>A</td>\n",
       "      <td>2</td>\n",
       "      <td>88</td>\n",
       "    </tr>\n",
       "    <tr>\n",
       "      <th>2</th>\n",
       "      <td>2020-12-26</td>\n",
       "      <td>CC1</td>\n",
       "      <td>2</td>\n",
       "      <td>111</td>\n",
       "      <td>F</td>\n",
       "      <td>3</td>\n",
       "      <td>222</td>\n",
       "    </tr>\n",
       "    <tr>\n",
       "      <th>3</th>\n",
       "      <td>2020-12-27</td>\n",
       "      <td>CC2</td>\n",
       "      <td>1</td>\n",
       "      <td>22</td>\n",
       "      <td>G</td>\n",
       "      <td>4</td>\n",
       "      <td>22</td>\n",
       "    </tr>\n",
       "    <tr>\n",
       "      <th>4</th>\n",
       "      <td>2020-12-28</td>\n",
       "      <td>CC2</td>\n",
       "      <td>4</td>\n",
       "      <td>11000</td>\n",
       "      <td>G</td>\n",
       "      <td>5</td>\n",
       "      <td>44000</td>\n",
       "    </tr>\n",
       "    <tr>\n",
       "      <th>5</th>\n",
       "      <td>2020-12-29</td>\n",
       "      <td>CC3</td>\n",
       "      <td>2</td>\n",
       "      <td>33</td>\n",
       "      <td>S</td>\n",
       "      <td>6</td>\n",
       "      <td>66</td>\n",
       "    </tr>\n",
       "    <tr>\n",
       "      <th>6</th>\n",
       "      <td>2020-12-30</td>\n",
       "      <td>CC3</td>\n",
       "      <td>1</td>\n",
       "      <td>22</td>\n",
       "      <td>S</td>\n",
       "      <td>7</td>\n",
       "      <td>22</td>\n",
       "    </tr>\n",
       "    <tr>\n",
       "      <th>7</th>\n",
       "      <td>2021-10-09</td>\n",
       "      <td>CC4</td>\n",
       "      <td>3</td>\n",
       "      <td>11000</td>\n",
       "      <td>E</td>\n",
       "      <td>8</td>\n",
       "      <td>33000</td>\n",
       "    </tr>\n",
       "    <tr>\n",
       "      <th>8</th>\n",
       "      <td>2021-10-10</td>\n",
       "      <td>CC4</td>\n",
       "      <td>4</td>\n",
       "      <td>33</td>\n",
       "      <td>R</td>\n",
       "      <td>9</td>\n",
       "      <td>132</td>\n",
       "    </tr>\n",
       "  </tbody>\n",
       "</table>\n",
       "</div>"
      ],
      "text/plain": [
       "        date customerid  product_quantity  price_per_item region  \\\n",
       "0 2021-10-09        CC1                 3              33      E   \n",
       "1 2021-10-09        CC1                 4              22      A   \n",
       "2 2020-12-26        CC1                 2             111      F   \n",
       "3 2020-12-27        CC2                 1              22      G   \n",
       "4 2020-12-28        CC2                 4           11000      G   \n",
       "5 2020-12-29        CC3                 2              33      S   \n",
       "6 2020-12-30        CC3                 1              22      S   \n",
       "7 2021-10-09        CC4                 3           11000      E   \n",
       "8 2021-10-10        CC4                 4              33      R   \n",
       "\n",
       "   transaction_id  Sales  \n",
       "0               1     99  \n",
       "1               2     88  \n",
       "2               3    222  \n",
       "3               4     22  \n",
       "4               5  44000  \n",
       "5               6     66  \n",
       "6               7     22  \n",
       "7               8  33000  \n",
       "8               9    132  "
      ]
     },
     "execution_count": 311,
     "metadata": {},
     "output_type": "execute_result"
    }
   ],
   "source": [
    "df"
   ]
  },
  {
   "cell_type": "code",
   "execution_count": 312,
   "id": "e016d65f",
   "metadata": {},
   "outputs": [],
   "source": [
    "#approch\n",
    "#filtered_df = df.loc[(df['date'] >= '2020-12-21') & (df['date'] <= '2020-12-27')]\n",
    "# Display the df for christmas eve and grouping by region to count the product id\n",
    "#filtered_df.groupby('region').sum()"
   ]
  },
  {
   "cell_type": "code",
   "execution_count": 313,
   "id": "d914db0b",
   "metadata": {},
   "outputs": [
    {
     "data": {
      "text/html": [
       "<div>\n",
       "<style scoped>\n",
       "    .dataframe tbody tr th:only-of-type {\n",
       "        vertical-align: middle;\n",
       "    }\n",
       "\n",
       "    .dataframe tbody tr th {\n",
       "        vertical-align: top;\n",
       "    }\n",
       "\n",
       "    .dataframe thead th {\n",
       "        text-align: right;\n",
       "    }\n",
       "</style>\n",
       "<table border=\"1\" class=\"dataframe\">\n",
       "  <thead>\n",
       "    <tr style=\"text-align: right;\">\n",
       "      <th></th>\n",
       "      <th>Sales</th>\n",
       "    </tr>\n",
       "    <tr>\n",
       "      <th>region</th>\n",
       "      <th></th>\n",
       "    </tr>\n",
       "  </thead>\n",
       "  <tbody>\n",
       "    <tr>\n",
       "      <th>F</th>\n",
       "      <td>222</td>\n",
       "    </tr>\n",
       "    <tr>\n",
       "      <th>G</th>\n",
       "      <td>22</td>\n",
       "    </tr>\n",
       "  </tbody>\n",
       "</table>\n",
       "</div>"
      ],
      "text/plain": [
       "        Sales\n",
       "region       \n",
       "F         222\n",
       "G          22"
      ]
     },
     "execution_count": 313,
     "metadata": {},
     "output_type": "execute_result"
    }
   ],
   "source": [
    "df.loc[(df['date'] >= '2020-12-21') & (df['date'] <= '2020-12-27')].loc[:,[\"region\",\"Sales\"]].groupby('region').sum()"
   ]
  },
  {
   "cell_type": "markdown",
   "id": "567c6abd",
   "metadata": {},
   "source": [
    "#### Get count of transactions by region where customers had greater than 10000  𝑠𝑎𝑙𝑒𝑠 𝑎𝑛𝑑 𝑙𝑒𝑠𝑠 𝑡ℎ𝑎𝑛 10000  sales. \n",
    "**(hint: create 2 columns for getting count of transaction ids - one where customers had greater than 10000<br> \n",
    "#𝑠𝑎𝑙𝑒𝑠 𝑎𝑛𝑑 𝑎𝑛𝑜𝑡ℎ𝑒𝑟 𝑤ℎ𝑒𝑟𝑒 𝑐𝑢𝑠𝑡𝑜𝑚𝑒𝑟𝑠 ℎ𝑎𝑑 𝑙𝑒𝑠𝑠 tℎ𝑎𝑛 10000  sales)**"
   ]
  },
  {
   "cell_type": "code",
   "execution_count": 314,
   "id": "38f42815",
   "metadata": {},
   "outputs": [],
   "source": [
    "df[\"below_10k_sales\"] = pd.Series(np.where(df[\"Sales\"]<10000,1,0))\n",
    "df[\"above_10k_sales\"] = pd.Series(np.where(df[\"Sales\"]>10000,1,0))"
   ]
  },
  {
   "cell_type": "code",
   "execution_count": 315,
   "id": "3ca4ade5",
   "metadata": {},
   "outputs": [
    {
     "data": {
      "text/html": [
       "<div>\n",
       "<style scoped>\n",
       "    .dataframe tbody tr th:only-of-type {\n",
       "        vertical-align: middle;\n",
       "    }\n",
       "\n",
       "    .dataframe tbody tr th {\n",
       "        vertical-align: top;\n",
       "    }\n",
       "\n",
       "    .dataframe thead th {\n",
       "        text-align: right;\n",
       "    }\n",
       "</style>\n",
       "<table border=\"1\" class=\"dataframe\">\n",
       "  <thead>\n",
       "    <tr style=\"text-align: right;\">\n",
       "      <th></th>\n",
       "      <th>date</th>\n",
       "      <th>customerid</th>\n",
       "      <th>product_quantity</th>\n",
       "      <th>price_per_item</th>\n",
       "      <th>region</th>\n",
       "      <th>transaction_id</th>\n",
       "      <th>Sales</th>\n",
       "      <th>below_10k_sales</th>\n",
       "      <th>above_10k_sales</th>\n",
       "    </tr>\n",
       "  </thead>\n",
       "  <tbody>\n",
       "    <tr>\n",
       "      <th>0</th>\n",
       "      <td>2021-10-09</td>\n",
       "      <td>CC1</td>\n",
       "      <td>3</td>\n",
       "      <td>33</td>\n",
       "      <td>E</td>\n",
       "      <td>1</td>\n",
       "      <td>99</td>\n",
       "      <td>1</td>\n",
       "      <td>0</td>\n",
       "    </tr>\n",
       "    <tr>\n",
       "      <th>1</th>\n",
       "      <td>2021-10-09</td>\n",
       "      <td>CC1</td>\n",
       "      <td>4</td>\n",
       "      <td>22</td>\n",
       "      <td>A</td>\n",
       "      <td>2</td>\n",
       "      <td>88</td>\n",
       "      <td>1</td>\n",
       "      <td>0</td>\n",
       "    </tr>\n",
       "    <tr>\n",
       "      <th>2</th>\n",
       "      <td>2020-12-26</td>\n",
       "      <td>CC1</td>\n",
       "      <td>2</td>\n",
       "      <td>111</td>\n",
       "      <td>F</td>\n",
       "      <td>3</td>\n",
       "      <td>222</td>\n",
       "      <td>1</td>\n",
       "      <td>0</td>\n",
       "    </tr>\n",
       "    <tr>\n",
       "      <th>3</th>\n",
       "      <td>2020-12-27</td>\n",
       "      <td>CC2</td>\n",
       "      <td>1</td>\n",
       "      <td>22</td>\n",
       "      <td>G</td>\n",
       "      <td>4</td>\n",
       "      <td>22</td>\n",
       "      <td>1</td>\n",
       "      <td>0</td>\n",
       "    </tr>\n",
       "    <tr>\n",
       "      <th>4</th>\n",
       "      <td>2020-12-28</td>\n",
       "      <td>CC2</td>\n",
       "      <td>4</td>\n",
       "      <td>11000</td>\n",
       "      <td>G</td>\n",
       "      <td>5</td>\n",
       "      <td>44000</td>\n",
       "      <td>0</td>\n",
       "      <td>1</td>\n",
       "    </tr>\n",
       "    <tr>\n",
       "      <th>5</th>\n",
       "      <td>2020-12-29</td>\n",
       "      <td>CC3</td>\n",
       "      <td>2</td>\n",
       "      <td>33</td>\n",
       "      <td>S</td>\n",
       "      <td>6</td>\n",
       "      <td>66</td>\n",
       "      <td>1</td>\n",
       "      <td>0</td>\n",
       "    </tr>\n",
       "    <tr>\n",
       "      <th>6</th>\n",
       "      <td>2020-12-30</td>\n",
       "      <td>CC3</td>\n",
       "      <td>1</td>\n",
       "      <td>22</td>\n",
       "      <td>S</td>\n",
       "      <td>7</td>\n",
       "      <td>22</td>\n",
       "      <td>1</td>\n",
       "      <td>0</td>\n",
       "    </tr>\n",
       "    <tr>\n",
       "      <th>7</th>\n",
       "      <td>2021-10-09</td>\n",
       "      <td>CC4</td>\n",
       "      <td>3</td>\n",
       "      <td>11000</td>\n",
       "      <td>E</td>\n",
       "      <td>8</td>\n",
       "      <td>33000</td>\n",
       "      <td>0</td>\n",
       "      <td>1</td>\n",
       "    </tr>\n",
       "    <tr>\n",
       "      <th>8</th>\n",
       "      <td>2021-10-10</td>\n",
       "      <td>CC4</td>\n",
       "      <td>4</td>\n",
       "      <td>33</td>\n",
       "      <td>R</td>\n",
       "      <td>9</td>\n",
       "      <td>132</td>\n",
       "      <td>1</td>\n",
       "      <td>0</td>\n",
       "    </tr>\n",
       "  </tbody>\n",
       "</table>\n",
       "</div>"
      ],
      "text/plain": [
       "        date customerid  product_quantity  price_per_item region  \\\n",
       "0 2021-10-09        CC1                 3              33      E   \n",
       "1 2021-10-09        CC1                 4              22      A   \n",
       "2 2020-12-26        CC1                 2             111      F   \n",
       "3 2020-12-27        CC2                 1              22      G   \n",
       "4 2020-12-28        CC2                 4           11000      G   \n",
       "5 2020-12-29        CC3                 2              33      S   \n",
       "6 2020-12-30        CC3                 1              22      S   \n",
       "7 2021-10-09        CC4                 3           11000      E   \n",
       "8 2021-10-10        CC4                 4              33      R   \n",
       "\n",
       "   transaction_id  Sales  below_10k_sales  above_10k_sales  \n",
       "0               1     99                1                0  \n",
       "1               2     88                1                0  \n",
       "2               3    222                1                0  \n",
       "3               4     22                1                0  \n",
       "4               5  44000                0                1  \n",
       "5               6     66                1                0  \n",
       "6               7     22                1                0  \n",
       "7               8  33000                0                1  \n",
       "8               9    132                1                0  "
      ]
     },
     "execution_count": 315,
     "metadata": {},
     "output_type": "execute_result"
    }
   ],
   "source": [
    "df"
   ]
  },
  {
   "cell_type": "code",
   "execution_count": 316,
   "id": "1f72def3",
   "metadata": {},
   "outputs": [],
   "source": [
    "#df[df[\"below_10k_sales\"]==1].groupby(\"region\").sum()"
   ]
  },
  {
   "cell_type": "code",
   "execution_count": 317,
   "id": "f73625b4",
   "metadata": {},
   "outputs": [
    {
     "data": {
      "text/html": [
       "<div>\n",
       "<style scoped>\n",
       "    .dataframe tbody tr th:only-of-type {\n",
       "        vertical-align: middle;\n",
       "    }\n",
       "\n",
       "    .dataframe tbody tr th {\n",
       "        vertical-align: top;\n",
       "    }\n",
       "\n",
       "    .dataframe thead th {\n",
       "        text-align: right;\n",
       "    }\n",
       "</style>\n",
       "<table border=\"1\" class=\"dataframe\">\n",
       "  <thead>\n",
       "    <tr style=\"text-align: right;\">\n",
       "      <th></th>\n",
       "      <th>below_10k_sales</th>\n",
       "    </tr>\n",
       "    <tr>\n",
       "      <th>region</th>\n",
       "      <th></th>\n",
       "    </tr>\n",
       "  </thead>\n",
       "  <tbody>\n",
       "    <tr>\n",
       "      <th>A</th>\n",
       "      <td>1</td>\n",
       "    </tr>\n",
       "    <tr>\n",
       "      <th>E</th>\n",
       "      <td>1</td>\n",
       "    </tr>\n",
       "    <tr>\n",
       "      <th>F</th>\n",
       "      <td>1</td>\n",
       "    </tr>\n",
       "    <tr>\n",
       "      <th>G</th>\n",
       "      <td>1</td>\n",
       "    </tr>\n",
       "    <tr>\n",
       "      <th>R</th>\n",
       "      <td>1</td>\n",
       "    </tr>\n",
       "    <tr>\n",
       "      <th>S</th>\n",
       "      <td>2</td>\n",
       "    </tr>\n",
       "  </tbody>\n",
       "</table>\n",
       "</div>"
      ],
      "text/plain": [
       "        below_10k_sales\n",
       "region                 \n",
       "A                     1\n",
       "E                     1\n",
       "F                     1\n",
       "G                     1\n",
       "R                     1\n",
       "S                     2"
      ]
     },
     "execution_count": 317,
     "metadata": {},
     "output_type": "execute_result"
    }
   ],
   "source": [
    "df[df[\"below_10k_sales\"]==1].loc[:,[\"region\",\"below_10k_sales\"]].groupby(\"region\").sum()"
   ]
  },
  {
   "cell_type": "code",
   "execution_count": 318,
   "id": "dee0f248",
   "metadata": {
    "scrolled": true
   },
   "outputs": [
    {
     "data": {
      "text/html": [
       "<div>\n",
       "<style scoped>\n",
       "    .dataframe tbody tr th:only-of-type {\n",
       "        vertical-align: middle;\n",
       "    }\n",
       "\n",
       "    .dataframe tbody tr th {\n",
       "        vertical-align: top;\n",
       "    }\n",
       "\n",
       "    .dataframe thead th {\n",
       "        text-align: right;\n",
       "    }\n",
       "</style>\n",
       "<table border=\"1\" class=\"dataframe\">\n",
       "  <thead>\n",
       "    <tr style=\"text-align: right;\">\n",
       "      <th></th>\n",
       "      <th>above_10k_sales</th>\n",
       "    </tr>\n",
       "    <tr>\n",
       "      <th>region</th>\n",
       "      <th></th>\n",
       "    </tr>\n",
       "  </thead>\n",
       "  <tbody>\n",
       "    <tr>\n",
       "      <th>E</th>\n",
       "      <td>1</td>\n",
       "    </tr>\n",
       "    <tr>\n",
       "      <th>G</th>\n",
       "      <td>1</td>\n",
       "    </tr>\n",
       "  </tbody>\n",
       "</table>\n",
       "</div>"
      ],
      "text/plain": [
       "        above_10k_sales\n",
       "region                 \n",
       "E                     1\n",
       "G                     1"
      ]
     },
     "execution_count": 318,
     "metadata": {},
     "output_type": "execute_result"
    }
   ],
   "source": [
    "df[df[\"above_10k_sales\"]==1].loc[:,[\"region\",\"above_10k_sales\"]].groupby(\"region\").sum()"
   ]
  },
  {
   "cell_type": "code",
   "execution_count": 319,
   "id": "fb5ff683",
   "metadata": {},
   "outputs": [],
   "source": [
    "#trying the map function\n",
    "z = pd.Series(map(lambda x,y,z:x*y+z,df[\"product_quantity\"],df[\"price_per_item\"],df[\"above_10k_sales\"]))"
   ]
  },
  {
   "cell_type": "code",
   "execution_count": 320,
   "id": "34b798fc",
   "metadata": {},
   "outputs": [
    {
     "name": "stdout",
     "output_type": "stream",
     "text": [
      "0       99\n",
      "1       88\n",
      "2      222\n",
      "3       22\n",
      "4    44001\n",
      "5       66\n",
      "6       22\n",
      "7    33001\n",
      "8      132\n",
      "dtype: int64\n"
     ]
    }
   ],
   "source": [
    "print(z)"
   ]
  },
  {
   "cell_type": "markdown",
   "id": "ae040ac5",
   "metadata": {},
   "source": [
    "### Freestyle datframe manipulation practice"
   ]
  },
  {
   "cell_type": "markdown",
   "id": "eabf6f71",
   "metadata": {},
   "source": [
    "#### concat?\n"
   ]
  },
  {
   "cell_type": "code",
   "execution_count": 321,
   "id": "ffe3c48b",
   "metadata": {},
   "outputs": [
    {
     "data": {
      "text/html": [
       "<div>\n",
       "<style scoped>\n",
       "    .dataframe tbody tr th:only-of-type {\n",
       "        vertical-align: middle;\n",
       "    }\n",
       "\n",
       "    .dataframe tbody tr th {\n",
       "        vertical-align: top;\n",
       "    }\n",
       "\n",
       "    .dataframe thead th {\n",
       "        text-align: right;\n",
       "    }\n",
       "</style>\n",
       "<table border=\"1\" class=\"dataframe\">\n",
       "  <thead>\n",
       "    <tr style=\"text-align: right;\">\n",
       "      <th></th>\n",
       "      <th>letter</th>\n",
       "      <th>number</th>\n",
       "    </tr>\n",
       "  </thead>\n",
       "  <tbody>\n",
       "    <tr>\n",
       "      <th>0</th>\n",
       "      <td>a</td>\n",
       "      <td>1</td>\n",
       "    </tr>\n",
       "    <tr>\n",
       "      <th>1</th>\n",
       "      <td>b</td>\n",
       "      <td>2</td>\n",
       "    </tr>\n",
       "  </tbody>\n",
       "</table>\n",
       "</div>"
      ],
      "text/plain": [
       "  letter  number\n",
       "0      a       1\n",
       "1      b       2"
      ]
     },
     "execution_count": 321,
     "metadata": {},
     "output_type": "execute_result"
    }
   ],
   "source": [
    "df1 = pd.DataFrame([['a', 1], ['b', 2]], columns=['letter', 'number'])\n",
    "df1"
   ]
  },
  {
   "cell_type": "code",
   "execution_count": 322,
   "id": "238c675b",
   "metadata": {},
   "outputs": [
    {
     "data": {
      "text/html": [
       "<div>\n",
       "<style scoped>\n",
       "    .dataframe tbody tr th:only-of-type {\n",
       "        vertical-align: middle;\n",
       "    }\n",
       "\n",
       "    .dataframe tbody tr th {\n",
       "        vertical-align: top;\n",
       "    }\n",
       "\n",
       "    .dataframe thead th {\n",
       "        text-align: right;\n",
       "    }\n",
       "</style>\n",
       "<table border=\"1\" class=\"dataframe\">\n",
       "  <thead>\n",
       "    <tr style=\"text-align: right;\">\n",
       "      <th></th>\n",
       "      <th>letter</th>\n",
       "      <th>number</th>\n",
       "    </tr>\n",
       "  </thead>\n",
       "  <tbody>\n",
       "    <tr>\n",
       "      <th>0</th>\n",
       "      <td>b</td>\n",
       "      <td>2</td>\n",
       "    </tr>\n",
       "    <tr>\n",
       "      <th>1</th>\n",
       "      <td>c</td>\n",
       "      <td>3</td>\n",
       "    </tr>\n",
       "    <tr>\n",
       "      <th>2</th>\n",
       "      <td>d</td>\n",
       "      <td>4</td>\n",
       "    </tr>\n",
       "  </tbody>\n",
       "</table>\n",
       "</div>"
      ],
      "text/plain": [
       "  letter  number\n",
       "0      b       2\n",
       "1      c       3\n",
       "2      d       4"
      ]
     },
     "execution_count": 322,
     "metadata": {},
     "output_type": "execute_result"
    }
   ],
   "source": [
    "df2 = pd.DataFrame([ ['b', 2],['c', 3], ['d', 4]],columns=['letter', 'number'])\n",
    "df2"
   ]
  },
  {
   "cell_type": "code",
   "execution_count": 323,
   "id": "20d4bb01",
   "metadata": {},
   "outputs": [
    {
     "data": {
      "text/html": [
       "<div>\n",
       "<style scoped>\n",
       "    .dataframe tbody tr th:only-of-type {\n",
       "        vertical-align: middle;\n",
       "    }\n",
       "\n",
       "    .dataframe tbody tr th {\n",
       "        vertical-align: top;\n",
       "    }\n",
       "\n",
       "    .dataframe thead th {\n",
       "        text-align: right;\n",
       "    }\n",
       "</style>\n",
       "<table border=\"1\" class=\"dataframe\">\n",
       "  <thead>\n",
       "    <tr style=\"text-align: right;\">\n",
       "      <th></th>\n",
       "      <th>letter</th>\n",
       "      <th>number</th>\n",
       "    </tr>\n",
       "  </thead>\n",
       "  <tbody>\n",
       "    <tr>\n",
       "      <th>0</th>\n",
       "      <td>a</td>\n",
       "      <td>1</td>\n",
       "    </tr>\n",
       "    <tr>\n",
       "      <th>1</th>\n",
       "      <td>b</td>\n",
       "      <td>2</td>\n",
       "    </tr>\n",
       "    <tr>\n",
       "      <th>0</th>\n",
       "      <td>b</td>\n",
       "      <td>2</td>\n",
       "    </tr>\n",
       "    <tr>\n",
       "      <th>1</th>\n",
       "      <td>c</td>\n",
       "      <td>3</td>\n",
       "    </tr>\n",
       "    <tr>\n",
       "      <th>2</th>\n",
       "      <td>d</td>\n",
       "      <td>4</td>\n",
       "    </tr>\n",
       "  </tbody>\n",
       "</table>\n",
       "</div>"
      ],
      "text/plain": [
       "  letter  number\n",
       "0      a       1\n",
       "1      b       2\n",
       "0      b       2\n",
       "1      c       3\n",
       "2      d       4"
      ]
     },
     "execution_count": 323,
     "metadata": {},
     "output_type": "execute_result"
    }
   ],
   "source": [
    "pd.concat([df1, df2])"
   ]
  },
  {
   "cell_type": "code",
   "execution_count": 324,
   "id": "8cb5af4b",
   "metadata": {},
   "outputs": [
    {
     "data": {
      "text/html": [
       "<div>\n",
       "<style scoped>\n",
       "    .dataframe tbody tr th:only-of-type {\n",
       "        vertical-align: middle;\n",
       "    }\n",
       "\n",
       "    .dataframe tbody tr th {\n",
       "        vertical-align: top;\n",
       "    }\n",
       "\n",
       "    .dataframe thead th {\n",
       "        text-align: right;\n",
       "    }\n",
       "</style>\n",
       "<table border=\"1\" class=\"dataframe\">\n",
       "  <thead>\n",
       "    <tr style=\"text-align: right;\">\n",
       "      <th></th>\n",
       "      <th>letter</th>\n",
       "      <th>number</th>\n",
       "      <th>letter</th>\n",
       "      <th>number</th>\n",
       "    </tr>\n",
       "  </thead>\n",
       "  <tbody>\n",
       "    <tr>\n",
       "      <th>0</th>\n",
       "      <td>a</td>\n",
       "      <td>1.0</td>\n",
       "      <td>b</td>\n",
       "      <td>2</td>\n",
       "    </tr>\n",
       "    <tr>\n",
       "      <th>1</th>\n",
       "      <td>b</td>\n",
       "      <td>2.0</td>\n",
       "      <td>c</td>\n",
       "      <td>3</td>\n",
       "    </tr>\n",
       "    <tr>\n",
       "      <th>2</th>\n",
       "      <td>NaN</td>\n",
       "      <td>NaN</td>\n",
       "      <td>d</td>\n",
       "      <td>4</td>\n",
       "    </tr>\n",
       "  </tbody>\n",
       "</table>\n",
       "</div>"
      ],
      "text/plain": [
       "  letter  number letter  number\n",
       "0      a     1.0      b       2\n",
       "1      b     2.0      c       3\n",
       "2    NaN     NaN      d       4"
      ]
     },
     "execution_count": 324,
     "metadata": {},
     "output_type": "execute_result"
    }
   ],
   "source": [
    "pd.concat([df1, df2],axis =1)"
   ]
  },
  {
   "cell_type": "code",
   "execution_count": 325,
   "id": "594c71d6",
   "metadata": {},
   "outputs": [
    {
     "data": {
      "text/html": [
       "<div>\n",
       "<style scoped>\n",
       "    .dataframe tbody tr th:only-of-type {\n",
       "        vertical-align: middle;\n",
       "    }\n",
       "\n",
       "    .dataframe tbody tr th {\n",
       "        vertical-align: top;\n",
       "    }\n",
       "\n",
       "    .dataframe thead th {\n",
       "        text-align: right;\n",
       "    }\n",
       "</style>\n",
       "<table border=\"1\" class=\"dataframe\">\n",
       "  <thead>\n",
       "    <tr style=\"text-align: right;\">\n",
       "      <th></th>\n",
       "      <th>letter</th>\n",
       "      <th>number</th>\n",
       "    </tr>\n",
       "  </thead>\n",
       "  <tbody>\n",
       "    <tr>\n",
       "      <th>0</th>\n",
       "      <td>a</td>\n",
       "      <td>1</td>\n",
       "    </tr>\n",
       "    <tr>\n",
       "      <th>1</th>\n",
       "      <td>b</td>\n",
       "      <td>2</td>\n",
       "    </tr>\n",
       "    <tr>\n",
       "      <th>2</th>\n",
       "      <td>b</td>\n",
       "      <td>2</td>\n",
       "    </tr>\n",
       "    <tr>\n",
       "      <th>3</th>\n",
       "      <td>c</td>\n",
       "      <td>3</td>\n",
       "    </tr>\n",
       "    <tr>\n",
       "      <th>4</th>\n",
       "      <td>d</td>\n",
       "      <td>4</td>\n",
       "    </tr>\n",
       "  </tbody>\n",
       "</table>\n",
       "</div>"
      ],
      "text/plain": [
       "  letter  number\n",
       "0      a       1\n",
       "1      b       2\n",
       "2      b       2\n",
       "3      c       3\n",
       "4      d       4"
      ]
     },
     "execution_count": 325,
     "metadata": {},
     "output_type": "execute_result"
    }
   ],
   "source": [
    "pd.concat([df1, df2],axis =0,join=\"outer\",ignore_index=True)"
   ]
  },
  {
   "cell_type": "code",
   "execution_count": 326,
   "id": "5fb28a3e",
   "metadata": {},
   "outputs": [
    {
     "data": {
      "text/html": [
       "<div>\n",
       "<style scoped>\n",
       "    .dataframe tbody tr th:only-of-type {\n",
       "        vertical-align: middle;\n",
       "    }\n",
       "\n",
       "    .dataframe tbody tr th {\n",
       "        vertical-align: top;\n",
       "    }\n",
       "\n",
       "    .dataframe thead th {\n",
       "        text-align: right;\n",
       "    }\n",
       "</style>\n",
       "<table border=\"1\" class=\"dataframe\">\n",
       "  <thead>\n",
       "    <tr style=\"text-align: right;\">\n",
       "      <th></th>\n",
       "      <th>letter</th>\n",
       "      <th>number</th>\n",
       "    </tr>\n",
       "  </thead>\n",
       "  <tbody>\n",
       "    <tr>\n",
       "      <th>0</th>\n",
       "      <td>a</td>\n",
       "      <td>1</td>\n",
       "    </tr>\n",
       "    <tr>\n",
       "      <th>1</th>\n",
       "      <td>b</td>\n",
       "      <td>2</td>\n",
       "    </tr>\n",
       "    <tr>\n",
       "      <th>2</th>\n",
       "      <td>b</td>\n",
       "      <td>2</td>\n",
       "    </tr>\n",
       "    <tr>\n",
       "      <th>3</th>\n",
       "      <td>c</td>\n",
       "      <td>3</td>\n",
       "    </tr>\n",
       "    <tr>\n",
       "      <th>4</th>\n",
       "      <td>d</td>\n",
       "      <td>4</td>\n",
       "    </tr>\n",
       "  </tbody>\n",
       "</table>\n",
       "</div>"
      ],
      "text/plain": [
       "  letter  number\n",
       "0      a       1\n",
       "1      b       2\n",
       "2      b       2\n",
       "3      c       3\n",
       "4      d       4"
      ]
     },
     "execution_count": 326,
     "metadata": {},
     "output_type": "execute_result"
    }
   ],
   "source": [
    "pd.concat([df1, df2],axis =0,join=\"inner\",ignore_index=True)"
   ]
  },
  {
   "cell_type": "code",
   "execution_count": 327,
   "id": "f34d1504",
   "metadata": {},
   "outputs": [
    {
     "data": {
      "text/html": [
       "<div>\n",
       "<style scoped>\n",
       "    .dataframe tbody tr th:only-of-type {\n",
       "        vertical-align: middle;\n",
       "    }\n",
       "\n",
       "    .dataframe tbody tr th {\n",
       "        vertical-align: top;\n",
       "    }\n",
       "\n",
       "    .dataframe thead th {\n",
       "        text-align: right;\n",
       "    }\n",
       "</style>\n",
       "<table border=\"1\" class=\"dataframe\">\n",
       "  <thead>\n",
       "    <tr style=\"text-align: right;\">\n",
       "      <th></th>\n",
       "      <th>letter</th>\n",
       "      <th>number_x</th>\n",
       "      <th>number_y</th>\n",
       "    </tr>\n",
       "  </thead>\n",
       "  <tbody>\n",
       "    <tr>\n",
       "      <th>0</th>\n",
       "      <td>b</td>\n",
       "      <td>2</td>\n",
       "      <td>2</td>\n",
       "    </tr>\n",
       "  </tbody>\n",
       "</table>\n",
       "</div>"
      ],
      "text/plain": [
       "  letter  number_x  number_y\n",
       "0      b         2         2"
      ]
     },
     "execution_count": 327,
     "metadata": {},
     "output_type": "execute_result"
    }
   ],
   "source": [
    "merged = pd.merge(df1, df2, how='inner',left_on='letter', right_on='letter')\n",
    "merged"
   ]
  },
  {
   "cell_type": "code",
   "execution_count": null,
   "id": "538eb0ca",
   "metadata": {},
   "outputs": [],
   "source": []
  },
  {
   "cell_type": "markdown",
   "id": "25ecf112",
   "metadata": {},
   "source": [
    "# Random Functions and Practice that can save your life(jk)"
   ]
  },
  {
   "cell_type": "code",
   "execution_count": 1,
   "id": "bd0aeae6",
   "metadata": {},
   "outputs": [],
   "source": [
    "a = [\"a\",\"b\",\"   b   \",\"c\"]"
   ]
  },
  {
   "cell_type": "code",
   "execution_count": 4,
   "id": "310d020c",
   "metadata": {},
   "outputs": [
    {
     "data": {
      "text/plain": [
       "'a b    b    c'"
      ]
     },
     "execution_count": 4,
     "metadata": {},
     "output_type": "execute_result"
    }
   ],
   "source": [
    "b = \" \".join(a)\n",
    "b"
   ]
  },
  {
   "cell_type": "code",
   "execution_count": 6,
   "id": "1f9453e3",
   "metadata": {},
   "outputs": [
    {
     "data": {
      "text/plain": [
       "['a', 'b', '', '', '', 'b', '', '', '', 'c']"
      ]
     },
     "execution_count": 6,
     "metadata": {},
     "output_type": "execute_result"
    }
   ],
   "source": [
    "c = b.split(\" \")\n",
    "c"
   ]
  },
  {
   "cell_type": "code",
   "execution_count": 9,
   "id": "73467f7f",
   "metadata": {},
   "outputs": [
    {
     "data": {
      "text/plain": [
       "['a', 'b', 'b', 'c']"
      ]
     },
     "execution_count": 9,
     "metadata": {},
     "output_type": "execute_result"
    }
   ],
   "source": [
    "# How remove spaces\n",
    "x = [y.strip() for y in a ]\n",
    "x"
   ]
  },
  {
   "cell_type": "code",
   "execution_count": 10,
   "id": "88f3ae63",
   "metadata": {},
   "outputs": [],
   "source": [
    "z = \"  ....grt....,,,bangrtana....rrrrtttttt....\""
   ]
  },
  {
   "cell_type": "code",
   "execution_count": 12,
   "id": "113aed43",
   "metadata": {},
   "outputs": [
    {
     "data": {
      "text/plain": [
       "'bangrtana'"
      ]
     },
     "execution_count": 12,
     "metadata": {},
     "output_type": "execute_result"
    }
   ],
   "source": [
    "z.strip(\" .,grt\")"
   ]
  }
 ],
 "metadata": {
  "kernelspec": {
   "display_name": "Python 3",
   "language": "python",
   "name": "python3"
  },
  "language_info": {
   "codemirror_mode": {
    "name": "ipython",
    "version": 3
   },
   "file_extension": ".py",
   "mimetype": "text/x-python",
   "name": "python",
   "nbconvert_exporter": "python",
   "pygments_lexer": "ipython3",
   "version": "3.8.8"
  }
 },
 "nbformat": 4,
 "nbformat_minor": 5
}
