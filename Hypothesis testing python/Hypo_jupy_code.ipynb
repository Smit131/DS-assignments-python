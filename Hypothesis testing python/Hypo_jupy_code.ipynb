{
 "cells": [
  {
   "cell_type": "markdown",
   "id": "9805d3e3",
   "metadata": {},
   "source": [
    "## Hypothesis Testing"
   ]
  },
  {
   "cell_type": "markdown",
   "id": "05e20889",
   "metadata": {},
   "source": [
    "**Problem statement ->**\n",
    "<br>A F&B manager wants to determine whether there is any significant difference in the diameter of the cutlet between two units.\n",
    " A randomly selected sample of cutlets was collected from both units and measured? Analyze the data and draw inferences at\n",
    " 5% significance level. Please state the assumptions and tests that you carried out to check validity of the assumptions."
   ]
  },
  {
   "cell_type": "markdown",
   "id": "19ab88c7",
   "metadata": {},
   "source": [
    "So to determine whther the two distribution are significantly different"
   ]
  },
  {
   "cell_type": "code",
   "execution_count": 8,
   "id": "18510f1f",
   "metadata": {},
   "outputs": [],
   "source": [
    "import pandas as pd\n",
    "import numpy as np\n",
    "from scipy import stats"
   ]
  },
  {
   "cell_type": "code",
   "execution_count": 5,
   "id": "583e5dd2",
   "metadata": {},
   "outputs": [],
   "source": [
    "df = pd.read_csv(\"G:\\Github\\DS-assignments-python\\Hypothesis testing python\\Cutlets.csv\")\n"
   ]
  },
  {
   "cell_type": "code",
   "execution_count": 6,
   "id": "078ef0dd",
   "metadata": {},
   "outputs": [
    {
     "data": {
      "text/html": [
       "<div>\n",
       "<style scoped>\n",
       "    .dataframe tbody tr th:only-of-type {\n",
       "        vertical-align: middle;\n",
       "    }\n",
       "\n",
       "    .dataframe tbody tr th {\n",
       "        vertical-align: top;\n",
       "    }\n",
       "\n",
       "    .dataframe thead th {\n",
       "        text-align: right;\n",
       "    }\n",
       "</style>\n",
       "<table border=\"1\" class=\"dataframe\">\n",
       "  <thead>\n",
       "    <tr style=\"text-align: right;\">\n",
       "      <th></th>\n",
       "      <th>Unit A</th>\n",
       "      <th>Unit B</th>\n",
       "    </tr>\n",
       "  </thead>\n",
       "  <tbody>\n",
       "    <tr>\n",
       "      <th>count</th>\n",
       "      <td>35.000000</td>\n",
       "      <td>35.000000</td>\n",
       "    </tr>\n",
       "    <tr>\n",
       "      <th>mean</th>\n",
       "      <td>7.019091</td>\n",
       "      <td>6.964297</td>\n",
       "    </tr>\n",
       "    <tr>\n",
       "      <th>std</th>\n",
       "      <td>0.288408</td>\n",
       "      <td>0.343401</td>\n",
       "    </tr>\n",
       "    <tr>\n",
       "      <th>min</th>\n",
       "      <td>6.437600</td>\n",
       "      <td>6.038000</td>\n",
       "    </tr>\n",
       "    <tr>\n",
       "      <th>25%</th>\n",
       "      <td>6.831500</td>\n",
       "      <td>6.753600</td>\n",
       "    </tr>\n",
       "    <tr>\n",
       "      <th>50%</th>\n",
       "      <td>6.943800</td>\n",
       "      <td>6.939900</td>\n",
       "    </tr>\n",
       "    <tr>\n",
       "      <th>75%</th>\n",
       "      <td>7.280550</td>\n",
       "      <td>7.195000</td>\n",
       "    </tr>\n",
       "    <tr>\n",
       "      <th>max</th>\n",
       "      <td>7.516900</td>\n",
       "      <td>7.545900</td>\n",
       "    </tr>\n",
       "  </tbody>\n",
       "</table>\n",
       "</div>"
      ],
      "text/plain": [
       "          Unit A     Unit B\n",
       "count  35.000000  35.000000\n",
       "mean    7.019091   6.964297\n",
       "std     0.288408   0.343401\n",
       "min     6.437600   6.038000\n",
       "25%     6.831500   6.753600\n",
       "50%     6.943800   6.939900\n",
       "75%     7.280550   7.195000\n",
       "max     7.516900   7.545900"
      ]
     },
     "execution_count": 6,
     "metadata": {},
     "output_type": "execute_result"
    }
   ],
   "source": [
    "df.describe()"
   ]
  },
  {
   "cell_type": "markdown",
   "id": "66be4af0",
   "metadata": {},
   "source": [
    "First always check if the two ditributions are normal or not ...<br> external conditions are same... "
   ]
  },
  {
   "cell_type": "code",
   "execution_count": 9,
   "id": "65c0bce1",
   "metadata": {},
   "outputs": [
    {
     "data": {
      "text/plain": [
       "ShapiroResult(statistic=0.9649458527565002, pvalue=0.3199819028377533)"
      ]
     },
     "execution_count": 9,
     "metadata": {},
     "output_type": "execute_result"
    }
   ],
   "source": [
    "stats.shapiro(df[\"Unit A\"])"
   ]
  },
  {
   "cell_type": "code",
   "execution_count": 10,
   "id": "4fa06dcf",
   "metadata": {},
   "outputs": [
    {
     "data": {
      "text/plain": [
       "ShapiroResult(statistic=0.9649458527565002, pvalue=0.3199819028377533)"
      ]
     },
     "execution_count": 10,
     "metadata": {},
     "output_type": "execute_result"
    }
   ],
   "source": [
    "stats.shapiro(df[\"Unit A\"])"
   ]
  },
  {
   "cell_type": "markdown",
   "id": "e7f8cf47",
   "metadata": {},
   "source": [
    "both have pvalue >0.05.. thus not significant.. <br>specifiying that null hypothesis of data being normal cannot be rejected\n",
    "<br> **thus the distributions are normal**"
   ]
  },
  {
   "cell_type": "markdown",
   "id": "50468716",
   "metadata": {},
   "source": [
    "Now the question is - were the external conditions same....<br>yes they were <br> **So we go for paired T test**"
   ]
  },
  {
   "cell_type": "code",
   "execution_count": 11,
   "id": "db0d6821",
   "metadata": {},
   "outputs": [
    {
     "data": {
      "text/plain": [
       "Ttest_relResult(statistic=0.7536787225614314, pvalue=0.4562300768038412)"
      ]
     },
     "execution_count": 11,
     "metadata": {},
     "output_type": "execute_result"
    }
   ],
   "source": [
    "stats.ttest_rel(df[\"Unit A\"],df[\"Unit B\"])"
   ]
  },
  {
   "cell_type": "markdown",
   "id": "14147a5f",
   "metadata": {},
   "source": [
    "Pvalue is greater than 0.05 (as 95% confi interval..for 99% ..pvalue greater than 0.01 would be consider)\n",
    "<br>.. thus saying insignificant and failed to reject null hypothesis\n",
    "<br> **the Distribution statstically not so different OR failed to reject the thesis that they are different** "
   ]
  },
  {
   "cell_type": "markdown",
   "id": "8e8a6e8c",
   "metadata": {},
   "source": [
    "-------------------------------------------"
   ]
  },
  {
   "cell_type": "markdown",
   "id": "840d7b86",
   "metadata": {},
   "source": [
    "### Data is discrete"
   ]
  },
  {
   "cell_type": "markdown",
   "id": "19f23248",
   "metadata": {},
   "source": [
    "Fantaloons Sales managers commented that % of males versus females walking in to the store differ based on day of the week.<br>\n",
    " Analyze the data and determine whether there is evidence at 5 % significance level to support this hypothesis.\n"
   ]
  },
  {
   "cell_type": "code",
   "execution_count": 12,
   "id": "2840ccb5",
   "metadata": {},
   "outputs": [
    {
     "name": "stdout",
     "output_type": "stream",
     "text": [
      "       Weekdays Weekend\n",
      "count       400     400\n",
      "unique        2       2\n",
      "top      Female  Female\n",
      "freq        287     233\n"
     ]
    }
   ],
   "source": [
    "# here both data is discrete\n",
    "\n",
    "df2 = pd.read_csv(\"G:\\Github\\DS-assignments-python\\Hypothesis testing python\\Faltoons.csv\")\n",
    "\n",
    "print(df2.describe())"
   ]
  },
  {
   "cell_type": "code",
   "execution_count": 14,
   "id": "8fdd5b36",
   "metadata": {},
   "outputs": [
    {
     "data": {
      "text/html": [
       "<div>\n",
       "<style scoped>\n",
       "    .dataframe tbody tr th:only-of-type {\n",
       "        vertical-align: middle;\n",
       "    }\n",
       "\n",
       "    .dataframe tbody tr th {\n",
       "        vertical-align: top;\n",
       "    }\n",
       "\n",
       "    .dataframe thead th {\n",
       "        text-align: right;\n",
       "    }\n",
       "</style>\n",
       "<table border=\"1\" class=\"dataframe\">\n",
       "  <thead>\n",
       "    <tr style=\"text-align: right;\">\n",
       "      <th></th>\n",
       "      <th>Weekdays</th>\n",
       "      <th>Weekend</th>\n",
       "    </tr>\n",
       "  </thead>\n",
       "  <tbody>\n",
       "    <tr>\n",
       "      <th>0</th>\n",
       "      <td>Male</td>\n",
       "      <td>Female</td>\n",
       "    </tr>\n",
       "    <tr>\n",
       "      <th>1</th>\n",
       "      <td>Female</td>\n",
       "      <td>Male</td>\n",
       "    </tr>\n",
       "    <tr>\n",
       "      <th>2</th>\n",
       "      <td>Female</td>\n",
       "      <td>Male</td>\n",
       "    </tr>\n",
       "    <tr>\n",
       "      <th>3</th>\n",
       "      <td>Male</td>\n",
       "      <td>Female</td>\n",
       "    </tr>\n",
       "    <tr>\n",
       "      <th>4</th>\n",
       "      <td>Female</td>\n",
       "      <td>Female</td>\n",
       "    </tr>\n",
       "  </tbody>\n",
       "</table>\n",
       "</div>"
      ],
      "text/plain": [
       "  Weekdays Weekend\n",
       "0     Male  Female\n",
       "1   Female    Male\n",
       "2   Female    Male\n",
       "3     Male  Female\n",
       "4   Female  Female"
      ]
     },
     "execution_count": 14,
     "metadata": {},
     "output_type": "execute_result"
    }
   ],
   "source": [
    "df2.head(5)"
   ]
  },
  {
   "cell_type": "code",
   "execution_count": 15,
   "id": "3f3cf091",
   "metadata": {},
   "outputs": [
    {
     "data": {
      "text/plain": [
       "Female    287\n",
       "Male      113\n",
       "Name: Weekdays, dtype: int64"
      ]
     },
     "execution_count": 15,
     "metadata": {},
     "output_type": "execute_result"
    }
   ],
   "source": [
    "df2[\"Weekdays\"].value_counts()"
   ]
  },
  {
   "cell_type": "code",
   "execution_count": 16,
   "id": "03a8327c",
   "metadata": {},
   "outputs": [
    {
     "data": {
      "text/plain": [
       "Female    233\n",
       "Male      167\n",
       "Name: Weekend, dtype: int64"
      ]
     },
     "execution_count": 16,
     "metadata": {},
     "output_type": "execute_result"
    }
   ],
   "source": [
    "df2[\"Weekend\"].value_counts()"
   ]
  },
  {
   "cell_type": "markdown",
   "id": "38bb4c26",
   "metadata": {},
   "source": [
    "H0 being the praportion are same \n",
    "<br>Ha is praportion are different ...thus Weekend\\Weekdays attract more male\\female \n",
    "<br>So we have to Perform 2 praportion test"
   ]
  },
  {
   "cell_type": "code",
   "execution_count": 17,
   "id": "5c16e9cb",
   "metadata": {},
   "outputs": [
    {
     "data": {
      "text/plain": [
       "400"
      ]
     },
     "execution_count": 17,
     "metadata": {},
     "output_type": "execute_result"
    }
   ],
   "source": [
    "len(df2)"
   ]
  },
  {
   "cell_type": "code",
   "execution_count": 19,
   "id": "da77b58f",
   "metadata": {},
   "outputs": [],
   "source": [
    "female_weekdays,Total_visit_weekdays = (287,400)\n",
    "female_weekends,Total_visit_weekends = (233,400)"
   ]
  },
  {
   "cell_type": "code",
   "execution_count": 22,
   "id": "1d0503c5",
   "metadata": {},
   "outputs": [],
   "source": [
    "female_numbers = np.array([female_weekdays,female_weekends])\n",
    "total_visits = np.array([Total_visit_weekdays,Total_visit_weekends])"
   ]
  },
  {
   "cell_type": "code",
   "execution_count": 24,
   "id": "ea91b19a",
   "metadata": {},
   "outputs": [],
   "source": [
    "from statsmodels.stats.proportion import proportions_ztest"
   ]
  },
  {
   "cell_type": "code",
   "execution_count": 28,
   "id": "a197b637",
   "metadata": {},
   "outputs": [
    {
     "data": {
      "text/plain": [
       "6.26114287794602e-05"
      ]
     },
     "execution_count": 28,
     "metadata": {},
     "output_type": "execute_result"
    }
   ],
   "source": [
    "stat, p_value = proportions_ztest(count=female_numbers, nobs=total_visits,  alternative='two-sided')\n",
    "p_value"
   ]
  },
  {
   "cell_type": "markdown",
   "id": "ca060289",
   "metadata": {},
   "source": [
    "p value lower than 0.05 thus we failed to reject null hypothesis\n",
    "<br>meaning - on weekdays and weekend the praportion are not significantly different enough tos say that the weekend\\weekdays affects females checking the shop"
   ]
  },
  {
   "cell_type": "markdown",
   "id": "aac04404",
   "metadata": {},
   "source": [
    "---------------------------------------------------------------------------------------------\n"
   ]
  },
  {
   "cell_type": "markdown",
   "id": "69416cc2",
   "metadata": {},
   "source": [
    "## data is continuous"
   ]
  },
  {
   "cell_type": "markdown",
   "id": "44e38e91",
   "metadata": {},
   "source": [
    "Comapny wants to check whether the quality of supply given by suppliers A,B and C are different or same"
   ]
  },
  {
   "cell_type": "markdown",
   "id": "0138790e",
   "metadata": {},
   "source": [
    "Ho -> Quality is same <br>\n",
    "Ha -> Quality is statiscally different.. and somethings needs to be done about this "
   ]
  },
  {
   "cell_type": "code",
   "execution_count": 29,
   "id": "a781969d",
   "metadata": {},
   "outputs": [],
   "source": [
    "cof=pd.read_csv(\"G:\\Github\\DS-assignments-python\\Hypothesis testing python\\ContractRenewal_Data(unstacked).csv\")"
   ]
  },
  {
   "cell_type": "code",
   "execution_count": 30,
   "id": "3fb83148",
   "metadata": {},
   "outputs": [
    {
     "data": {
      "text/html": [
       "<div>\n",
       "<style scoped>\n",
       "    .dataframe tbody tr th:only-of-type {\n",
       "        vertical-align: middle;\n",
       "    }\n",
       "\n",
       "    .dataframe tbody tr th {\n",
       "        vertical-align: top;\n",
       "    }\n",
       "\n",
       "    .dataframe thead th {\n",
       "        text-align: right;\n",
       "    }\n",
       "</style>\n",
       "<table border=\"1\" class=\"dataframe\">\n",
       "  <thead>\n",
       "    <tr style=\"text-align: right;\">\n",
       "      <th></th>\n",
       "      <th>Supplier A</th>\n",
       "      <th>Supplier B</th>\n",
       "      <th>Supplier C</th>\n",
       "    </tr>\n",
       "  </thead>\n",
       "  <tbody>\n",
       "    <tr>\n",
       "      <th>0</th>\n",
       "      <td>6.15</td>\n",
       "      <td>7.87</td>\n",
       "      <td>7.41</td>\n",
       "    </tr>\n",
       "    <tr>\n",
       "      <th>1</th>\n",
       "      <td>6.22</td>\n",
       "      <td>5.21</td>\n",
       "      <td>3.61</td>\n",
       "    </tr>\n",
       "    <tr>\n",
       "      <th>2</th>\n",
       "      <td>6.76</td>\n",
       "      <td>7.94</td>\n",
       "      <td>7.23</td>\n",
       "    </tr>\n",
       "    <tr>\n",
       "      <th>3</th>\n",
       "      <td>4.29</td>\n",
       "      <td>7.36</td>\n",
       "      <td>5.53</td>\n",
       "    </tr>\n",
       "    <tr>\n",
       "      <th>4</th>\n",
       "      <td>7.08</td>\n",
       "      <td>6.17</td>\n",
       "      <td>3.97</td>\n",
       "    </tr>\n",
       "  </tbody>\n",
       "</table>\n",
       "</div>"
      ],
      "text/plain": [
       "   Supplier A  Supplier B  Supplier C\n",
       "0        6.15        7.87        7.41\n",
       "1        6.22        5.21        3.61\n",
       "2        6.76        7.94        7.23\n",
       "3        4.29        7.36        5.53\n",
       "4        7.08        6.17        3.97"
      ]
     },
     "execution_count": 30,
     "metadata": {},
     "output_type": "execute_result"
    }
   ],
   "source": [
    "cof.head(5)"
   ]
  },
  {
   "cell_type": "code",
   "execution_count": 31,
   "id": "e236c4ad",
   "metadata": {},
   "outputs": [],
   "source": [
    "cof.columns=\"SupplierA\",\"SupplierB\",\"SupplierC\""
   ]
  },
  {
   "cell_type": "code",
   "execution_count": 32,
   "id": "bac441b3",
   "metadata": {},
   "outputs": [
    {
     "name": "stdout",
     "output_type": "stream",
     "text": [
      "p-value is: 0.8961844444274902\n",
      "p-value is: 0.6483432650566101\n",
      "p-value is: 0.5719023942947388\n"
     ]
    }
   ],
   "source": [
    "#Normality test \n",
    "SupA=stats.shapiro(cof.SupplierA)    #Shapiro Test\n",
    "SupA_pValue=SupA[1]\n",
    "print(\"p-value is: \"+str(SupA_pValue))\n",
    "\n",
    "SupB=stats.shapiro(cof.SupplierB)\n",
    "SupB_pValue=SupB[1]\n",
    "print(\"p-value is: \"+str(SupB_pValue))\n",
    "\n",
    "SupC=stats.shapiro(cof.SupplierC)\n",
    "SupC_pValue=SupC[1]\n",
    "print(\"p-value is: \"+str(SupC_pValue))"
   ]
  },
  {
   "cell_type": "markdown",
   "id": "a07a375b",
   "metadata": {},
   "source": [
    "All are normal so we will now test for variance ...if They were not normal we would have to go with Mood Median Test"
   ]
  },
  {
   "cell_type": "code",
   "execution_count": 35,
   "id": "1ea96a1b",
   "metadata": {},
   "outputs": [
    {
     "name": "stdout",
     "output_type": "stream",
     "text": [
      "LeveneResult(statistic=0.03382395609148779, pvalue=0.8542383784793752)\n",
      "LeveneResult(statistic=0.24333902699144816, pvalue=0.6222596854892893)\n",
      "LeveneResult(statistic=0.4712013339466693, pvalue=0.49310323292578306)\n"
     ]
    }
   ],
   "source": [
    "#Varience Test \n",
    "print(stats.levene(cof.SupplierA, cof.SupplierB))\n",
    "print(stats.levene(cof.SupplierB, cof.SupplierC))\n",
    "print(stats.levene(cof.SupplierC, cof.SupplierA))"
   ]
  },
  {
   "cell_type": "markdown",
   "id": "d993d247",
   "metadata": {},
   "source": [
    "All have same variance as each have pvalue greater than 0.05.... failed to reject the thesis that varaince are same"
   ]
  },
  {
   "cell_type": "markdown",
   "id": "080b70c0",
   "metadata": {},
   "source": [
    "Thus we go for **ANOVA Test**...else for diff variances we would go for ANOM test"
   ]
  },
  {
   "cell_type": "code",
   "execution_count": 39,
   "id": "9b062a4c",
   "metadata": {},
   "outputs": [],
   "source": [
    "#One way Anova\n",
    "#Importing the data set of contractrenewal \n",
    "from statsmodels.formula.api import ols\n",
    "from statsmodels.stats.anova import anova_lm"
   ]
  },
  {
   "cell_type": "code",
   "execution_count": 41,
   "id": "aecd52a6",
   "metadata": {},
   "outputs": [
    {
     "name": "stdout",
     "output_type": "stream",
     "text": [
      "              df      sum_sq   mean_sq         F    PR(>F)\n",
      "SupplierB    1.0    0.943234  0.943234  0.519896  0.472324\n",
      "SupplierC    1.0    3.344433  3.344433  1.843401  0.177166\n",
      "Residual   117.0  212.269992  1.814273       NaN       NaN\n"
     ]
    }
   ],
   "source": [
    "mod=ols('SupplierA~SupplierB+SupplierC',data=cof).fit()\n",
    "aov_table=anova_lm(mod,type=2)\n",
    "#In general, if there is no significant interaction effect,\n",
    "#then type II is more powerful, and follows the principle of marginality.\n",
    "#If interaction is present, then type II is inappropriate while type III can still be used,\n",
    "#but results need to be interpreted with caution (in the presence of interactions,\n",
    "#main effects are rarely interpretable).\n",
    "print(aov_table)"
   ]
  },
  {
   "cell_type": "markdown",
   "id": "153ccf12",
   "metadata": {},
   "source": [
    "Pvalues are greater than 0.05.. thus failed to rject null hypo\n",
    "<br>thus theres no significant difference in the quality of all 3 supplier "
   ]
  }
 ],
 "metadata": {
  "kernelspec": {
   "display_name": "Python 3",
   "language": "python",
   "name": "python3"
  },
  "language_info": {
   "codemirror_mode": {
    "name": "ipython",
    "version": 3
   },
   "file_extension": ".py",
   "mimetype": "text/x-python",
   "name": "python",
   "nbconvert_exporter": "python",
   "pygments_lexer": "ipython3",
   "version": "3.8.8"
  }
 },
 "nbformat": 4,
 "nbformat_minor": 5
}
