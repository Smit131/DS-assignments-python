{
 "cells": [
  {
   "cell_type": "markdown",
   "id": "652776a0",
   "metadata": {},
   "source": [
    "## Random Forest\n",
    "### Our objective is - Use RandomForest to prepare a model on fraud data treating those who have taxable_income <= 30000 as \"Risky\" and others are \"Good\""
   ]
  },
  {
   "cell_type": "code",
   "execution_count": 132,
   "id": "32376f38",
   "metadata": {},
   "outputs": [],
   "source": [
    "#libraries\n",
    "import pandas as pd\n",
    "import numpy as np\n",
    "import matplotlib.pyplot as plt\n",
    "import seaborn as sns\n",
    "from sklearn.model_selection import train_test_split\n",
    "from sklearn.tree import DecisionTreeClassifier\n",
    "%matplotlib inline"
   ]
  },
  {
   "cell_type": "markdown",
   "id": "46052939",
   "metadata": {},
   "source": [
    "### Data exploration"
   ]
  },
  {
   "cell_type": "code",
   "execution_count": 133,
   "id": "799ad4e5",
   "metadata": {},
   "outputs": [],
   "source": [
    "df = pd.read_csv(\"G:\\Github\\DS-assignments-python\\Decision Tree\\Fraud_check.csv\")"
   ]
  },
  {
   "cell_type": "code",
   "execution_count": 134,
   "id": "749c3c14",
   "metadata": {},
   "outputs": [
    {
     "data": {
      "text/plain": [
       "(600, 6)"
      ]
     },
     "execution_count": 134,
     "metadata": {},
     "output_type": "execute_result"
    }
   ],
   "source": [
    "df.shape"
   ]
  },
  {
   "cell_type": "code",
   "execution_count": 135,
   "id": "b028656f",
   "metadata": {
    "scrolled": true
   },
   "outputs": [
    {
     "data": {
      "text/html": [
       "<div>\n",
       "<style scoped>\n",
       "    .dataframe tbody tr th:only-of-type {\n",
       "        vertical-align: middle;\n",
       "    }\n",
       "\n",
       "    .dataframe tbody tr th {\n",
       "        vertical-align: top;\n",
       "    }\n",
       "\n",
       "    .dataframe thead th {\n",
       "        text-align: right;\n",
       "    }\n",
       "</style>\n",
       "<table border=\"1\" class=\"dataframe\">\n",
       "  <thead>\n",
       "    <tr style=\"text-align: right;\">\n",
       "      <th></th>\n",
       "      <th>Undergrad</th>\n",
       "      <th>Marital.Status</th>\n",
       "      <th>Taxable.Income</th>\n",
       "      <th>City.Population</th>\n",
       "      <th>Work.Experience</th>\n",
       "      <th>Urban</th>\n",
       "    </tr>\n",
       "  </thead>\n",
       "  <tbody>\n",
       "    <tr>\n",
       "      <th>0</th>\n",
       "      <td>NO</td>\n",
       "      <td>Single</td>\n",
       "      <td>68833</td>\n",
       "      <td>50047</td>\n",
       "      <td>10</td>\n",
       "      <td>YES</td>\n",
       "    </tr>\n",
       "    <tr>\n",
       "      <th>1</th>\n",
       "      <td>YES</td>\n",
       "      <td>Divorced</td>\n",
       "      <td>33700</td>\n",
       "      <td>134075</td>\n",
       "      <td>18</td>\n",
       "      <td>YES</td>\n",
       "    </tr>\n",
       "    <tr>\n",
       "      <th>2</th>\n",
       "      <td>NO</td>\n",
       "      <td>Married</td>\n",
       "      <td>36925</td>\n",
       "      <td>160205</td>\n",
       "      <td>30</td>\n",
       "      <td>YES</td>\n",
       "    </tr>\n",
       "    <tr>\n",
       "      <th>3</th>\n",
       "      <td>YES</td>\n",
       "      <td>Single</td>\n",
       "      <td>50190</td>\n",
       "      <td>193264</td>\n",
       "      <td>15</td>\n",
       "      <td>YES</td>\n",
       "    </tr>\n",
       "    <tr>\n",
       "      <th>4</th>\n",
       "      <td>NO</td>\n",
       "      <td>Married</td>\n",
       "      <td>81002</td>\n",
       "      <td>27533</td>\n",
       "      <td>28</td>\n",
       "      <td>NO</td>\n",
       "    </tr>\n",
       "    <tr>\n",
       "      <th>5</th>\n",
       "      <td>NO</td>\n",
       "      <td>Divorced</td>\n",
       "      <td>33329</td>\n",
       "      <td>116382</td>\n",
       "      <td>0</td>\n",
       "      <td>NO</td>\n",
       "    </tr>\n",
       "    <tr>\n",
       "      <th>6</th>\n",
       "      <td>NO</td>\n",
       "      <td>Divorced</td>\n",
       "      <td>83357</td>\n",
       "      <td>80890</td>\n",
       "      <td>8</td>\n",
       "      <td>YES</td>\n",
       "    </tr>\n",
       "    <tr>\n",
       "      <th>7</th>\n",
       "      <td>YES</td>\n",
       "      <td>Single</td>\n",
       "      <td>62774</td>\n",
       "      <td>131253</td>\n",
       "      <td>3</td>\n",
       "      <td>YES</td>\n",
       "    </tr>\n",
       "    <tr>\n",
       "      <th>8</th>\n",
       "      <td>NO</td>\n",
       "      <td>Single</td>\n",
       "      <td>83519</td>\n",
       "      <td>102481</td>\n",
       "      <td>12</td>\n",
       "      <td>YES</td>\n",
       "    </tr>\n",
       "    <tr>\n",
       "      <th>9</th>\n",
       "      <td>YES</td>\n",
       "      <td>Divorced</td>\n",
       "      <td>98152</td>\n",
       "      <td>155482</td>\n",
       "      <td>4</td>\n",
       "      <td>YES</td>\n",
       "    </tr>\n",
       "  </tbody>\n",
       "</table>\n",
       "</div>"
      ],
      "text/plain": [
       "  Undergrad Marital.Status  Taxable.Income  City.Population  Work.Experience  \\\n",
       "0        NO         Single           68833            50047               10   \n",
       "1       YES       Divorced           33700           134075               18   \n",
       "2        NO        Married           36925           160205               30   \n",
       "3       YES         Single           50190           193264               15   \n",
       "4        NO        Married           81002            27533               28   \n",
       "5        NO       Divorced           33329           116382                0   \n",
       "6        NO       Divorced           83357            80890                8   \n",
       "7       YES         Single           62774           131253                3   \n",
       "8        NO         Single           83519           102481               12   \n",
       "9       YES       Divorced           98152           155482                4   \n",
       "\n",
       "  Urban  \n",
       "0   YES  \n",
       "1   YES  \n",
       "2   YES  \n",
       "3   YES  \n",
       "4    NO  \n",
       "5    NO  \n",
       "6   YES  \n",
       "7   YES  \n",
       "8   YES  \n",
       "9   YES  "
      ]
     },
     "execution_count": 135,
     "metadata": {},
     "output_type": "execute_result"
    }
   ],
   "source": [
    "df.head(10)"
   ]
  },
  {
   "cell_type": "code",
   "execution_count": 136,
   "id": "ca89fef7",
   "metadata": {},
   "outputs": [
    {
     "data": {
      "text/plain": [
       "Undergrad          0\n",
       "Marital.Status     0\n",
       "Taxable.Income     0\n",
       "City.Population    0\n",
       "Work.Experience    0\n",
       "Urban              0\n",
       "dtype: int64"
      ]
     },
     "execution_count": 136,
     "metadata": {},
     "output_type": "execute_result"
    }
   ],
   "source": [
    "df.isnull().sum()"
   ]
  },
  {
   "cell_type": "code",
   "execution_count": 137,
   "id": "32bd8397",
   "metadata": {},
   "outputs": [
    {
     "name": "stdout",
     "output_type": "stream",
     "text": [
      "<class 'pandas.core.frame.DataFrame'>\n",
      "RangeIndex: 600 entries, 0 to 599\n",
      "Data columns (total 6 columns):\n",
      " #   Column           Non-Null Count  Dtype \n",
      "---  ------           --------------  ----- \n",
      " 0   Undergrad        600 non-null    object\n",
      " 1   Marital.Status   600 non-null    object\n",
      " 2   Taxable.Income   600 non-null    int64 \n",
      " 3   City.Population  600 non-null    int64 \n",
      " 4   Work.Experience  600 non-null    int64 \n",
      " 5   Urban            600 non-null    object\n",
      "dtypes: int64(3), object(3)\n",
      "memory usage: 28.2+ KB\n"
     ]
    }
   ],
   "source": [
    "df.info()"
   ]
  },
  {
   "cell_type": "code",
   "execution_count": 138,
   "id": "064b1e8a",
   "metadata": {},
   "outputs": [
    {
     "data": {
      "text/plain": [
       "Index(['Undergrad', 'Marital.Status', 'Taxable.Income', 'City.Population',\n",
       "       'Work.Experience', 'Urban'],\n",
       "      dtype='object')"
      ]
     },
     "execution_count": 138,
     "metadata": {},
     "output_type": "execute_result"
    }
   ],
   "source": [
    "df.columns"
   ]
  },
  {
   "cell_type": "code",
   "execution_count": 139,
   "id": "ccd9f4ba",
   "metadata": {},
   "outputs": [
    {
     "data": {
      "text/plain": [
       "array(['Single', 'Divorced', 'Married'], dtype=object)"
      ]
     },
     "execution_count": 139,
     "metadata": {},
     "output_type": "execute_result"
    }
   ],
   "source": [
    "df['Marital.Status'].unique()"
   ]
  },
  {
   "cell_type": "code",
   "execution_count": 140,
   "id": "bfbe0eec",
   "metadata": {},
   "outputs": [],
   "source": [
    "#axis{0 or ‘index’, 1 or ‘columns’}, default 0\n",
    "#Axis along which the function is applied:\n",
    "\n",
    "#0 or ‘index’: apply function to each column.\n",
    "\n",
    "#1 or ‘columns’: apply function to each row."
   ]
  },
  {
   "cell_type": "code",
   "execution_count": 141,
   "id": "b9f56534",
   "metadata": {
    "scrolled": true
   },
   "outputs": [],
   "source": [
    "#df[df['Taxable.Income'] <= 30000]['Taxable.Income'] = 0\n",
    "#df[df['Taxable.Income'] > 30000]['Taxable.Income'] = 1\n",
    "#the above approch doesn't work...cause deson;t repace any values"
   ]
  },
  {
   "cell_type": "code",
   "execution_count": 142,
   "id": "39950c47",
   "metadata": {},
   "outputs": [
    {
     "data": {
      "text/plain": [
       "pandas.core.indexes.range.RangeIndex"
      ]
     },
     "execution_count": 142,
     "metadata": {},
     "output_type": "execute_result"
    }
   ],
   "source": [
    "type(df.index)"
   ]
  },
  {
   "cell_type": "code",
   "execution_count": 143,
   "id": "17440e1d",
   "metadata": {},
   "outputs": [
    {
     "data": {
      "text/plain": [
       "'one way to do it shown below...\\nfor i in list(df.index):\\n    if df.iloc[i,2]<30000:\\n        df.iloc[i,2] = 0\\n    else:\\n        df.iloc[i,2] = 1\\n'"
      ]
     },
     "execution_count": 143,
     "metadata": {},
     "output_type": "execute_result"
    }
   ],
   "source": [
    "'''one way to do it shown below...\n",
    "for i in list(df.index):\n",
    "    if df.iloc[i,2]<30000:\n",
    "        df.iloc[i,2] = 0\n",
    "    else:\n",
    "        df.iloc[i,2] = 1\n",
    "'''"
   ]
  },
  {
   "cell_type": "code",
   "execution_count": 144,
   "id": "a6c7997c",
   "metadata": {},
   "outputs": [],
   "source": [
    "# best one liners in coding to map dual values baby --\n",
    "df[\"Taxable.Income\"] = pd.Series(np.where(df[\"Taxable.Income\"]<=30000,0,1),df.index)"
   ]
  },
  {
   "cell_type": "markdown",
   "id": "1fb94e7d",
   "metadata": {},
   "source": [
    "### lil bit of data visualization"
   ]
  },
  {
   "cell_type": "markdown",
   "id": "cc0eb715",
   "metadata": {},
   "source": [
    "##### watching for - Histogram ,outliers,CORR between columns,Collumn importance Value via ......   , category column dietribution and trends\n"
   ]
  },
  {
   "cell_type": "code",
   "execution_count": 145,
   "id": "325e1517",
   "metadata": {
    "scrolled": true
   },
   "outputs": [],
   "source": [
    "# collecting numerical data in a different list\n",
    "num_col = [f for f in list(df.columns) if df[f].dtype != \"O\" ]\n",
    "obj_col = [f for f in list(df.columns) if df[f].dtype == \"O\" ]"
   ]
  },
  {
   "cell_type": "code",
   "execution_count": 146,
   "id": "1b8851ff",
   "metadata": {
    "scrolled": true
   },
   "outputs": [
    {
     "data": {
      "text/plain": [
       "['Undergrad', 'Marital.Status', 'Urban']"
      ]
     },
     "execution_count": 146,
     "metadata": {},
     "output_type": "execute_result"
    }
   ],
   "source": [
    "obj_col"
   ]
  },
  {
   "cell_type": "code",
   "execution_count": 147,
   "id": "37fc92bb",
   "metadata": {},
   "outputs": [
    {
     "data": {
      "image/png": "[encoded data removed]",
      "text/plain": [
       "<Figure size 432x288 with 1 Axes>"
      ]
     },
     "metadata": {
      "needs_background": "light"
     },
     "output_type": "display_data"
    },
    {
     "data": {
      "image/png": "[encoded data removed]",
      "text/plain": [
       "<Figure size 432x288 with 1 Axes>"
      ]
     },
     "metadata": {
      "needs_background": "light"
     },
     "output_type": "display_data"
    },
    {
     "data": {
      "image/png": "[encoded data removed]",
      "text/plain": [
       "<Figure size 432x288 with 1 Axes>"
      ]
     },
     "metadata": {
      "needs_background": "light"
     },
     "output_type": "display_data"
    }
   ],
   "source": [
    "for i in num_col:\n",
    "    df[i].hist()\n",
    "    plt.xlabel(i)\n",
    "    plt.ylabel(\"Count\")\n",
    "    plt.title(i+\" Histogram\")\n",
    "    plt.show()"
   ]
  },
  {
   "cell_type": "markdown",
   "id": "8385646b",
   "metadata": {},
   "source": [
    "##### hitogram look good ....not any collumn with highly skewed values"
   ]
  },
  {
   "cell_type": "code",
   "execution_count": 148,
   "id": "c1fa00fd",
   "metadata": {},
   "outputs": [
    {
     "data": {
      "image/png": "[encoded data removed]",
      "text/plain": [
       "<Figure size 432x288 with 1 Axes>"
      ]
     },
     "metadata": {
      "needs_background": "light"
     },
     "output_type": "display_data"
    },
    {
     "data": {
      "image/png": "[encoded data removed]",
      "text/plain": [
       "<Figure size 432x288 with 1 Axes>"
      ]
     },
     "metadata": {
      "needs_background": "light"
     },
     "output_type": "display_data"
    },
    {
     "data": {
      "image/png": "[encoded data removed]",
      "text/plain": [
       "<Figure size 432x288 with 1 Axes>"
      ]
     },
     "metadata": {
      "needs_background": "light"
     },
     "output_type": "display_data"
    }
   ],
   "source": [
    "for i in num_col:\n",
    "    df[i].plot.box()\n",
    "    plt.ylabel(\"Count\")\n",
    "    plt.title(i+\" Boxplot\")\n",
    "    plt.show()"
   ]
  },
  {
   "cell_type": "markdown",
   "id": "c6f1fe44",
   "metadata": {},
   "source": [
    "#### no outliers "
   ]
  },
  {
   "cell_type": "code",
   "execution_count": 149,
   "id": "a2ab407a",
   "metadata": {
    "scrolled": true
   },
   "outputs": [
    {
     "data": {
      "image/png": "[encoded data removed]",
      "text/plain": [
       "<Figure size 432x288 with 1 Axes>"
      ]
     },
     "metadata": {
      "needs_background": "light"
     },
     "output_type": "display_data"
    },
    {
     "data": {
      "image/png": "[encoded data removed]",
      "text/plain": [
       "<Figure size 432x288 with 1 Axes>"
      ]
     },
     "metadata": {
      "needs_background": "light"
     },
     "output_type": "display_data"
    },
    {
     "data": {
      "image/png": "[encoded data removed]",
      "text/plain": [
       "<Figure size 432x288 with 1 Axes>"
      ]
     },
     "metadata": {
      "needs_background": "light"
     },
     "output_type": "display_data"
    }
   ],
   "source": [
    "for i in num_col:\n",
    "    plt.plot(df[i],df[\"Taxable.Income\"],\"bo\")\n",
    "    plt.xlabel(i)\n",
    "    plt.ylabel(\"Taxable Income\")\n",
    "    plt.title(\"Scatter Plot\")\n",
    "    plt.show()"
   ]
  },
  {
   "cell_type": "markdown",
   "id": "2500899a",
   "metadata": {},
   "source": [
    "##### to see whether any numerical collumn as significant coreelation"
   ]
  },
  {
   "cell_type": "code",
   "execution_count": 150,
   "id": "4f11a0ce",
   "metadata": {
    "scrolled": false
   },
   "outputs": [
    {
     "data": {
      "text/plain": [
       "<AxesSubplot:>"
      ]
     },
     "execution_count": 150,
     "metadata": {},
     "output_type": "execute_result"
    },
    {
     "data": {
      "image/png": "[encoded data removed]",
      "text/plain": [
       "<Figure size 432x288 with 2 Axes>"
      ]
     },
     "metadata": {
      "needs_background": "light"
     },
     "output_type": "display_data"
    }
   ],
   "source": [
    "corrs = df.corr()\n",
    "plt.figure()\n",
    "sns.heatmap(corrs,xticklabels='auto',yticklabels='auto',cbar=True,cmap=\"viridis\")"
   ]
  },
  {
   "cell_type": "code",
   "execution_count": 151,
   "id": "e12a57e0",
   "metadata": {
    "scrolled": true
   },
   "outputs": [
    {
     "name": "stderr",
     "output_type": "stream",
     "text": [
      "C:\\Users\\Sumit\\anaconda3\\lib\\site-packages\\seaborn\\_decorators.py:36: FutureWarning: Pass the following variable as a keyword arg: x. From version 0.12, the only valid positional argument will be `data`, and passing other arguments without an explicit keyword will result in an error or misinterpretation.\n",
      "  warnings.warn(\n",
      "C:\\Users\\Sumit\\anaconda3\\lib\\site-packages\\seaborn\\_decorators.py:36: FutureWarning: Pass the following variable as a keyword arg: x. From version 0.12, the only valid positional argument will be `data`, and passing other arguments without an explicit keyword will result in an error or misinterpretation.\n",
      "  warnings.warn(\n",
      "C:\\Users\\Sumit\\anaconda3\\lib\\site-packages\\seaborn\\_decorators.py:36: FutureWarning: Pass the following variable as a keyword arg: x. From version 0.12, the only valid positional argument will be `data`, and passing other arguments without an explicit keyword will result in an error or misinterpretation.\n",
      "  warnings.warn(\n"
     ]
    },
    {
     "data": {
      "image/png": "[encoded data removed]",
      "text/plain": [
       "<Figure size 432x288 with 1 Axes>"
      ]
     },
     "metadata": {
      "needs_background": "light"
     },
     "output_type": "display_data"
    },
    {
     "data": {
      "image/png": "[encoded data removed]",
      "text/plain": [
       "<Figure size 432x288 with 1 Axes>"
      ]
     },
     "metadata": {
      "needs_background": "light"
     },
     "output_type": "display_data"
    },
    {
     "data": {
      "image/png": "[encoded data removed]",
      "text/plain": [
       "<Figure size 432x288 with 1 Axes>"
      ]
     },
     "metadata": {
      "needs_background": "light"
     },
     "output_type": "display_data"
    }
   ],
   "source": [
    "for i in obj_col:\n",
    "    plt.figure()\n",
    "    sns.countplot(i, data=df, palette='hls')"
   ]
  },
  {
   "cell_type": "code",
   "execution_count": 152,
   "id": "4311ebbc",
   "metadata": {},
   "outputs": [
    {
     "data": {
      "image/png": "[encoded data removed]",
      "text/plain": [
       "<Figure size 432x288 with 1 Axes>"
      ]
     },
     "metadata": {
      "needs_background": "light"
     },
     "output_type": "display_data"
    },
    {
     "data": {
      "image/png": "[encoded data removed]",
      "text/plain": [
       "<Figure size 432x288 with 1 Axes>"
      ]
     },
     "metadata": {
      "needs_background": "light"
     },
     "output_type": "display_data"
    },
    {
     "data": {
      "image/png": "[encoded data removed]",
      "text/plain": [
       "<Figure size 432x288 with 1 Axes>"
      ]
     },
     "metadata": {
      "needs_background": "light"
     },
     "output_type": "display_data"
    }
   ],
   "source": [
    "for i in obj_col:\n",
    "    plt.figure()\n",
    "    df.groupby(i)['Taxable.Income'].mean().plot.bar(); plt.xlabel(i); plt.ylabel('Taxable.Income')"
   ]
  },
  {
   "cell_type": "markdown",
   "id": "2c2312f7",
   "metadata": {},
   "source": [
    "#### in terms of categories....the data seems to be balanced\n",
    "#### taxable income doesn't show any sway toeards a particular category...which i thought would be different for undergrad...but it is what it is"
   ]
  },
  {
   "cell_type": "markdown",
   "id": "c79f4365",
   "metadata": {},
   "source": [
    "### Creating dummy variables and final dataset for decision tree algo"
   ]
  },
  {
   "cell_type": "code",
   "execution_count": 153,
   "id": "25b83e4e",
   "metadata": {},
   "outputs": [],
   "source": [
    "dum_m = pd.get_dummies(df,columns = ['Undergrad', 'Marital.Status','Urban'],drop_first = True)"
   ]
  },
  {
   "cell_type": "code",
   "execution_count": 154,
   "id": "7ed25bf4",
   "metadata": {
    "scrolled": true
   },
   "outputs": [
    {
     "data": {
      "text/html": [
       "<div>\n",
       "<style scoped>\n",
       "    .dataframe tbody tr th:only-of-type {\n",
       "        vertical-align: middle;\n",
       "    }\n",
       "\n",
       "    .dataframe tbody tr th {\n",
       "        vertical-align: top;\n",
       "    }\n",
       "\n",
       "    .dataframe thead th {\n",
       "        text-align: right;\n",
       "    }\n",
       "</style>\n",
       "<table border=\"1\" class=\"dataframe\">\n",
       "  <thead>\n",
       "    <tr style=\"text-align: right;\">\n",
       "      <th></th>\n",
       "      <th>Taxable.Income</th>\n",
       "      <th>City.Population</th>\n",
       "      <th>Work.Experience</th>\n",
       "      <th>Undergrad_YES</th>\n",
       "      <th>Marital.Status_Married</th>\n",
       "      <th>Marital.Status_Single</th>\n",
       "      <th>Urban_YES</th>\n",
       "    </tr>\n",
       "  </thead>\n",
       "  <tbody>\n",
       "    <tr>\n",
       "      <th>0</th>\n",
       "      <td>1</td>\n",
       "      <td>50047</td>\n",
       "      <td>10</td>\n",
       "      <td>0</td>\n",
       "      <td>0</td>\n",
       "      <td>1</td>\n",
       "      <td>1</td>\n",
       "    </tr>\n",
       "    <tr>\n",
       "      <th>1</th>\n",
       "      <td>1</td>\n",
       "      <td>134075</td>\n",
       "      <td>18</td>\n",
       "      <td>1</td>\n",
       "      <td>0</td>\n",
       "      <td>0</td>\n",
       "      <td>1</td>\n",
       "    </tr>\n",
       "    <tr>\n",
       "      <th>2</th>\n",
       "      <td>1</td>\n",
       "      <td>160205</td>\n",
       "      <td>30</td>\n",
       "      <td>0</td>\n",
       "      <td>1</td>\n",
       "      <td>0</td>\n",
       "      <td>1</td>\n",
       "    </tr>\n",
       "    <tr>\n",
       "      <th>3</th>\n",
       "      <td>1</td>\n",
       "      <td>193264</td>\n",
       "      <td>15</td>\n",
       "      <td>1</td>\n",
       "      <td>0</td>\n",
       "      <td>1</td>\n",
       "      <td>1</td>\n",
       "    </tr>\n",
       "    <tr>\n",
       "      <th>4</th>\n",
       "      <td>1</td>\n",
       "      <td>27533</td>\n",
       "      <td>28</td>\n",
       "      <td>0</td>\n",
       "      <td>1</td>\n",
       "      <td>0</td>\n",
       "      <td>0</td>\n",
       "    </tr>\n",
       "    <tr>\n",
       "      <th>...</th>\n",
       "      <td>...</td>\n",
       "      <td>...</td>\n",
       "      <td>...</td>\n",
       "      <td>...</td>\n",
       "      <td>...</td>\n",
       "      <td>...</td>\n",
       "      <td>...</td>\n",
       "    </tr>\n",
       "    <tr>\n",
       "      <th>595</th>\n",
       "      <td>1</td>\n",
       "      <td>39492</td>\n",
       "      <td>7</td>\n",
       "      <td>1</td>\n",
       "      <td>0</td>\n",
       "      <td>0</td>\n",
       "      <td>1</td>\n",
       "    </tr>\n",
       "    <tr>\n",
       "      <th>596</th>\n",
       "      <td>1</td>\n",
       "      <td>55369</td>\n",
       "      <td>2</td>\n",
       "      <td>1</td>\n",
       "      <td>0</td>\n",
       "      <td>0</td>\n",
       "      <td>1</td>\n",
       "    </tr>\n",
       "    <tr>\n",
       "      <th>597</th>\n",
       "      <td>1</td>\n",
       "      <td>154058</td>\n",
       "      <td>0</td>\n",
       "      <td>0</td>\n",
       "      <td>0</td>\n",
       "      <td>0</td>\n",
       "      <td>1</td>\n",
       "    </tr>\n",
       "    <tr>\n",
       "      <th>598</th>\n",
       "      <td>1</td>\n",
       "      <td>180083</td>\n",
       "      <td>17</td>\n",
       "      <td>1</td>\n",
       "      <td>1</td>\n",
       "      <td>0</td>\n",
       "      <td>0</td>\n",
       "    </tr>\n",
       "    <tr>\n",
       "      <th>599</th>\n",
       "      <td>1</td>\n",
       "      <td>158137</td>\n",
       "      <td>16</td>\n",
       "      <td>0</td>\n",
       "      <td>0</td>\n",
       "      <td>0</td>\n",
       "      <td>0</td>\n",
       "    </tr>\n",
       "  </tbody>\n",
       "</table>\n",
       "<p>600 rows × 7 columns</p>\n",
       "</div>"
      ],
      "text/plain": [
       "     Taxable.Income  City.Population  Work.Experience  Undergrad_YES  \\\n",
       "0                 1            50047               10              0   \n",
       "1                 1           134075               18              1   \n",
       "2                 1           160205               30              0   \n",
       "3                 1           193264               15              1   \n",
       "4                 1            27533               28              0   \n",
       "..              ...              ...              ...            ...   \n",
       "595               1            39492                7              1   \n",
       "596               1            55369                2              1   \n",
       "597               1           154058                0              0   \n",
       "598               1           180083               17              1   \n",
       "599               1           158137               16              0   \n",
       "\n",
       "     Marital.Status_Married  Marital.Status_Single  Urban_YES  \n",
       "0                         0                      1          1  \n",
       "1                         0                      0          1  \n",
       "2                         1                      0          1  \n",
       "3                         0                      1          1  \n",
       "4                         1                      0          0  \n",
       "..                      ...                    ...        ...  \n",
       "595                       0                      0          1  \n",
       "596                       0                      0          1  \n",
       "597                       0                      0          1  \n",
       "598                       1                      0          0  \n",
       "599                       0                      0          0  \n",
       "\n",
       "[600 rows x 7 columns]"
      ]
     },
     "execution_count": 154,
     "metadata": {},
     "output_type": "execute_result"
    }
   ],
   "source": [
    "dum_m"
   ]
  },
  {
   "cell_type": "code",
   "execution_count": 155,
   "id": "20341ca3",
   "metadata": {},
   "outputs": [],
   "source": [
    "#creating test and train data\n",
    "tr_df,ts_df = train_test_split(dum_m,test_size = 0.3,random_state= 13)"
   ]
  },
  {
   "cell_type": "code",
   "execution_count": 156,
   "id": "36de6562",
   "metadata": {},
   "outputs": [],
   "source": [
    "tr_df_y = tr_df.iloc[:,0]\n",
    "tr_df_x = tr_df.iloc[:,1:]\n",
    "ts_df_y = ts_df.iloc[:,0]\n",
    "ts_df_x = ts_df.iloc[:,1:]"
   ]
  },
  {
   "cell_type": "code",
   "execution_count": 157,
   "id": "ce7e7427",
   "metadata": {},
   "outputs": [
    {
     "data": {
      "text/plain": [
       "(420, 6)"
      ]
     },
     "execution_count": 157,
     "metadata": {},
     "output_type": "execute_result"
    }
   ],
   "source": [
    "tr_df_x.shape"
   ]
  },
  {
   "cell_type": "markdown",
   "id": "0b20526c",
   "metadata": {},
   "source": [
    "### Decision tree model prediction and improvisation"
   ]
  },
  {
   "cell_type": "code",
   "execution_count": 158,
   "id": "1abd84fb",
   "metadata": {},
   "outputs": [],
   "source": [
    "mark1 = DecisionTreeClassifier(criterion = \"entropy\",random_state = 13) \n",
    "mark2 = DecisionTreeClassifier(criterion = \"gini\", random_state = 13) "
   ]
  },
  {
   "cell_type": "markdown",
   "id": "59e0f318",
   "metadata": {},
   "source": [
    "#### After long ammount of research i found that entropy or gini index criterion doesn't make significant that of difference in algorithm \n",
    "#### well...Gini is said to be better in performance \n",
    "#### still we will use both and finalize the best one"
   ]
  },
  {
   "cell_type": "code",
   "execution_count": 159,
   "id": "11e5cea4",
   "metadata": {
    "scrolled": true
   },
   "outputs": [
    {
     "data": {
      "text/plain": [
       "DecisionTreeClassifier(criterion='entropy', random_state=13)"
      ]
     },
     "execution_count": 159,
     "metadata": {},
     "output_type": "execute_result"
    }
   ],
   "source": [
    "mark1.fit(tr_df_x,tr_df_y)"
   ]
  },
  {
   "cell_type": "code",
   "execution_count": 160,
   "id": "0717c853",
   "metadata": {},
   "outputs": [],
   "source": [
    "#Prediction on training set\n",
    "pred_tr = mark1.predict(tr_df_x)"
   ]
  },
  {
   "cell_type": "code",
   "execution_count": 161,
   "id": "6c49d69b",
   "metadata": {},
   "outputs": [],
   "source": [
    "#predicting on test data\n",
    "pred_ts = mark1.predict(ts_df_x)\n",
    "\n"
   ]
  },
  {
   "cell_type": "code",
   "execution_count": 162,
   "id": "1d87e367",
   "metadata": {},
   "outputs": [
    {
     "data": {
      "text/html": [
       "<div>\n",
       "<style scoped>\n",
       "    .dataframe tbody tr th:only-of-type {\n",
       "        vertical-align: middle;\n",
       "    }\n",
       "\n",
       "    .dataframe tbody tr th {\n",
       "        vertical-align: top;\n",
       "    }\n",
       "\n",
       "    .dataframe thead th {\n",
       "        text-align: right;\n",
       "    }\n",
       "</style>\n",
       "<table border=\"1\" class=\"dataframe\">\n",
       "  <thead>\n",
       "    <tr style=\"text-align: right;\">\n",
       "      <th>col_0</th>\n",
       "      <th>0</th>\n",
       "      <th>1</th>\n",
       "    </tr>\n",
       "    <tr>\n",
       "      <th>Taxable.Income</th>\n",
       "      <th></th>\n",
       "      <th></th>\n",
       "    </tr>\n",
       "  </thead>\n",
       "  <tbody>\n",
       "    <tr>\n",
       "      <th>0</th>\n",
       "      <td>93</td>\n",
       "      <td>0</td>\n",
       "    </tr>\n",
       "    <tr>\n",
       "      <th>1</th>\n",
       "      <td>0</td>\n",
       "      <td>327</td>\n",
       "    </tr>\n",
       "  </tbody>\n",
       "</table>\n",
       "</div>"
      ],
      "text/plain": [
       "col_0            0    1\n",
       "Taxable.Income         \n",
       "0               93    0\n",
       "1                0  327"
      ]
     },
     "execution_count": 162,
     "metadata": {},
     "output_type": "execute_result"
    }
   ],
   "source": [
    "#checking the crosstable\n",
    "pd.crosstab(tr_df_y,pred_tr)\n",
    "\n"
   ]
  },
  {
   "cell_type": "code",
   "execution_count": 163,
   "id": "21386d14",
   "metadata": {},
   "outputs": [
    {
     "data": {
      "text/plain": [
       "1.0"
      ]
     },
     "execution_count": 163,
     "metadata": {},
     "output_type": "execute_result"
    }
   ],
   "source": [
    "## finding the accuracy\n",
    "# Train accuracy - \n",
    "np.mean(pred_tr == tr_df_y)"
   ]
  },
  {
   "cell_type": "code",
   "execution_count": 164,
   "id": "10062af1",
   "metadata": {},
   "outputs": [
    {
     "data": {
      "text/plain": [
       "0.7055555555555556"
      ]
     },
     "execution_count": 164,
     "metadata": {},
     "output_type": "execute_result"
    }
   ],
   "source": [
    "#test accuracy\n",
    "np.mean(pred_ts == ts_df_y)"
   ]
  },
  {
   "cell_type": "code",
   "execution_count": 165,
   "id": "af4bf0ef",
   "metadata": {
    "scrolled": true
   },
   "outputs": [
    {
     "data": {
      "text/html": [
       "<div>\n",
       "<style scoped>\n",
       "    .dataframe tbody tr th:only-of-type {\n",
       "        vertical-align: middle;\n",
       "    }\n",
       "\n",
       "    .dataframe tbody tr th {\n",
       "        vertical-align: top;\n",
       "    }\n",
       "\n",
       "    .dataframe thead th {\n",
       "        text-align: right;\n",
       "    }\n",
       "</style>\n",
       "<table border=\"1\" class=\"dataframe\">\n",
       "  <thead>\n",
       "    <tr style=\"text-align: right;\">\n",
       "      <th>col_0</th>\n",
       "      <th>0</th>\n",
       "      <th>1</th>\n",
       "    </tr>\n",
       "    <tr>\n",
       "      <th>Taxable.Income</th>\n",
       "      <th></th>\n",
       "      <th></th>\n",
       "    </tr>\n",
       "  </thead>\n",
       "  <tbody>\n",
       "    <tr>\n",
       "      <th>0</th>\n",
       "      <td>12</td>\n",
       "      <td>19</td>\n",
       "    </tr>\n",
       "    <tr>\n",
       "      <th>1</th>\n",
       "      <td>34</td>\n",
       "      <td>115</td>\n",
       "    </tr>\n",
       "  </tbody>\n",
       "</table>\n",
       "</div>"
      ],
      "text/plain": [
       "col_0            0    1\n",
       "Taxable.Income         \n",
       "0               12   19\n",
       "1               34  115"
      ]
     },
     "execution_count": 165,
     "metadata": {},
     "output_type": "execute_result"
    }
   ],
   "source": [
    "pd.crosstab(ts_df_y,pred_ts)"
   ]
  },
  {
   "cell_type": "markdown",
   "id": "4b9fe485",
   "metadata": {},
   "source": [
    "### now for gini accuracy"
   ]
  },
  {
   "cell_type": "code",
   "execution_count": 166,
   "id": "8554f17c",
   "metadata": {
    "scrolled": true
   },
   "outputs": [
    {
     "data": {
      "text/plain": [
       "DecisionTreeClassifier(random_state=13)"
      ]
     },
     "execution_count": 166,
     "metadata": {},
     "output_type": "execute_result"
    }
   ],
   "source": [
    "mark2.fit(tr_df_x,tr_df_y)"
   ]
  },
  {
   "cell_type": "code",
   "execution_count": 167,
   "id": "a75e3a09",
   "metadata": {},
   "outputs": [],
   "source": [
    "#Prediction on training set\n",
    "pred_tr = mark2.predict(tr_df_x)"
   ]
  },
  {
   "cell_type": "code",
   "execution_count": 168,
   "id": "c89415e8",
   "metadata": {},
   "outputs": [],
   "source": [
    "#predicting on test data\n",
    "pred_ts = mark2.predict(ts_df_x)\n",
    "\n"
   ]
  },
  {
   "cell_type": "code",
   "execution_count": 169,
   "id": "aa25a593",
   "metadata": {},
   "outputs": [
    {
     "data": {
      "text/plain": [
       "array([1, 0, 1, 1, 1, 1, 1, 1, 0, 1, 1, 0, 1, 0, 0, 1, 0, 1, 0, 1, 1, 1,\n",
       "       0, 1, 0, 0, 1, 1, 1, 1, 1, 0, 1, 0, 1, 1, 1, 1, 0, 1, 1, 1, 0, 1,\n",
       "       1, 1, 1, 0, 1, 1, 1, 1, 1, 1, 0, 1, 1, 1, 1, 1, 1, 1, 0, 1, 0, 1,\n",
       "       1, 1, 0, 1, 0, 1, 1, 0, 1, 1, 1, 1, 1, 0, 1, 1, 1, 1, 0, 0, 1, 1,\n",
       "       1, 0, 1, 1, 1, 1, 1, 1, 1, 1, 1, 0, 1, 1, 1, 1, 0, 1, 1, 1, 0, 1,\n",
       "       1, 1, 0, 1, 1, 1, 1, 1, 1, 1, 1, 0, 1, 0, 1, 1, 1, 0, 0, 1, 1, 1,\n",
       "       0, 1, 1, 1, 0, 0, 1, 1, 0, 0, 1, 0, 1, 0, 1, 1, 1, 1, 1, 1, 1, 1,\n",
       "       1, 1, 0, 1, 0, 1, 1, 1, 1, 0, 1, 1, 0, 1, 0, 1, 1, 0, 1, 0, 1, 0,\n",
       "       1, 0, 1, 1])"
      ]
     },
     "execution_count": 169,
     "metadata": {},
     "output_type": "execute_result"
    }
   ],
   "source": [
    "pred_ts"
   ]
  },
  {
   "cell_type": "code",
   "execution_count": 170,
   "id": "3ae273cc",
   "metadata": {},
   "outputs": [
    {
     "data": {
      "text/html": [
       "<div>\n",
       "<style scoped>\n",
       "    .dataframe tbody tr th:only-of-type {\n",
       "        vertical-align: middle;\n",
       "    }\n",
       "\n",
       "    .dataframe tbody tr th {\n",
       "        vertical-align: top;\n",
       "    }\n",
       "\n",
       "    .dataframe thead th {\n",
       "        text-align: right;\n",
       "    }\n",
       "</style>\n",
       "<table border=\"1\" class=\"dataframe\">\n",
       "  <thead>\n",
       "    <tr style=\"text-align: right;\">\n",
       "      <th>col_0</th>\n",
       "      <th>0</th>\n",
       "      <th>1</th>\n",
       "    </tr>\n",
       "    <tr>\n",
       "      <th>Taxable.Income</th>\n",
       "      <th></th>\n",
       "      <th></th>\n",
       "    </tr>\n",
       "  </thead>\n",
       "  <tbody>\n",
       "    <tr>\n",
       "      <th>0</th>\n",
       "      <td>93</td>\n",
       "      <td>0</td>\n",
       "    </tr>\n",
       "    <tr>\n",
       "      <th>1</th>\n",
       "      <td>0</td>\n",
       "      <td>327</td>\n",
       "    </tr>\n",
       "  </tbody>\n",
       "</table>\n",
       "</div>"
      ],
      "text/plain": [
       "col_0            0    1\n",
       "Taxable.Income         \n",
       "0               93    0\n",
       "1                0  327"
      ]
     },
     "execution_count": 170,
     "metadata": {},
     "output_type": "execute_result"
    }
   ],
   "source": [
    "#checking the crosstable\n",
    "pd.crosstab(tr_df_y,pred_tr)\n",
    "\n"
   ]
  },
  {
   "cell_type": "code",
   "execution_count": 171,
   "id": "e8245900",
   "metadata": {},
   "outputs": [
    {
     "data": {
      "text/plain": [
       "1.0"
      ]
     },
     "execution_count": 171,
     "metadata": {},
     "output_type": "execute_result"
    }
   ],
   "source": [
    "## finding the accuracy\n",
    "# Train accuracy - \n",
    "np.mean(pred_tr == tr_df_y)\n",
    "# 100%\n"
   ]
  },
  {
   "cell_type": "code",
   "execution_count": 172,
   "id": "769c66ff",
   "metadata": {},
   "outputs": [
    {
     "data": {
      "text/plain": [
       "0.7111111111111111"
      ]
     },
     "execution_count": 172,
     "metadata": {},
     "output_type": "execute_result"
    }
   ],
   "source": [
    "#test accuracy\n",
    "np.mean(pred_ts == ts_df_y)\n",
    "# 71%\n"
   ]
  },
  {
   "cell_type": "code",
   "execution_count": 173,
   "id": "057a943a",
   "metadata": {
    "scrolled": true
   },
   "outputs": [
    {
     "data": {
      "text/html": [
       "<div>\n",
       "<style scoped>\n",
       "    .dataframe tbody tr th:only-of-type {\n",
       "        vertical-align: middle;\n",
       "    }\n",
       "\n",
       "    .dataframe tbody tr th {\n",
       "        vertical-align: top;\n",
       "    }\n",
       "\n",
       "    .dataframe thead th {\n",
       "        text-align: right;\n",
       "    }\n",
       "</style>\n",
       "<table border=\"1\" class=\"dataframe\">\n",
       "  <thead>\n",
       "    <tr style=\"text-align: right;\">\n",
       "      <th>col_0</th>\n",
       "      <th>0</th>\n",
       "      <th>1</th>\n",
       "    </tr>\n",
       "    <tr>\n",
       "      <th>Taxable.Income</th>\n",
       "      <th></th>\n",
       "      <th></th>\n",
       "    </tr>\n",
       "  </thead>\n",
       "  <tbody>\n",
       "    <tr>\n",
       "      <th>0</th>\n",
       "      <td>14</td>\n",
       "      <td>17</td>\n",
       "    </tr>\n",
       "    <tr>\n",
       "      <th>1</th>\n",
       "      <td>35</td>\n",
       "      <td>114</td>\n",
       "    </tr>\n",
       "  </tbody>\n",
       "</table>\n",
       "</div>"
      ],
      "text/plain": [
       "col_0            0    1\n",
       "Taxable.Income         \n",
       "0               14   17\n",
       "1               35  114"
      ]
     },
     "execution_count": 173,
     "metadata": {},
     "output_type": "execute_result"
    }
   ],
   "source": [
    "pd.crosstab(ts_df_y,pred_ts)"
   ]
  },
  {
   "cell_type": "markdown",
   "id": "ff8ffc83",
   "metadata": {},
   "source": [
    "##### Nearly same accuarcy forboth gini  and entropy\n",
    "#### model seems to be overfitting ...so we will prune the tree"
   ]
  },
  {
   "cell_type": "markdown",
   "id": "a1f688a6",
   "metadata": {},
   "source": [
    "#### The model seem sto be overfitting so prunning is required\n",
    "##### the fun begins..."
   ]
  },
  {
   "cell_type": "code",
   "execution_count": 174,
   "id": "7c5ec534",
   "metadata": {},
   "outputs": [],
   "source": [
    "#class sklearn.tree.DecisionTreeClassifier(*, criterion='gini', splitter='best', max_depth=None, \n",
    "#min_samples_split=2, min_samples_leaf=1, min_weight_fraction_leaf=0.0, max_features=None, random_state=None, \n",
    "#max_leaf_nodes=None, min_impurity_decrease=0.0, class_weight=None, ccp_alpha=0.0)"
   ]
  },
  {
   "cell_type": "markdown",
   "id": "acc45924",
   "metadata": {},
   "source": [
    "#### lets look to the various parameters of the trees"
   ]
  },
  {
   "cell_type": "markdown",
   "id": "e94abc57",
   "metadata": {},
   "source": [
    "### parametrs that can be adjusted - \n",
    "    1. max_depth (level upto which tree can be growned)\n",
    "    2. min_sample_split (minimum no sample after which splitting is stopped)\n",
    "    3. min_sample_leaf   (minimum no sample on bothe right and left branch leaf node to be present...helps on smoothning in regression)\n",
    "    4. max_features   (The number of features to consider when looking for the best split)\n",
    "    5. max_leaf_nodes  "
   ]
  },
  {
   "cell_type": "markdown",
   "id": "3044a5b8",
   "metadata": {},
   "source": [
    "#### we will experiment with max depth and min sample split for accuracy"
   ]
  },
  {
   "cell_type": "code",
   "execution_count": 175,
   "id": "ac05f668",
   "metadata": {},
   "outputs": [
    {
     "data": {
      "text/plain": [
       "18"
      ]
     },
     "execution_count": 175,
     "metadata": {},
     "output_type": "execute_result"
    }
   ],
   "source": [
    "mark2.get_depth()"
   ]
  },
  {
   "cell_type": "code",
   "execution_count": 176,
   "id": "1032117c",
   "metadata": {},
   "outputs": [],
   "source": [
    "mark3 = DecisionTreeClassifier(criterion = \"gini\",splitter = \"random\",random_state = 13)"
   ]
  },
  {
   "cell_type": "code",
   "execution_count": 177,
   "id": "e4c6ac62",
   "metadata": {
    "scrolled": true
   },
   "outputs": [],
   "source": [
    "mark3.fit(tr_df_x,tr_df_y)\n",
    "#Prediction on training set\n",
    "pred_tr = mark3.predict(tr_df_x)\n",
    "#predicting on test data\n",
    "pred_ts = mark3.predict(ts_df_x)"
   ]
  },
  {
   "cell_type": "code",
   "execution_count": 178,
   "id": "97f9941d",
   "metadata": {},
   "outputs": [
    {
     "data": {
      "text/plain": [
       "1.0"
      ]
     },
     "execution_count": 178,
     "metadata": {},
     "output_type": "execute_result"
    }
   ],
   "source": [
    "## finding the accuracy\n",
    "# Train accuracy - \n",
    "np.mean(pred_tr == tr_df_y)"
   ]
  },
  {
   "cell_type": "code",
   "execution_count": 179,
   "id": "cda20158",
   "metadata": {},
   "outputs": [
    {
     "data": {
      "text/plain": [
       "0.7111111111111111"
      ]
     },
     "execution_count": 179,
     "metadata": {},
     "output_type": "execute_result"
    }
   ],
   "source": [
    "#test accuracy\n",
    "np.mean(pred_ts == ts_df_y)"
   ]
  },
  {
   "cell_type": "code",
   "execution_count": 180,
   "id": "cdabbf3a",
   "metadata": {},
   "outputs": [],
   "source": [
    "mark3.fit(tr_df_x,tr_df_y)\n",
    "pred_tr = mark3.predict(tr_df_x)\n",
    "\n",
    "pred_ts = mark3.predict(ts_df_x)"
   ]
  },
  {
   "cell_type": "code",
   "execution_count": 181,
   "id": "cfe4d5ff",
   "metadata": {},
   "outputs": [],
   "source": [
    "data_depth = []\n",
    "for i in range(2,19):\n",
    "    markx = DecisionTreeClassifier(criterion = \"gini\",splitter = \"random\",random_state = 13, max_depth = i )\n",
    "    markx.fit(tr_df_x,tr_df_y)\n",
    "    pred_tr = markx.predict(tr_df_x)\n",
    "    pred_ts = markx.predict(ts_df_x)\n",
    "    tra = np.mean(pred_tr == tr_df_y)\n",
    "    tsa = np.mean(pred_ts == ts_df_y)\n",
    "    f = [i,tra,tsa]\n",
    "    data_depth.append(f)"
   ]
  },
  {
   "cell_type": "code",
   "execution_count": 182,
   "id": "a215b142",
   "metadata": {},
   "outputs": [
    {
     "data": {
      "text/plain": [
       "[[2, 0.7785714285714286, 0.8277777777777777],\n",
       " [3, 0.7785714285714286, 0.8277777777777777],\n",
       " [4, 0.7833333333333333, 0.8277777777777777],\n",
       " [5, 0.7857142857142857, 0.8166666666666667],\n",
       " [6, 0.7880952380952381, 0.7722222222222223],\n",
       " [7, 0.8238095238095238, 0.6666666666666666],\n",
       " [8, 0.8595238095238096, 0.6333333333333333],\n",
       " [9, 0.8857142857142857, 0.6888888888888889],\n",
       " [10, 0.9095238095238095, 0.6888888888888889],\n",
       " [11, 0.9571428571428572, 0.6722222222222223],\n",
       " [12, 0.9738095238095238, 0.6388888888888888],\n",
       " [13, 0.9857142857142858, 0.6166666666666667],\n",
       " [14, 0.9928571428571429, 0.6666666666666666],\n",
       " [15, 1.0, 0.7111111111111111],\n",
       " [16, 1.0, 0.7111111111111111],\n",
       " [17, 1.0, 0.7111111111111111],\n",
       " [18, 1.0, 0.7111111111111111]]"
      ]
     },
     "execution_count": 182,
     "metadata": {},
     "output_type": "execute_result"
    }
   ],
   "source": [
    "data_depth"
   ]
  },
  {
   "cell_type": "code",
   "execution_count": 183,
   "id": "0c0c1e18",
   "metadata": {},
   "outputs": [
    {
     "data": {
      "text/html": [
       "<div>\n",
       "<style scoped>\n",
       "    .dataframe tbody tr th:only-of-type {\n",
       "        vertical-align: middle;\n",
       "    }\n",
       "\n",
       "    .dataframe tbody tr th {\n",
       "        vertical-align: top;\n",
       "    }\n",
       "\n",
       "    .dataframe thead th {\n",
       "        text-align: right;\n",
       "    }\n",
       "</style>\n",
       "<table border=\"1\" class=\"dataframe\">\n",
       "  <thead>\n",
       "    <tr style=\"text-align: right;\">\n",
       "      <th></th>\n",
       "      <th>Max_depth</th>\n",
       "      <th>Training_accuracy</th>\n",
       "      <th>Test_accuracy</th>\n",
       "    </tr>\n",
       "  </thead>\n",
       "  <tbody>\n",
       "    <tr>\n",
       "      <th>0</th>\n",
       "      <td>2</td>\n",
       "      <td>0.778571</td>\n",
       "      <td>0.827778</td>\n",
       "    </tr>\n",
       "    <tr>\n",
       "      <th>1</th>\n",
       "      <td>3</td>\n",
       "      <td>0.778571</td>\n",
       "      <td>0.827778</td>\n",
       "    </tr>\n",
       "    <tr>\n",
       "      <th>2</th>\n",
       "      <td>4</td>\n",
       "      <td>0.783333</td>\n",
       "      <td>0.827778</td>\n",
       "    </tr>\n",
       "    <tr>\n",
       "      <th>3</th>\n",
       "      <td>5</td>\n",
       "      <td>0.785714</td>\n",
       "      <td>0.816667</td>\n",
       "    </tr>\n",
       "    <tr>\n",
       "      <th>4</th>\n",
       "      <td>6</td>\n",
       "      <td>0.788095</td>\n",
       "      <td>0.772222</td>\n",
       "    </tr>\n",
       "    <tr>\n",
       "      <th>5</th>\n",
       "      <td>7</td>\n",
       "      <td>0.823810</td>\n",
       "      <td>0.666667</td>\n",
       "    </tr>\n",
       "    <tr>\n",
       "      <th>6</th>\n",
       "      <td>8</td>\n",
       "      <td>0.859524</td>\n",
       "      <td>0.633333</td>\n",
       "    </tr>\n",
       "    <tr>\n",
       "      <th>7</th>\n",
       "      <td>9</td>\n",
       "      <td>0.885714</td>\n",
       "      <td>0.688889</td>\n",
       "    </tr>\n",
       "    <tr>\n",
       "      <th>8</th>\n",
       "      <td>10</td>\n",
       "      <td>0.909524</td>\n",
       "      <td>0.688889</td>\n",
       "    </tr>\n",
       "    <tr>\n",
       "      <th>9</th>\n",
       "      <td>11</td>\n",
       "      <td>0.957143</td>\n",
       "      <td>0.672222</td>\n",
       "    </tr>\n",
       "    <tr>\n",
       "      <th>10</th>\n",
       "      <td>12</td>\n",
       "      <td>0.973810</td>\n",
       "      <td>0.638889</td>\n",
       "    </tr>\n",
       "    <tr>\n",
       "      <th>11</th>\n",
       "      <td>13</td>\n",
       "      <td>0.985714</td>\n",
       "      <td>0.616667</td>\n",
       "    </tr>\n",
       "    <tr>\n",
       "      <th>12</th>\n",
       "      <td>14</td>\n",
       "      <td>0.992857</td>\n",
       "      <td>0.666667</td>\n",
       "    </tr>\n",
       "    <tr>\n",
       "      <th>13</th>\n",
       "      <td>15</td>\n",
       "      <td>1.000000</td>\n",
       "      <td>0.711111</td>\n",
       "    </tr>\n",
       "    <tr>\n",
       "      <th>14</th>\n",
       "      <td>16</td>\n",
       "      <td>1.000000</td>\n",
       "      <td>0.711111</td>\n",
       "    </tr>\n",
       "    <tr>\n",
       "      <th>15</th>\n",
       "      <td>17</td>\n",
       "      <td>1.000000</td>\n",
       "      <td>0.711111</td>\n",
       "    </tr>\n",
       "    <tr>\n",
       "      <th>16</th>\n",
       "      <td>18</td>\n",
       "      <td>1.000000</td>\n",
       "      <td>0.711111</td>\n",
       "    </tr>\n",
       "  </tbody>\n",
       "</table>\n",
       "</div>"
      ],
      "text/plain": [
       "    Max_depth  Training_accuracy  Test_accuracy\n",
       "0           2           0.778571       0.827778\n",
       "1           3           0.778571       0.827778\n",
       "2           4           0.783333       0.827778\n",
       "3           5           0.785714       0.816667\n",
       "4           6           0.788095       0.772222\n",
       "5           7           0.823810       0.666667\n",
       "6           8           0.859524       0.633333\n",
       "7           9           0.885714       0.688889\n",
       "8          10           0.909524       0.688889\n",
       "9          11           0.957143       0.672222\n",
       "10         12           0.973810       0.638889\n",
       "11         13           0.985714       0.616667\n",
       "12         14           0.992857       0.666667\n",
       "13         15           1.000000       0.711111\n",
       "14         16           1.000000       0.711111\n",
       "15         17           1.000000       0.711111\n",
       "16         18           1.000000       0.711111"
      ]
     },
     "execution_count": 183,
     "metadata": {},
     "output_type": "execute_result"
    }
   ],
   "source": [
    "df_depth = pd.DataFrame(data_depth,columns = ['Max_depth','Training_accuracy','Test_accuracy'])\n",
    "df_depth"
   ]
  },
  {
   "cell_type": "code",
   "execution_count": 184,
   "id": "8e28dc07",
   "metadata": {},
   "outputs": [
    {
     "data": {
      "image/png": "[encoded data removed]",
      "text/plain": [
       "<Figure size 720x288 with 1 Axes>"
      ]
     },
     "metadata": {
      "needs_background": "light"
     },
     "output_type": "display_data"
    }
   ],
   "source": [
    "plt.figure(figsize = (10,4))\n",
    "plt.plot(df_depth[\"Max_depth\"],df_depth[\"Training_accuracy\"], marker='o')\n",
    "plt.plot(df_depth[\"Max_depth\"],df_depth[\"Test_accuracy\"], marker='o')\n",
    "plt.legend([\"Training_accuracy\",\"Test_accuracy\"],bbox_to_anchor = (1.25, 0.6))\n",
    "plt.xlabel(\"Max_depth_value\")\n",
    "plt.ylabel(\"Training and test accuracy\")\n",
    "plt.grid(True)\n",
    "plt.show()"
   ]
  },
  {
   "cell_type": "markdown",
   "id": "50111ef2",
   "metadata": {},
   "source": [
    "### the algo performs best for max depth of 4"
   ]
  },
  {
   "cell_type": "code",
   "execution_count": 185,
   "id": "364228e1",
   "metadata": {},
   "outputs": [],
   "source": [
    "data_split = []\n",
    "for i in range(2,30):\n",
    "    marky = DecisionTreeClassifier(criterion = \"gini\",splitter = \"random\",random_state = 13, min_samples_split = i )\n",
    "    marky.fit(tr_df_x,tr_df_y)\n",
    "    pred_tr = marky.predict(tr_df_x)\n",
    "    pred_ts = marky.predict(ts_df_x)\n",
    "    tra = np.mean(pred_tr == tr_df_y)\n",
    "    tsa = np.mean(pred_ts == ts_df_y)\n",
    "    f = [i,tra,tsa]\n",
    "    data_split.append(f)"
   ]
  },
  {
   "cell_type": "code",
   "execution_count": 186,
   "id": "c5b8757c",
   "metadata": {},
   "outputs": [
    {
     "data": {
      "text/html": [
       "<div>\n",
       "<style scoped>\n",
       "    .dataframe tbody tr th:only-of-type {\n",
       "        vertical-align: middle;\n",
       "    }\n",
       "\n",
       "    .dataframe tbody tr th {\n",
       "        vertical-align: top;\n",
       "    }\n",
       "\n",
       "    .dataframe thead th {\n",
       "        text-align: right;\n",
       "    }\n",
       "</style>\n",
       "<table border=\"1\" class=\"dataframe\">\n",
       "  <thead>\n",
       "    <tr style=\"text-align: right;\">\n",
       "      <th></th>\n",
       "      <th>Min_sample_split</th>\n",
       "      <th>Training_accuracy</th>\n",
       "      <th>Test_accuracy</th>\n",
       "    </tr>\n",
       "  </thead>\n",
       "  <tbody>\n",
       "    <tr>\n",
       "      <th>0</th>\n",
       "      <td>2</td>\n",
       "      <td>1.000000</td>\n",
       "      <td>0.711111</td>\n",
       "    </tr>\n",
       "    <tr>\n",
       "      <th>1</th>\n",
       "      <td>3</td>\n",
       "      <td>0.916667</td>\n",
       "      <td>0.605556</td>\n",
       "    </tr>\n",
       "    <tr>\n",
       "      <th>2</th>\n",
       "      <td>4</td>\n",
       "      <td>0.883333</td>\n",
       "      <td>0.638889</td>\n",
       "    </tr>\n",
       "    <tr>\n",
       "      <th>3</th>\n",
       "      <td>5</td>\n",
       "      <td>0.866667</td>\n",
       "      <td>0.622222</td>\n",
       "    </tr>\n",
       "    <tr>\n",
       "      <th>4</th>\n",
       "      <td>6</td>\n",
       "      <td>0.854762</td>\n",
       "      <td>0.594444</td>\n",
       "    </tr>\n",
       "    <tr>\n",
       "      <th>5</th>\n",
       "      <td>7</td>\n",
       "      <td>0.840476</td>\n",
       "      <td>0.633333</td>\n",
       "    </tr>\n",
       "    <tr>\n",
       "      <th>6</th>\n",
       "      <td>8</td>\n",
       "      <td>0.823810</td>\n",
       "      <td>0.694444</td>\n",
       "    </tr>\n",
       "    <tr>\n",
       "      <th>7</th>\n",
       "      <td>9</td>\n",
       "      <td>0.823810</td>\n",
       "      <td>0.688889</td>\n",
       "    </tr>\n",
       "    <tr>\n",
       "      <th>8</th>\n",
       "      <td>10</td>\n",
       "      <td>0.807143</td>\n",
       "      <td>0.738889</td>\n",
       "    </tr>\n",
       "    <tr>\n",
       "      <th>9</th>\n",
       "      <td>11</td>\n",
       "      <td>0.809524</td>\n",
       "      <td>0.711111</td>\n",
       "    </tr>\n",
       "    <tr>\n",
       "      <th>10</th>\n",
       "      <td>12</td>\n",
       "      <td>0.814286</td>\n",
       "      <td>0.700000</td>\n",
       "    </tr>\n",
       "    <tr>\n",
       "      <th>11</th>\n",
       "      <td>13</td>\n",
       "      <td>0.811905</td>\n",
       "      <td>0.705556</td>\n",
       "    </tr>\n",
       "    <tr>\n",
       "      <th>12</th>\n",
       "      <td>14</td>\n",
       "      <td>0.804762</td>\n",
       "      <td>0.738889</td>\n",
       "    </tr>\n",
       "    <tr>\n",
       "      <th>13</th>\n",
       "      <td>15</td>\n",
       "      <td>0.804762</td>\n",
       "      <td>0.716667</td>\n",
       "    </tr>\n",
       "    <tr>\n",
       "      <th>14</th>\n",
       "      <td>16</td>\n",
       "      <td>0.811905</td>\n",
       "      <td>0.750000</td>\n",
       "    </tr>\n",
       "    <tr>\n",
       "      <th>15</th>\n",
       "      <td>17</td>\n",
       "      <td>0.797619</td>\n",
       "      <td>0.738889</td>\n",
       "    </tr>\n",
       "    <tr>\n",
       "      <th>16</th>\n",
       "      <td>18</td>\n",
       "      <td>0.792857</td>\n",
       "      <td>0.738889</td>\n",
       "    </tr>\n",
       "    <tr>\n",
       "      <th>17</th>\n",
       "      <td>19</td>\n",
       "      <td>0.790476</td>\n",
       "      <td>0.716667</td>\n",
       "    </tr>\n",
       "    <tr>\n",
       "      <th>18</th>\n",
       "      <td>20</td>\n",
       "      <td>0.795238</td>\n",
       "      <td>0.711111</td>\n",
       "    </tr>\n",
       "    <tr>\n",
       "      <th>19</th>\n",
       "      <td>21</td>\n",
       "      <td>0.797619</td>\n",
       "      <td>0.722222</td>\n",
       "    </tr>\n",
       "    <tr>\n",
       "      <th>20</th>\n",
       "      <td>22</td>\n",
       "      <td>0.780952</td>\n",
       "      <td>0.783333</td>\n",
       "    </tr>\n",
       "    <tr>\n",
       "      <th>21</th>\n",
       "      <td>23</td>\n",
       "      <td>0.780952</td>\n",
       "      <td>0.777778</td>\n",
       "    </tr>\n",
       "    <tr>\n",
       "      <th>22</th>\n",
       "      <td>24</td>\n",
       "      <td>0.780952</td>\n",
       "      <td>0.777778</td>\n",
       "    </tr>\n",
       "    <tr>\n",
       "      <th>23</th>\n",
       "      <td>25</td>\n",
       "      <td>0.780952</td>\n",
       "      <td>0.777778</td>\n",
       "    </tr>\n",
       "    <tr>\n",
       "      <th>24</th>\n",
       "      <td>26</td>\n",
       "      <td>0.783333</td>\n",
       "      <td>0.777778</td>\n",
       "    </tr>\n",
       "    <tr>\n",
       "      <th>25</th>\n",
       "      <td>27</td>\n",
       "      <td>0.780952</td>\n",
       "      <td>0.755556</td>\n",
       "    </tr>\n",
       "    <tr>\n",
       "      <th>26</th>\n",
       "      <td>28</td>\n",
       "      <td>0.785714</td>\n",
       "      <td>0.755556</td>\n",
       "    </tr>\n",
       "    <tr>\n",
       "      <th>27</th>\n",
       "      <td>29</td>\n",
       "      <td>0.785714</td>\n",
       "      <td>0.755556</td>\n",
       "    </tr>\n",
       "  </tbody>\n",
       "</table>\n",
       "</div>"
      ],
      "text/plain": [
       "    Min_sample_split  Training_accuracy  Test_accuracy\n",
       "0                  2           1.000000       0.711111\n",
       "1                  3           0.916667       0.605556\n",
       "2                  4           0.883333       0.638889\n",
       "3                  5           0.866667       0.622222\n",
       "4                  6           0.854762       0.594444\n",
       "5                  7           0.840476       0.633333\n",
       "6                  8           0.823810       0.694444\n",
       "7                  9           0.823810       0.688889\n",
       "8                 10           0.807143       0.738889\n",
       "9                 11           0.809524       0.711111\n",
       "10                12           0.814286       0.700000\n",
       "11                13           0.811905       0.705556\n",
       "12                14           0.804762       0.738889\n",
       "13                15           0.804762       0.716667\n",
       "14                16           0.811905       0.750000\n",
       "15                17           0.797619       0.738889\n",
       "16                18           0.792857       0.738889\n",
       "17                19           0.790476       0.716667\n",
       "18                20           0.795238       0.711111\n",
       "19                21           0.797619       0.722222\n",
       "20                22           0.780952       0.783333\n",
       "21                23           0.780952       0.777778\n",
       "22                24           0.780952       0.777778\n",
       "23                25           0.780952       0.777778\n",
       "24                26           0.783333       0.777778\n",
       "25                27           0.780952       0.755556\n",
       "26                28           0.785714       0.755556\n",
       "27                29           0.785714       0.755556"
      ]
     },
     "execution_count": 186,
     "metadata": {},
     "output_type": "execute_result"
    }
   ],
   "source": [
    "df_split = pd.DataFrame(data_split,columns = ['Min_sample_split','Training_accuracy','Test_accuracy'])\n",
    "df_split"
   ]
  },
  {
   "cell_type": "code",
   "execution_count": 187,
   "id": "72d6f105",
   "metadata": {},
   "outputs": [
    {
     "data": {
      "image/png": "[encoded data removed]",
      "text/plain": [
       "<Figure size 1080x576 with 1 Axes>"
      ]
     },
     "metadata": {
      "needs_background": "light"
     },
     "output_type": "display_data"
    }
   ],
   "source": [
    "plt.figure(figsize = (15,8))\n",
    "plt.plot(df_split[\"Min_sample_split\"],df_split[\"Training_accuracy\"], marker='o')\n",
    "plt.plot(df_split[\"Min_sample_split\"],df_split[\"Test_accuracy\"], marker='o')\n",
    "plt.legend([\"Training_accuracy\",\"Test_accuracy\"],bbox_to_anchor = (1.25, 0.6))\n",
    "plt.xlabel(\"Min_sample_split allowed\")\n",
    "plt.ylabel(\"Training and test accuracy\")\n",
    "plt.grid(True)\n",
    "plt.show()"
   ]
  },
  {
   "cell_type": "markdown",
   "id": "91ea0440",
   "metadata": {},
   "source": [
    "### best reults arefound when min samplesplit is 22"
   ]
  },
  {
   "cell_type": "markdown",
   "id": "a824df54",
   "metadata": {},
   "source": [
    "## final model"
   ]
  },
  {
   "cell_type": "code",
   "execution_count": 188,
   "id": "9ee7bf1a",
   "metadata": {},
   "outputs": [],
   "source": [
    "mark42 = DecisionTreeClassifier(criterion = \"gini\", max_depth = 4 ,min_samples_split = 22, random_state = 13)"
   ]
  },
  {
   "cell_type": "code",
   "execution_count": 189,
   "id": "f781b03b",
   "metadata": {},
   "outputs": [],
   "source": [
    "mark42.fit(tr_df_x,tr_df_y)\n",
    "pred_tr = mark42.predict(tr_df_x)\n",
    "pred_ts = mark42.predict(ts_df_x)"
   ]
  },
  {
   "cell_type": "code",
   "execution_count": 190,
   "id": "ee39a432",
   "metadata": {},
   "outputs": [
    {
     "data": {
      "text/plain": [
       "78.33333333333333"
      ]
     },
     "execution_count": 190,
     "metadata": {},
     "output_type": "execute_result"
    }
   ],
   "source": [
    "np.mean(pred_tr == tr_df_y)*100"
   ]
  },
  {
   "cell_type": "code",
   "execution_count": 191,
   "id": "09e0416f",
   "metadata": {},
   "outputs": [
    {
     "data": {
      "text/plain": [
       "83.88888888888889"
      ]
     },
     "execution_count": 191,
     "metadata": {},
     "output_type": "execute_result"
    }
   ],
   "source": [
    "np.mean(pred_ts == ts_df_y)*100"
   ]
  },
  {
   "cell_type": "markdown",
   "id": "234ac177",
   "metadata": {},
   "source": [
    "## Training Accuracy - 78.3%\n",
    "## Test Acuuracy - 83%"
   ]
  }
 ],
 "metadata": {
  "kernelspec": {
   "display_name": "Python 3",
   "language": "python",
   "name": "python3"
  },
  "language_info": {
   "codemirror_mode": {
    "name": "ipython",
    "version": 3
   },
   "file_extension": ".py",
   "mimetype": "text/x-python",
   "name": "python",
   "nbconvert_exporter": "python",
   "pygments_lexer": "ipython3",
   "version": "3.8.8"
  }
 },
 "nbformat": 4,
 "nbformat_minor": 5
}
